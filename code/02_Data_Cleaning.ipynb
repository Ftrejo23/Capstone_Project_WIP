{
 "cells": [
  {
   "cell_type": "markdown",
   "id": "90af32ba",
   "metadata": {},
   "source": [
    "# Data Cleaning\n",
    "---"
   ]
  },
  {
   "cell_type": "markdown",
   "id": "295cd7c4",
   "metadata": {},
   "source": [
    "## Now that we have web scraped our user reviews for the top 100 games on each console let's read in our data and combine it all into one master data frame."
   ]
  },
  {
   "cell_type": "code",
   "execution_count": 5,
   "id": "2d4d8960",
   "metadata": {},
   "outputs": [],
   "source": [
    "import pandas as pd"
   ]
  },
  {
   "cell_type": "code",
   "execution_count": 4,
   "id": "00f9bd51",
   "metadata": {},
   "outputs": [],
   "source": []
  },
  {
   "cell_type": "code",
   "execution_count": null,
   "id": "a1d75aa5",
   "metadata": {},
   "outputs": [],
   "source": []
  }
 ],
 "metadata": {
  "kernelspec": {
   "display_name": "Python 3 (ipykernel)",
   "language": "python",
   "name": "python3"
  },
  "language_info": {
   "codemirror_mode": {
    "name": "ipython",
    "version": 3
   },
   "file_extension": ".py",
   "mimetype": "text/x-python",
   "name": "python",
   "nbconvert_exporter": "python",
   "pygments_lexer": "ipython3",
   "version": "3.9.7"
  }
 },
 "nbformat": 4,
 "nbformat_minor": 5
}
