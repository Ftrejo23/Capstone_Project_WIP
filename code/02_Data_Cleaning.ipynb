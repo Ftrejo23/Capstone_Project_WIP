{
 "cells": [
  {
   "cell_type": "markdown",
   "id": "067eb3a8",
   "metadata": {},
   "source": [
    "# Data Cleaning\n",
    "---"
   ]
  },
  {
   "cell_type": "markdown",
   "id": "26109063",
   "metadata": {},
   "source": [
    "## Now that we have web scraped our user reviews for the top 100 games on each console let's read in our data and combine it all into one master data frame."
   ]
  },
  {
   "cell_type": "code",
   "execution_count": 5,
   "id": "765155be",
   "metadata": {},
   "outputs": [],
   "source": [
    "import pandas as pd"
   ]
  },
  {
   "cell_type": "code",
   "execution_count": 246,
   "id": "140fbab1",
   "metadata": {},
   "outputs": [],
   "source": [
    "ps4_reviews = pd.read_csv('../data/top_100_ps4_games.csv')\n",
    "xboxone_reviews = pd.read_csv('../data/top_100_xboxone_games.csv')\n",
    "switch_reviews = pd.read_csv('../data/top_100_switch_games.csv')\n",
    "pc_reviews = pd.read_csv('../data/top_100_pc_games.csv')\n",
    "xbox_series_x_reviews = pd.read_csv('../data/top_100_xbox-series-x_games.csv')\n",
    "ps5_reviews = pd.read_csv('../data/top_100_ps5_games.csv')"
   ]
  },
  {
   "cell_type": "code",
   "execution_count": 247,
   "id": "0f99d39a",
   "metadata": {},
   "outputs": [],
   "source": [
    "all_console_reviews = pd.concat(\n",
    "    [ps4_reviews, xboxone_reviews, switch_reviews, pc_reviews, xbox_series_x_reviews, ps5_reviews], \n",
    "    ignore_index=True)"
   ]
  },
  {
   "cell_type": "markdown",
   "id": "37785b25",
   "metadata": {},
   "source": [
    "### Now that we have a master data frame let's take a look at the first few rows and get the shape to see how many total rows and columns we are working with."
   ]
  },
  {
   "cell_type": "code",
   "execution_count": 248,
   "id": "5258dce3",
   "metadata": {},
   "outputs": [
    {
     "name": "stdout",
     "output_type": "stream",
     "text": [
      "(112345, 11)\n"
     ]
    },
    {
     "data": {
      "text/html": [
       "<div>\n",
       "<style scoped>\n",
       "    .dataframe tbody tr th:only-of-type {\n",
       "        vertical-align: middle;\n",
       "    }\n",
       "\n",
       "    .dataframe tbody tr th {\n",
       "        vertical-align: top;\n",
       "    }\n",
       "\n",
       "    .dataframe thead th {\n",
       "        text-align: right;\n",
       "    }\n",
       "</style>\n",
       "<table border=\"1\" class=\"dataframe\">\n",
       "  <thead>\n",
       "    <tr style=\"text-align: right;\">\n",
       "      <th></th>\n",
       "      <th>console</th>\n",
       "      <th>video_game_name</th>\n",
       "      <th>summary</th>\n",
       "      <th>developer</th>\n",
       "      <th>genre(s)</th>\n",
       "      <th>num_players</th>\n",
       "      <th>esrb_rating</th>\n",
       "      <th>critic_score</th>\n",
       "      <th>avg_user_score</th>\n",
       "      <th>user_review</th>\n",
       "      <th>user_score</th>\n",
       "    </tr>\n",
       "  </thead>\n",
       "  <tbody>\n",
       "    <tr>\n",
       "      <th>0</th>\n",
       "      <td>ps4</td>\n",
       "      <td>Red Dead Redemption 2</td>\n",
       "      <td>Developed by the creators of Grand Theft Auto ...</td>\n",
       "      <td>Rockstar Games</td>\n",
       "      <td>Genre(s): Action Adventure, Open-World</td>\n",
       "      <td># of players: Up to 32</td>\n",
       "      <td>Rating: M</td>\n",
       "      <td>97</td>\n",
       "      <td>8.6</td>\n",
       "      <td>\\nThis site is a joke, this the first time whe...</td>\n",
       "      <td>9</td>\n",
       "    </tr>\n",
       "    <tr>\n",
       "      <th>1</th>\n",
       "      <td>ps4</td>\n",
       "      <td>Red Dead Redemption 2</td>\n",
       "      <td>Developed by the creators of Grand Theft Auto ...</td>\n",
       "      <td>Rockstar Games</td>\n",
       "      <td>Genre(s): Action Adventure, Open-World</td>\n",
       "      <td># of players: Up to 32</td>\n",
       "      <td>Rating: M</td>\n",
       "      <td>97</td>\n",
       "      <td>8.6</td>\n",
       "      <td>Fair review of RDR2\\r I'm almost 15% finished ...</td>\n",
       "      <td>7</td>\n",
       "    </tr>\n",
       "    <tr>\n",
       "      <th>2</th>\n",
       "      <td>ps4</td>\n",
       "      <td>Red Dead Redemption 2</td>\n",
       "      <td>Developed by the creators of Grand Theft Auto ...</td>\n",
       "      <td>Rockstar Games</td>\n",
       "      <td>Genre(s): Action Adventure, Open-World</td>\n",
       "      <td># of players: Up to 32</td>\n",
       "      <td>Rating: M</td>\n",
       "      <td>97</td>\n",
       "      <td>8.6</td>\n",
       "      <td>I really wanted to love it. The over-world is ...</td>\n",
       "      <td>6</td>\n",
       "    </tr>\n",
       "    <tr>\n",
       "      <th>3</th>\n",
       "      <td>ps4</td>\n",
       "      <td>Red Dead Redemption 2</td>\n",
       "      <td>Developed by the creators of Grand Theft Auto ...</td>\n",
       "      <td>Rockstar Games</td>\n",
       "      <td>Genre(s): Action Adventure, Open-World</td>\n",
       "      <td># of players: Up to 32</td>\n",
       "      <td>Rating: M</td>\n",
       "      <td>97</td>\n",
       "      <td>8.6</td>\n",
       "      <td>\\nBeautiful graphics, excellent voice acting, ...</td>\n",
       "      <td>7</td>\n",
       "    </tr>\n",
       "    <tr>\n",
       "      <th>4</th>\n",
       "      <td>ps4</td>\n",
       "      <td>Red Dead Redemption 2</td>\n",
       "      <td>Developed by the creators of Grand Theft Auto ...</td>\n",
       "      <td>Rockstar Games</td>\n",
       "      <td>Genre(s): Action Adventure, Open-World</td>\n",
       "      <td># of players: Up to 32</td>\n",
       "      <td>Rating: M</td>\n",
       "      <td>97</td>\n",
       "      <td>8.6</td>\n",
       "      <td>This game is really overrated.\\rThe amazing en...</td>\n",
       "      <td>7</td>\n",
       "    </tr>\n",
       "  </tbody>\n",
       "</table>\n",
       "</div>"
      ],
      "text/plain": [
       "  console        video_game_name  \\\n",
       "0     ps4  Red Dead Redemption 2   \n",
       "1     ps4  Red Dead Redemption 2   \n",
       "2     ps4  Red Dead Redemption 2   \n",
       "3     ps4  Red Dead Redemption 2   \n",
       "4     ps4  Red Dead Redemption 2   \n",
       "\n",
       "                                             summary       developer  \\\n",
       "0  Developed by the creators of Grand Theft Auto ...  Rockstar Games   \n",
       "1  Developed by the creators of Grand Theft Auto ...  Rockstar Games   \n",
       "2  Developed by the creators of Grand Theft Auto ...  Rockstar Games   \n",
       "3  Developed by the creators of Grand Theft Auto ...  Rockstar Games   \n",
       "4  Developed by the creators of Grand Theft Auto ...  Rockstar Games   \n",
       "\n",
       "                                 genre(s)             num_players esrb_rating  \\\n",
       "0  Genre(s): Action Adventure, Open-World  # of players: Up to 32   Rating: M   \n",
       "1  Genre(s): Action Adventure, Open-World  # of players: Up to 32   Rating: M   \n",
       "2  Genre(s): Action Adventure, Open-World  # of players: Up to 32   Rating: M   \n",
       "3  Genre(s): Action Adventure, Open-World  # of players: Up to 32   Rating: M   \n",
       "4  Genre(s): Action Adventure, Open-World  # of players: Up to 32   Rating: M   \n",
       "\n",
       "   critic_score  avg_user_score  \\\n",
       "0            97             8.6   \n",
       "1            97             8.6   \n",
       "2            97             8.6   \n",
       "3            97             8.6   \n",
       "4            97             8.6   \n",
       "\n",
       "                                         user_review  user_score  \n",
       "0  \\nThis site is a joke, this the first time whe...           9  \n",
       "1  Fair review of RDR2\\r I'm almost 15% finished ...           7  \n",
       "2  I really wanted to love it. The over-world is ...           6  \n",
       "3  \\nBeautiful graphics, excellent voice acting, ...           7  \n",
       "4  This game is really overrated.\\rThe amazing en...           7  "
      ]
     },
     "execution_count": 248,
     "metadata": {},
     "output_type": "execute_result"
    }
   ],
   "source": [
    "print(all_console_reviews.shape)\n",
    "all_console_reviews.head()"
   ]
  },
  {
   "cell_type": "markdown",
   "id": "3af82e54",
   "metadata": {},
   "source": [
    "## Now let's see how many null values are present and address them\n",
    "---"
   ]
  },
  {
   "cell_type": "code",
   "execution_count": 249,
   "id": "47e951c4",
   "metadata": {},
   "outputs": [
    {
     "data": {
      "text/plain": [
       "console               0\n",
       "video_game_name       0\n",
       "summary               0\n",
       "developer             0\n",
       "genre(s)              0\n",
       "num_players        8659\n",
       "esrb_rating        6513\n",
       "critic_score          0\n",
       "avg_user_score     2729\n",
       "user_review           0\n",
       "user_score            0\n",
       "dtype: int64"
      ]
     },
     "execution_count": 249,
     "metadata": {},
     "output_type": "execute_result"
    }
   ],
   "source": [
    "all_console_reviews.isnull().sum()"
   ]
  },
  {
   "cell_type": "markdown",
   "id": "82e9676e",
   "metadata": {},
   "source": [
    "### Let's also look at what the datatypes are for the columns."
   ]
  },
  {
   "cell_type": "code",
   "execution_count": 250,
   "id": "ddaf0adb",
   "metadata": {},
   "outputs": [
    {
     "name": "stdout",
     "output_type": "stream",
     "text": [
      "<class 'pandas.core.frame.DataFrame'>\n",
      "RangeIndex: 112345 entries, 0 to 112344\n",
      "Data columns (total 11 columns):\n",
      " #   Column           Non-Null Count   Dtype  \n",
      "---  ------           --------------   -----  \n",
      " 0   console          112345 non-null  object \n",
      " 1   video_game_name  112345 non-null  object \n",
      " 2   summary          112345 non-null  object \n",
      " 3   developer        112345 non-null  object \n",
      " 4   genre(s)         112345 non-null  object \n",
      " 5   num_players      103686 non-null  object \n",
      " 6   esrb_rating      105832 non-null  object \n",
      " 7   critic_score     112345 non-null  int64  \n",
      " 8   avg_user_score   109616 non-null  float64\n",
      " 9   user_review      112345 non-null  object \n",
      " 10  user_score       112345 non-null  int64  \n",
      "dtypes: float64(1), int64(2), object(8)\n",
      "memory usage: 9.4+ MB\n"
     ]
    }
   ],
   "source": [
    "all_console_reviews.info()"
   ]
  },
  {
   "cell_type": "markdown",
   "id": "172a67d1",
   "metadata": {},
   "source": [
    "## First let's take a look at the `num_players` column, we want to clean the values and only get the number, if applicable. Then address the null values."
   ]
  },
  {
   "cell_type": "code",
   "execution_count": 251,
   "id": "34557a1d",
   "metadata": {},
   "outputs": [
    {
     "data": {
      "text/plain": [
       "array(['# of players: Up to 32', '# of players: Up to 30',\n",
       "       '# of players: No Online Multiplayer', '# of players: Up to 8',\n",
       "       '# of players: Up to 16', '# of players: Up to 10',\n",
       "       '# of players: 2', '# of players: Up to 5',\n",
       "       '# of players: Up to 4', nan, '# of players: 1 Player',\n",
       "       '# of players: Up to 12', '# of players: Up to 6',\n",
       "       '# of players: Massively Multiplayer', '# of players: Up to 60',\n",
       "       '# of players: Online Multiplayer', '# of players: Up to 64',\n",
       "       '# of players: Up to 3', '# of players: Up to 22',\n",
       "       '# of players: Up to 20', '# of players: Up to 24',\n",
       "       '# of players: Up to more than 64', '# of players: 1-16',\n",
       "       '# of players: 1-32', '# of players: Up to 18', '# of players:',\n",
       "       '# of players: 1-8', '# of players: 1-2', '# of players: 1-4',\n",
       "       '# of players: 64 Online', '# of players: 2 Online',\n",
       "       '# of players: Up to 14', '# of players: Up to 40',\n",
       "       '# of players: Friend System Only'], dtype=object)"
      ]
     },
     "execution_count": 251,
     "metadata": {},
     "output_type": "execute_result"
    }
   ],
   "source": [
    "all_console_reviews['num_players'].unique()"
   ]
  },
  {
   "cell_type": "markdown",
   "id": "9d8f23f1",
   "metadata": {},
   "source": [
    "### Replace text values to only get the number of players, for games without a simple number investigate further"
   ]
  },
  {
   "cell_type": "code",
   "execution_count": 252,
   "id": "03773630",
   "metadata": {},
   "outputs": [],
   "source": [
    "all_console_reviews['num_players'] = \\\n",
    "[val.replace('# of players: ', '').replace('Up to ', '').replace(' Player', '').replace('more than ', '')\n",
    " if type(val) != float else val for val in all_console_reviews['num_players']]"
   ]
  },
  {
   "cell_type": "code",
   "execution_count": 253,
   "id": "660c5716",
   "metadata": {},
   "outputs": [],
   "source": [
    "vals = []\n",
    "for val in all_console_reviews['num_players']:\n",
    "    if type(val) != float:\n",
    "        if '-' in val:\n",
    "            vals.append(val.split('-')[1])\n",
    "        else:\n",
    "            vals.append(val)\n",
    "    else:\n",
    "        vals.append(val)\n",
    "\n",
    "all_console_reviews['num_players'] = vals"
   ]
  },
  {
   "cell_type": "code",
   "execution_count": 254,
   "id": "568feabe",
   "metadata": {},
   "outputs": [
    {
     "data": {
      "text/plain": [
       "array(['32', '30', 'No Online Multiplayer', '8', '16', '10', '2', '5',\n",
       "       '4', nan, '1', '12', '6', 'Massively Multiplayer', '60',\n",
       "       'Online Multiplayer', '64', '3', '22', '20', '24', '18',\n",
       "       '# of players:', '64 Online', '2 Online', '14', '40',\n",
       "       'Friend System Only'], dtype=object)"
      ]
     },
     "execution_count": 254,
     "metadata": {},
     "output_type": "execute_result"
    }
   ],
   "source": [
    "all_console_reviews['num_players'].unique()"
   ]
  },
  {
   "cell_type": "markdown",
   "id": "25e75427",
   "metadata": {},
   "source": [
    "### Now that we did some initial cleaning let's look closer at games with the unique `num_players`\n",
    "- No Online Multiplayer\n",
    "- Massively Multiplayer\n",
    "- Online Multiplayer\n",
    "- \\# of players:\n",
    "- Friend System Only"
   ]
  },
  {
   "cell_type": "code",
   "execution_count": 255,
   "id": "08fbebf0",
   "metadata": {},
   "outputs": [
    {
     "data": {
      "text/plain": [
       "['Persona 5 Royal',\n",
       " 'God of War',\n",
       " 'The Last of Us Part II',\n",
       " 'Persona 5',\n",
       " 'Undertale',\n",
       " 'The Witcher 3: Wild Hunt',\n",
       " 'Shadow of the Colossus',\n",
       " 'The Witcher 3: Wild Hunt - Blood and Wine',\n",
       " 'Celeste',\n",
       " 'NieR: Automata - Game of the YoRHa Edition']"
      ]
     },
     "execution_count": 255,
     "metadata": {},
     "output_type": "execute_result"
    }
   ],
   "source": [
    "list(all_console_reviews[all_console_reviews['num_players'] == 'No Online Multiplayer']\\\n",
    "['video_game_name'].unique())[:10]"
   ]
  },
  {
   "cell_type": "markdown",
   "id": "dff3ff63",
   "metadata": {},
   "source": [
    "### For 'No Online Multiplayer' we can see that all of the games are single player games so we can change the num_players to 1."
   ]
  },
  {
   "cell_type": "code",
   "execution_count": 256,
   "id": "bf076419",
   "metadata": {},
   "outputs": [],
   "source": [
    "all_console_reviews['num_players'] = \\\n",
    "[val.replace('No Online Multiplayer', '1')\n",
    " if type(val) != float else val for val in all_console_reviews['num_players']]"
   ]
  },
  {
   "cell_type": "code",
   "execution_count": 257,
   "id": "5d8a12df",
   "metadata": {},
   "outputs": [
    {
     "data": {
      "text/plain": [
       "array(['32', '30', '1', '8', '16', '10', '2', '5', '4', nan, '12', '6',\n",
       "       'Massively Multiplayer', '60', 'Online Multiplayer', '64', '3',\n",
       "       '22', '20', '24', '18', '# of players:', '64 Online', '2 Online',\n",
       "       '14', '40', 'Friend System Only'], dtype=object)"
      ]
     },
     "execution_count": 257,
     "metadata": {},
     "output_type": "execute_result"
    }
   ],
   "source": [
    "all_console_reviews['num_players'].unique()"
   ]
  },
  {
   "cell_type": "code",
   "execution_count": 258,
   "id": "db8117c2",
   "metadata": {},
   "outputs": [
    {
     "data": {
      "text/plain": [
       "['Final Fantasy XIV: Stormblood',\n",
       " 'World of Warcraft',\n",
       " 'World of Warcraft: Wrath of the Lich King',\n",
       " 'World of Warcraft: The Burning Crusade',\n",
       " 'World of Warcraft: Cataclysm',\n",
       " 'Final Fantasy XIV: Endwalker']"
      ]
     },
     "execution_count": 258,
     "metadata": {},
     "output_type": "execute_result"
    }
   ],
   "source": [
    "list(all_console_reviews[all_console_reviews['num_players'] == 'Massively Multiplayer']\\\n",
    "['video_game_name'].unique())[:]"
   ]
  },
  {
   "cell_type": "markdown",
   "id": "1bec5b33",
   "metadata": {},
   "source": [
    "### For 'Massively Multiplayer' games which we can see are MMOs, massive multiplayer online games, they can have player counts in the millions. To keep our values within a reasonable range we will change these to a value of 150."
   ]
  },
  {
   "cell_type": "code",
   "execution_count": 259,
   "id": "554c9e0b",
   "metadata": {},
   "outputs": [],
   "source": [
    "all_console_reviews['num_players'] = \\\n",
    "[val.replace('Massively Multiplayer', '150')\n",
    " if type(val) != float else val for val in all_console_reviews['num_players']]"
   ]
  },
  {
   "cell_type": "code",
   "execution_count": 260,
   "id": "d1de2dd2",
   "metadata": {},
   "outputs": [
    {
     "data": {
      "text/plain": [
       "array(['32', '30', '1', '8', '16', '10', '2', '5', '4', nan, '12', '6',\n",
       "       '150', '60', 'Online Multiplayer', '64', '3', '22', '20', '24',\n",
       "       '18', '# of players:', '64 Online', '2 Online', '14', '40',\n",
       "       'Friend System Only'], dtype=object)"
      ]
     },
     "execution_count": 260,
     "metadata": {},
     "output_type": "execute_result"
    }
   ],
   "source": [
    "all_console_reviews['num_players'].unique()"
   ]
  },
  {
   "cell_type": "code",
   "execution_count": 261,
   "id": "5113a1b1",
   "metadata": {},
   "outputs": [
    {
     "data": {
      "text/plain": [
       "['Dreams',\n",
       " 'Divinity: Original Sin II - Definitive Edition',\n",
       " 'Apex Legends',\n",
       " 'Thronebreaker: The Witcher Tales',\n",
       " 'Warframe',\n",
       " 'Kingdom Two Crowns',\n",
       " 'Half-Life',\n",
       " \"Sid Meier's Civilization IV\",\n",
       " 'Microsoft Flight Simulator',\n",
       " 'Spelunky 2',\n",
       " 'Factorio',\n",
       " 'The Pathless']"
      ]
     },
     "execution_count": 261,
     "metadata": {},
     "output_type": "execute_result"
    }
   ],
   "source": [
    "list(all_console_reviews[all_console_reviews['num_players'] == 'Online Multiplayer']\\\n",
    "['video_game_name'].unique())[:]"
   ]
  },
  {
   "cell_type": "markdown",
   "id": "08f54d41",
   "metadata": {},
   "source": [
    "### For 'Online Multiplayer' these have varying number of players, some are MMOs, others battle royales, and others merely having a simple deathmatch mode. For simplicity sake we will change the value to 100, lower than 'Massively Multiplayer' since these were not labeled as the same."
   ]
  },
  {
   "cell_type": "code",
   "execution_count": 262,
   "id": "78b7bae3",
   "metadata": {},
   "outputs": [],
   "source": [
    "all_console_reviews['num_players'] = \\\n",
    "[val.replace('Online Multiplayer', '100')\n",
    " if type(val) != float else val for val in all_console_reviews['num_players']]"
   ]
  },
  {
   "cell_type": "code",
   "execution_count": 263,
   "id": "265fa6dd",
   "metadata": {},
   "outputs": [
    {
     "data": {
      "text/plain": [
       "array(['32', '30', '1', '8', '16', '10', '2', '5', '4', nan, '12', '6',\n",
       "       '150', '60', '100', '64', '3', '22', '20', '24', '18',\n",
       "       '# of players:', '64 Online', '2 Online', '14', '40',\n",
       "       'Friend System Only'], dtype=object)"
      ]
     },
     "execution_count": 263,
     "metadata": {},
     "output_type": "execute_result"
    }
   ],
   "source": [
    "all_console_reviews['num_players'].unique()"
   ]
  },
  {
   "cell_type": "code",
   "execution_count": 264,
   "id": "64ebacd7",
   "metadata": {},
   "outputs": [
    {
     "data": {
      "text/plain": [
       "['The Sims']"
      ]
     },
     "execution_count": 264,
     "metadata": {},
     "output_type": "execute_result"
    }
   ],
   "source": [
    "list(all_console_reviews[all_console_reviews['num_players'] == '# of players:']\\\n",
    "['video_game_name'].unique())[:]"
   ]
  },
  {
   "cell_type": "markdown",
   "id": "01edad7d",
   "metadata": {},
   "source": [
    "### The Sims is a single player game with multipler aspects that really only revolve on downloading other players creations etc. We will change this to a value of 1."
   ]
  },
  {
   "cell_type": "code",
   "execution_count": 265,
   "id": "93a1690f",
   "metadata": {},
   "outputs": [],
   "source": [
    "all_console_reviews['num_players'] = \\\n",
    "[val.replace('# of players:', '1')\n",
    " if type(val) != float else val for val in all_console_reviews['num_players']]"
   ]
  },
  {
   "cell_type": "code",
   "execution_count": 266,
   "id": "48f2bd39",
   "metadata": {},
   "outputs": [
    {
     "data": {
      "text/plain": [
       "array(['32', '30', '1', '8', '16', '10', '2', '5', '4', nan, '12', '6',\n",
       "       '150', '60', '100', '64', '3', '22', '20', '24', '18', '64 Online',\n",
       "       '2 Online', '14', '40', 'Friend System Only'], dtype=object)"
      ]
     },
     "execution_count": 266,
     "metadata": {},
     "output_type": "execute_result"
    }
   ],
   "source": [
    "all_console_reviews['num_players'].unique()"
   ]
  },
  {
   "cell_type": "code",
   "execution_count": 267,
   "id": "d22760be",
   "metadata": {},
   "outputs": [
    {
     "data": {
      "text/plain": [
       "['Control: Ultimate Edition']"
      ]
     },
     "execution_count": 267,
     "metadata": {},
     "output_type": "execute_result"
    }
   ],
   "source": [
    "list(all_console_reviews[all_console_reviews['num_players'] == 'Friend System Only']\\\n",
    "['video_game_name'].unique())[:]"
   ]
  },
  {
   "cell_type": "markdown",
   "id": "0eae6a6a",
   "metadata": {},
   "source": [
    "### Control is a single player game, change value to 1."
   ]
  },
  {
   "cell_type": "code",
   "execution_count": 268,
   "id": "d17ecb06",
   "metadata": {},
   "outputs": [],
   "source": [
    "all_console_reviews['num_players'] = \\\n",
    "[val.replace('Friend System Only', '1')\n",
    " if type(val) != float else val for val in all_console_reviews['num_players']]"
   ]
  },
  {
   "cell_type": "code",
   "execution_count": 269,
   "id": "13b4bcb8",
   "metadata": {},
   "outputs": [
    {
     "data": {
      "text/plain": [
       "array(['32', '30', '1', '8', '16', '10', '2', '5', '4', nan, '12', '6',\n",
       "       '150', '60', '100', '64', '3', '22', '20', '24', '18', '64 Online',\n",
       "       '2 Online', '14', '40'], dtype=object)"
      ]
     },
     "execution_count": 269,
     "metadata": {},
     "output_type": "execute_result"
    }
   ],
   "source": [
    "all_console_reviews['num_players'].unique()"
   ]
  },
  {
   "cell_type": "markdown",
   "id": "e365ebab",
   "metadata": {},
   "source": [
    "### Now we can do a final cleanup of values that have 'Online' and we are good to further inspect null values"
   ]
  },
  {
   "cell_type": "code",
   "execution_count": 270,
   "id": "84185cc8",
   "metadata": {},
   "outputs": [],
   "source": [
    "all_console_reviews['num_players'] = \\\n",
    "[val.replace(' Online', '')\n",
    " if type(val) != float else val for val in all_console_reviews['num_players']]"
   ]
  },
  {
   "cell_type": "code",
   "execution_count": 271,
   "id": "93037913",
   "metadata": {},
   "outputs": [
    {
     "data": {
      "text/plain": [
       "array(['32', '30', '1', '8', '16', '10', '2', '5', '4', nan, '12', '6',\n",
       "       '150', '60', '100', '64', '3', '22', '20', '24', '18', '14', '40'],\n",
       "      dtype=object)"
      ]
     },
     "execution_count": 271,
     "metadata": {},
     "output_type": "execute_result"
    }
   ],
   "source": [
    "all_console_reviews['num_players'].unique()"
   ]
  },
  {
   "cell_type": "code",
   "execution_count": 272,
   "id": "f818e913",
   "metadata": {},
   "outputs": [
    {
     "data": {
      "text/plain": [
       "array(['Final Fantasy XIV: Shadowbringers', 'INSIDE', 'Shovel Knight',\n",
       "       'Tales From The Borderlands: Episode 5 - The Vault of the Traveler',\n",
       "       'Monster Hunter: World - Iceborne', 'Rez Infinite', 'Bastion',\n",
       "       'The Binding of Isaac: Rebirth',\n",
       "       'Keep Talking and Nobody Explodes',\n",
       "       'The Talos Principle: Deluxe Edition',\n",
       "       'Nex Machina: Death Machine',\n",
       "       'Guacamelee! Super Turbo Championship Edition',\n",
       "       'Bloodborne: The Old Hunters', 'The Witness', 'Night in the Woods',\n",
       "       'TowerFall Ascension', 'Psychonauts 2', 'NBA 2K17',\n",
       "       'Destiny: The Taken King', 'Pro Evolution Soccer 2017',\n",
       "       'Forza Horizon 3: Hot Wheels', 'DiRT Rally',\n",
       "       'Killer Instinct Season 3', 'Destiny 2: Forsaken',\n",
       "       'Dying Light: The Following', 'DiRT 4', 'Firewatch',\n",
       "       'Tetris Effect: Connected', 'Chicory: A Colorful Tale',\n",
       "       \"Death's Door\", 'DUSK', 'Portal 2', 'Warcraft III: Reign of Chaos',\n",
       "       \"Sid Meier's Alpha Centauri\", 'Final Fantasy XIV: Endwalker',\n",
       "       'Out of the Park Baseball 17', 'Medal of Honor: Allied Assault',\n",
       "       'Forza Horizon 5', 'Kentucky Route Zero - Act III',\n",
       "       'Batman: Arkham City',\n",
       "       \"No One Lives Forever 2: A Spy in H.A.R.M.'s Way\",\n",
       "       'The Stanley Parable: Ultra Deluxe', 'OlliOlli World',\n",
       "       'Destiny 2: The Witch Queen', 'Tails Of Iron',\n",
       "       'Crusader Kings III: Console Edition', 'The Artful Escape',\n",
       "       'Diablo II: Resurrected', 'The King of Fighters XV',\n",
       "       'Evil Genius 2: World Domination', 'Riders Republic', 'FIFA 22',\n",
       "       'Chorus', 'Exo One', 'Super Monkey Ball: Banana Mania',\n",
       "       'Shadow Warrior 3', 'Sherlock Holmes: Chapter One',\n",
       "       'Echo Generation', 'Lost in Random', 'NHL 22',\n",
       "       'Jurassic World Evolution 2',\n",
       "       \"Assassin's Creed Valhalla: Wrath of the Druids\",\n",
       "       'Farming Simulator 22', 'Lawn Mowing Simulator', 'Trek to Yomi',\n",
       "       'Twelve Minutes', 'Gran Turismo 7',\n",
       "       'Uncharted: Legacy of Thieves Collection', 'Roki',\n",
       "       'Final Fantasy VII Remake Intergrade: Episode INTERmission',\n",
       "       'Assetto Corsa Competizione',\n",
       "       'Life is Strange: True Colors - Wavelengths', 'Eldest Souls',\n",
       "       'Ghostrunner', 'Souldiers', 'Solar Ash'], dtype=object)"
      ]
     },
     "execution_count": 272,
     "metadata": {},
     "output_type": "execute_result"
    }
   ],
   "source": [
    "all_console_reviews[all_console_reviews['num_players'].isnull()]['video_game_name'].unique()"
   ]
  },
  {
   "cell_type": "markdown",
   "id": "1c530531",
   "metadata": {},
   "source": [
    "### The list of the games above with a missing `num_players` value range from indie developed games to massive AAA franchise games. A quick spot check of a few games shows that they are single player games. For this reason we will replace all null values in this column with 1. We will also change the type into an int."
   ]
  },
  {
   "cell_type": "code",
   "execution_count": 273,
   "id": "37045333",
   "metadata": {},
   "outputs": [],
   "source": [
    "all_console_reviews['num_players'].fillna('1', inplace=True)"
   ]
  },
  {
   "cell_type": "code",
   "execution_count": 274,
   "id": "7ef1eb5c",
   "metadata": {},
   "outputs": [],
   "source": [
    "all_console_reviews['num_players'] = all_console_reviews['num_players'].astype(int)"
   ]
  },
  {
   "cell_type": "code",
   "execution_count": 275,
   "id": "dd673e35",
   "metadata": {},
   "outputs": [
    {
     "data": {
      "text/plain": [
       "console               0\n",
       "video_game_name       0\n",
       "summary               0\n",
       "developer             0\n",
       "genre(s)              0\n",
       "num_players           0\n",
       "esrb_rating        6513\n",
       "critic_score          0\n",
       "avg_user_score     2729\n",
       "user_review           0\n",
       "user_score            0\n",
       "dtype: int64"
      ]
     },
     "execution_count": 275,
     "metadata": {},
     "output_type": "execute_result"
    }
   ],
   "source": [
    "all_console_reviews.isnull().sum()"
   ]
  },
  {
   "cell_type": "markdown",
   "id": "68ed89f1",
   "metadata": {},
   "source": [
    "## Now let's take a look at the `esrb_rating` column, we want to clean the values and then address the null values. For further information on ESRB rating see [ESRB Rating Guide](https://www.esrb.org/ratings-guide/)"
   ]
  },
  {
   "cell_type": "code",
   "execution_count": 276,
   "id": "1a714edc",
   "metadata": {},
   "outputs": [
    {
     "data": {
      "text/plain": [
       "array(['Rating: M', 'Rating: T', 'Rating: E', 'Rating: E10+', nan,\n",
       "       'Rating: K-A'], dtype=object)"
      ]
     },
     "execution_count": 276,
     "metadata": {},
     "output_type": "execute_result"
    }
   ],
   "source": [
    "all_console_reviews['esrb_rating'].unique()"
   ]
  },
  {
   "cell_type": "markdown",
   "id": "cd1a8485",
   "metadata": {},
   "source": [
    "### We want to extract only the rating itself and get rid of any extra text."
   ]
  },
  {
   "cell_type": "code",
   "execution_count": 277,
   "id": "23ccfe07",
   "metadata": {},
   "outputs": [],
   "source": [
    "all_console_reviews['esrb_rating'] = \\\n",
    "[val.replace('Rating: ', '')\n",
    " if type(val) != float else val for val in all_console_reviews['esrb_rating']]"
   ]
  },
  {
   "cell_type": "code",
   "execution_count": 278,
   "id": "17ac3c54",
   "metadata": {},
   "outputs": [
    {
     "data": {
      "text/plain": [
       "array(['M', 'T', 'E', 'E10+', nan, 'K-A'], dtype=object)"
      ]
     },
     "execution_count": 278,
     "metadata": {},
     "output_type": "execute_result"
    }
   ],
   "source": [
    "all_console_reviews['esrb_rating'].unique()"
   ]
  },
  {
   "cell_type": "code",
   "execution_count": 279,
   "id": "c42ce6ea",
   "metadata": {},
   "outputs": [
    {
     "data": {
      "text/html": [
       "<div>\n",
       "<style scoped>\n",
       "    .dataframe tbody tr th:only-of-type {\n",
       "        vertical-align: middle;\n",
       "    }\n",
       "\n",
       "    .dataframe tbody tr th {\n",
       "        vertical-align: top;\n",
       "    }\n",
       "\n",
       "    .dataframe thead th {\n",
       "        text-align: right;\n",
       "    }\n",
       "</style>\n",
       "<table border=\"1\" class=\"dataframe\">\n",
       "  <thead>\n",
       "    <tr style=\"text-align: right;\">\n",
       "      <th></th>\n",
       "      <th>console</th>\n",
       "      <th>video_game_name</th>\n",
       "      <th>summary</th>\n",
       "      <th>developer</th>\n",
       "      <th>genre(s)</th>\n",
       "      <th>num_players</th>\n",
       "      <th>esrb_rating</th>\n",
       "      <th>critic_score</th>\n",
       "      <th>avg_user_score</th>\n",
       "      <th>user_review</th>\n",
       "      <th>user_score</th>\n",
       "    </tr>\n",
       "  </thead>\n",
       "  <tbody>\n",
       "    <tr>\n",
       "      <th>21860</th>\n",
       "      <td>ps4</td>\n",
       "      <td>Injustice 2: Legendary Edition</td>\n",
       "      <td>\\nNetherRealm Studios</td>\n",
       "      <td>NetherRealm Studios</td>\n",
       "      <td>Genre(s): Action, Fighting, 2D</td>\n",
       "      <td>2</td>\n",
       "      <td>NaN</td>\n",
       "      <td>88</td>\n",
       "      <td>7.7</td>\n",
       "      <td>I normally do not buy fighting games but i did...</td>\n",
       "      <td>10</td>\n",
       "    </tr>\n",
       "    <tr>\n",
       "      <th>21861</th>\n",
       "      <td>ps4</td>\n",
       "      <td>Injustice 2: Legendary Edition</td>\n",
       "      <td>\\nNetherRealm Studios</td>\n",
       "      <td>NetherRealm Studios</td>\n",
       "      <td>Genre(s): Action, Fighting, 2D</td>\n",
       "      <td>2</td>\n",
       "      <td>NaN</td>\n",
       "      <td>88</td>\n",
       "      <td>7.7</td>\n",
       "      <td>Probably the best DC superhero fighting game i...</td>\n",
       "      <td>9</td>\n",
       "    </tr>\n",
       "    <tr>\n",
       "      <th>21862</th>\n",
       "      <td>ps4</td>\n",
       "      <td>Injustice 2: Legendary Edition</td>\n",
       "      <td>\\nNetherRealm Studios</td>\n",
       "      <td>NetherRealm Studios</td>\n",
       "      <td>Genre(s): Action, Fighting, 2D</td>\n",
       "      <td>2</td>\n",
       "      <td>NaN</td>\n",
       "      <td>88</td>\n",
       "      <td>7.7</td>\n",
       "      <td>\\nOh how I long waited for this legendary edit...</td>\n",
       "      <td>10</td>\n",
       "    </tr>\n",
       "    <tr>\n",
       "      <th>21863</th>\n",
       "      <td>ps4</td>\n",
       "      <td>Injustice 2: Legendary Edition</td>\n",
       "      <td>\\nNetherRealm Studios</td>\n",
       "      <td>NetherRealm Studios</td>\n",
       "      <td>Genre(s): Action, Fighting, 2D</td>\n",
       "      <td>2</td>\n",
       "      <td>NaN</td>\n",
       "      <td>88</td>\n",
       "      <td>7.7</td>\n",
       "      <td>\\nSo this game looks amazing. My big problem i...</td>\n",
       "      <td>6</td>\n",
       "    </tr>\n",
       "    <tr>\n",
       "      <th>21864</th>\n",
       "      <td>ps4</td>\n",
       "      <td>Injustice 2: Legendary Edition</td>\n",
       "      <td>\\nNetherRealm Studios</td>\n",
       "      <td>NetherRealm Studios</td>\n",
       "      <td>Genre(s): Action, Fighting, 2D</td>\n",
       "      <td>2</td>\n",
       "      <td>NaN</td>\n",
       "      <td>88</td>\n",
       "      <td>7.7</td>\n",
       "      <td>Mudei minha nota, pois corrigiram diversos bug...</td>\n",
       "      <td>7</td>\n",
       "    </tr>\n",
       "    <tr>\n",
       "      <th>...</th>\n",
       "      <td>...</td>\n",
       "      <td>...</td>\n",
       "      <td>...</td>\n",
       "      <td>...</td>\n",
       "      <td>...</td>\n",
       "      <td>...</td>\n",
       "      <td>...</td>\n",
       "      <td>...</td>\n",
       "      <td>...</td>\n",
       "      <td>...</td>\n",
       "      <td>...</td>\n",
       "    </tr>\n",
       "    <tr>\n",
       "      <th>112340</th>\n",
       "      <td>ps5</td>\n",
       "      <td>Salt and Sacrifice</td>\n",
       "      <td>Salt and Sacrifice is the follow-up to Souls-l...</td>\n",
       "      <td>Ska Studios</td>\n",
       "      <td>Genre(s): Role-Playing, Action RPG, Action, Pl...</td>\n",
       "      <td>6</td>\n",
       "      <td>NaN</td>\n",
       "      <td>76</td>\n",
       "      <td>5.5</td>\n",
       "      <td>Edit: I got used to the controls and the game ...</td>\n",
       "      <td>7</td>\n",
       "    </tr>\n",
       "    <tr>\n",
       "      <th>112341</th>\n",
       "      <td>ps5</td>\n",
       "      <td>Salt and Sacrifice</td>\n",
       "      <td>Salt and Sacrifice is the follow-up to Souls-l...</td>\n",
       "      <td>Ska Studios</td>\n",
       "      <td>Genre(s): Role-Playing, Action RPG, Action, Pl...</td>\n",
       "      <td>6</td>\n",
       "      <td>NaN</td>\n",
       "      <td>76</td>\n",
       "      <td>5.5</td>\n",
       "      <td>\\nIf it ain't broke, don't fix it. That about ...</td>\n",
       "      <td>7</td>\n",
       "    </tr>\n",
       "    <tr>\n",
       "      <th>112342</th>\n",
       "      <td>ps5</td>\n",
       "      <td>Salt and Sacrifice</td>\n",
       "      <td>Salt and Sacrifice is the follow-up to Souls-l...</td>\n",
       "      <td>Ska Studios</td>\n",
       "      <td>Genre(s): Role-Playing, Action RPG, Action, Pl...</td>\n",
       "      <td>6</td>\n",
       "      <td>NaN</td>\n",
       "      <td>76</td>\n",
       "      <td>5.5</td>\n",
       "      <td>\\nWould give it a higher rating but they made ...</td>\n",
       "      <td>7</td>\n",
       "    </tr>\n",
       "    <tr>\n",
       "      <th>112343</th>\n",
       "      <td>ps5</td>\n",
       "      <td>Salt and Sacrifice</td>\n",
       "      <td>Salt and Sacrifice is the follow-up to Souls-l...</td>\n",
       "      <td>Ska Studios</td>\n",
       "      <td>Genre(s): Role-Playing, Action RPG, Action, Pl...</td>\n",
       "      <td>6</td>\n",
       "      <td>NaN</td>\n",
       "      <td>76</td>\n",
       "      <td>5.5</td>\n",
       "      <td>\\nUnfortunately a big step back from Salt and ...</td>\n",
       "      <td>0</td>\n",
       "    </tr>\n",
       "    <tr>\n",
       "      <th>112344</th>\n",
       "      <td>ps5</td>\n",
       "      <td>Salt and Sacrifice</td>\n",
       "      <td>Salt and Sacrifice is the follow-up to Souls-l...</td>\n",
       "      <td>Ska Studios</td>\n",
       "      <td>Genre(s): Role-Playing, Action RPG, Action, Pl...</td>\n",
       "      <td>6</td>\n",
       "      <td>NaN</td>\n",
       "      <td>76</td>\n",
       "      <td>5.5</td>\n",
       "      <td>Salt and Sanctuary was a pretty dam good game,...</td>\n",
       "      <td>4</td>\n",
       "    </tr>\n",
       "  </tbody>\n",
       "</table>\n",
       "<p>6513 rows × 11 columns</p>\n",
       "</div>"
      ],
      "text/plain": [
       "       console                 video_game_name  \\\n",
       "21860      ps4  Injustice 2: Legendary Edition   \n",
       "21861      ps4  Injustice 2: Legendary Edition   \n",
       "21862      ps4  Injustice 2: Legendary Edition   \n",
       "21863      ps4  Injustice 2: Legendary Edition   \n",
       "21864      ps4  Injustice 2: Legendary Edition   \n",
       "...        ...                             ...   \n",
       "112340     ps5              Salt and Sacrifice   \n",
       "112341     ps5              Salt and Sacrifice   \n",
       "112342     ps5              Salt and Sacrifice   \n",
       "112343     ps5              Salt and Sacrifice   \n",
       "112344     ps5              Salt and Sacrifice   \n",
       "\n",
       "                                                  summary  \\\n",
       "21860                              \\nNetherRealm Studios    \n",
       "21861                              \\nNetherRealm Studios    \n",
       "21862                              \\nNetherRealm Studios    \n",
       "21863                              \\nNetherRealm Studios    \n",
       "21864                              \\nNetherRealm Studios    \n",
       "...                                                   ...   \n",
       "112340  Salt and Sacrifice is the follow-up to Souls-l...   \n",
       "112341  Salt and Sacrifice is the follow-up to Souls-l...   \n",
       "112342  Salt and Sacrifice is the follow-up to Souls-l...   \n",
       "112343  Salt and Sacrifice is the follow-up to Souls-l...   \n",
       "112344  Salt and Sacrifice is the follow-up to Souls-l...   \n",
       "\n",
       "                  developer  \\\n",
       "21860   NetherRealm Studios   \n",
       "21861   NetherRealm Studios   \n",
       "21862   NetherRealm Studios   \n",
       "21863   NetherRealm Studios   \n",
       "21864   NetherRealm Studios   \n",
       "...                     ...   \n",
       "112340          Ska Studios   \n",
       "112341          Ska Studios   \n",
       "112342          Ska Studios   \n",
       "112343          Ska Studios   \n",
       "112344          Ska Studios   \n",
       "\n",
       "                                                 genre(s)  num_players  \\\n",
       "21860                      Genre(s): Action, Fighting, 2D            2   \n",
       "21861                      Genre(s): Action, Fighting, 2D            2   \n",
       "21862                      Genre(s): Action, Fighting, 2D            2   \n",
       "21863                      Genre(s): Action, Fighting, 2D            2   \n",
       "21864                      Genre(s): Action, Fighting, 2D            2   \n",
       "...                                                   ...          ...   \n",
       "112340  Genre(s): Role-Playing, Action RPG, Action, Pl...            6   \n",
       "112341  Genre(s): Role-Playing, Action RPG, Action, Pl...            6   \n",
       "112342  Genre(s): Role-Playing, Action RPG, Action, Pl...            6   \n",
       "112343  Genre(s): Role-Playing, Action RPG, Action, Pl...            6   \n",
       "112344  Genre(s): Role-Playing, Action RPG, Action, Pl...            6   \n",
       "\n",
       "       esrb_rating  critic_score  avg_user_score  \\\n",
       "21860          NaN            88             7.7   \n",
       "21861          NaN            88             7.7   \n",
       "21862          NaN            88             7.7   \n",
       "21863          NaN            88             7.7   \n",
       "21864          NaN            88             7.7   \n",
       "...            ...           ...             ...   \n",
       "112340         NaN            76             5.5   \n",
       "112341         NaN            76             5.5   \n",
       "112342         NaN            76             5.5   \n",
       "112343         NaN            76             5.5   \n",
       "112344         NaN            76             5.5   \n",
       "\n",
       "                                              user_review  user_score  \n",
       "21860   I normally do not buy fighting games but i did...          10  \n",
       "21861   Probably the best DC superhero fighting game i...           9  \n",
       "21862   \\nOh how I long waited for this legendary edit...          10  \n",
       "21863   \\nSo this game looks amazing. My big problem i...           6  \n",
       "21864   Mudei minha nota, pois corrigiram diversos bug...           7  \n",
       "...                                                   ...         ...  \n",
       "112340  Edit: I got used to the controls and the game ...           7  \n",
       "112341  \\nIf it ain't broke, don't fix it. That about ...           7  \n",
       "112342  \\nWould give it a higher rating but they made ...           7  \n",
       "112343  \\nUnfortunately a big step back from Salt and ...           0  \n",
       "112344  Salt and Sanctuary was a pretty dam good game,...           4  \n",
       "\n",
       "[6513 rows x 11 columns]"
      ]
     },
     "execution_count": 279,
     "metadata": {},
     "output_type": "execute_result"
    }
   ],
   "source": [
    "all_console_reviews[all_console_reviews['esrb_rating'].isna()]"
   ]
  },
  {
   "cell_type": "code",
   "execution_count": null,
   "id": "9fd82b16",
   "metadata": {},
   "outputs": [],
   "source": []
  },
  {
   "cell_type": "code",
   "execution_count": null,
   "id": "26538071",
   "metadata": {},
   "outputs": [],
   "source": []
  },
  {
   "cell_type": "code",
   "execution_count": null,
   "id": "c2fc7699",
   "metadata": {},
   "outputs": [],
   "source": []
  },
  {
   "cell_type": "code",
   "execution_count": null,
   "id": "64da3bf4",
   "metadata": {},
   "outputs": [],
   "source": []
  },
  {
   "cell_type": "code",
   "execution_count": null,
   "id": "a4932625",
   "metadata": {},
   "outputs": [],
   "source": []
  },
  {
   "cell_type": "code",
   "execution_count": null,
   "id": "a9847849",
   "metadata": {},
   "outputs": [],
   "source": []
  },
  {
   "cell_type": "code",
   "execution_count": null,
   "id": "339aad87",
   "metadata": {},
   "outputs": [],
   "source": []
  },
  {
   "cell_type": "code",
   "execution_count": null,
   "id": "7362fc88",
   "metadata": {},
   "outputs": [],
   "source": []
  },
  {
   "cell_type": "code",
   "execution_count": null,
   "id": "04225167",
   "metadata": {},
   "outputs": [],
   "source": []
  },
  {
   "cell_type": "code",
   "execution_count": null,
   "id": "e0878009",
   "metadata": {},
   "outputs": [],
   "source": []
  }
 ],
 "metadata": {
  "kernelspec": {
   "display_name": "Python 3 (ipykernel)",
   "language": "python",
   "name": "python3"
  },
  "language_info": {
   "codemirror_mode": {
    "name": "ipython",
    "version": 3
   },
   "file_extension": ".py",
   "mimetype": "text/x-python",
   "name": "python",
   "nbconvert_exporter": "python",
   "pygments_lexer": "ipython3",
   "version": "3.9.7"
  }
 },
 "nbformat": 4,
 "nbformat_minor": 5
}
