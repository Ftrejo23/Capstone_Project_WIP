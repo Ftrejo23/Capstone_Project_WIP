{
 "cells": [
  {
   "cell_type": "markdown",
   "id": "854bfce6",
   "metadata": {},
   "source": [
    "# Executive Summary\n",
    "---"
   ]
  },
  {
   "cell_type": "markdown",
   "id": "85e32949",
   "metadata": {},
   "source": [
    "# Preprocessing & Modeling\n",
    "---"
   ]
  },
  {
   "cell_type": "markdown",
   "id": "3f071c5f",
   "metadata": {},
   "source": [
    "## Load in final data for preprocessing and modeling"
   ]
  },
  {
   "cell_type": "code",
   "execution_count": 1,
   "id": "1bd5cbfd",
   "metadata": {},
   "outputs": [],
   "source": [
    "import pandas as pd\n",
    "import numpy as np\n",
    "import seaborn as sns\n",
    "from scipy import stats\n",
    "import matplotlib.pyplot as plt \n",
    "from matplotlib.patches import Patch\n",
    "plt.style.use('fivethirtyeight')"
   ]
  },
  {
   "cell_type": "code",
   "execution_count": 2,
   "id": "1dc56003",
   "metadata": {},
   "outputs": [],
   "source": [
    "final_reviews_df = pd.read_csv('../data/final_all_console_reviews.csv')"
   ]
  },
  {
   "cell_type": "code",
   "execution_count": 3,
   "id": "1b5a4a61",
   "metadata": {},
   "outputs": [
    {
     "data": {
      "text/html": [
       "<div>\n",
       "<style scoped>\n",
       "    .dataframe tbody tr th:only-of-type {\n",
       "        vertical-align: middle;\n",
       "    }\n",
       "\n",
       "    .dataframe tbody tr th {\n",
       "        vertical-align: top;\n",
       "    }\n",
       "\n",
       "    .dataframe thead th {\n",
       "        text-align: right;\n",
       "    }\n",
       "</style>\n",
       "<table border=\"1\" class=\"dataframe\">\n",
       "  <thead>\n",
       "    <tr style=\"text-align: right;\">\n",
       "      <th></th>\n",
       "      <th>console</th>\n",
       "      <th>video_game_name</th>\n",
       "      <th>summary</th>\n",
       "      <th>developer</th>\n",
       "      <th>genre(s)</th>\n",
       "      <th>num_players</th>\n",
       "      <th>esrb_rating</th>\n",
       "      <th>critic_score</th>\n",
       "      <th>avg_user_score</th>\n",
       "      <th>user_review</th>\n",
       "      <th>user_score</th>\n",
       "      <th>target</th>\n",
       "    </tr>\n",
       "  </thead>\n",
       "  <tbody>\n",
       "    <tr>\n",
       "      <th>0</th>\n",
       "      <td>ps4</td>\n",
       "      <td>Red Dead Redemption 2</td>\n",
       "      <td>developed by the creators of grand theft auto ...</td>\n",
       "      <td>Rockstar Games</td>\n",
       "      <td>Action Adventure, Open-World</td>\n",
       "      <td>32</td>\n",
       "      <td>M</td>\n",
       "      <td>97</td>\n",
       "      <td>8.6</td>\n",
       "      <td>this site is a joke this the first time when i...</td>\n",
       "      <td>9</td>\n",
       "      <td>1</td>\n",
       "    </tr>\n",
       "    <tr>\n",
       "      <th>1</th>\n",
       "      <td>ps4</td>\n",
       "      <td>Red Dead Redemption 2</td>\n",
       "      <td>developed by the creators of grand theft auto ...</td>\n",
       "      <td>Rockstar Games</td>\n",
       "      <td>Action Adventure, Open-World</td>\n",
       "      <td>32</td>\n",
       "      <td>M</td>\n",
       "      <td>97</td>\n",
       "      <td>8.6</td>\n",
       "      <td>fair review of rdr2 im almost &lt;number&gt; finishe...</td>\n",
       "      <td>7</td>\n",
       "      <td>1</td>\n",
       "    </tr>\n",
       "    <tr>\n",
       "      <th>2</th>\n",
       "      <td>ps4</td>\n",
       "      <td>Red Dead Redemption 2</td>\n",
       "      <td>developed by the creators of grand theft auto ...</td>\n",
       "      <td>Rockstar Games</td>\n",
       "      <td>Action Adventure, Open-World</td>\n",
       "      <td>32</td>\n",
       "      <td>M</td>\n",
       "      <td>97</td>\n",
       "      <td>8.6</td>\n",
       "      <td>i really wanted to love it the overworld is be...</td>\n",
       "      <td>6</td>\n",
       "      <td>1</td>\n",
       "    </tr>\n",
       "    <tr>\n",
       "      <th>3</th>\n",
       "      <td>ps4</td>\n",
       "      <td>Red Dead Redemption 2</td>\n",
       "      <td>developed by the creators of grand theft auto ...</td>\n",
       "      <td>Rockstar Games</td>\n",
       "      <td>Action Adventure, Open-World</td>\n",
       "      <td>32</td>\n",
       "      <td>M</td>\n",
       "      <td>97</td>\n",
       "      <td>8.6</td>\n",
       "      <td>beautiful graphics excellent voice acting lots...</td>\n",
       "      <td>7</td>\n",
       "      <td>1</td>\n",
       "    </tr>\n",
       "    <tr>\n",
       "      <th>4</th>\n",
       "      <td>ps4</td>\n",
       "      <td>Red Dead Redemption 2</td>\n",
       "      <td>developed by the creators of grand theft auto ...</td>\n",
       "      <td>Rockstar Games</td>\n",
       "      <td>Action Adventure, Open-World</td>\n",
       "      <td>32</td>\n",
       "      <td>M</td>\n",
       "      <td>97</td>\n",
       "      <td>8.6</td>\n",
       "      <td>this game is really overrated the amazing envi...</td>\n",
       "      <td>7</td>\n",
       "      <td>1</td>\n",
       "    </tr>\n",
       "  </tbody>\n",
       "</table>\n",
       "</div>"
      ],
      "text/plain": [
       "  console        video_game_name  \\\n",
       "0     ps4  Red Dead Redemption 2   \n",
       "1     ps4  Red Dead Redemption 2   \n",
       "2     ps4  Red Dead Redemption 2   \n",
       "3     ps4  Red Dead Redemption 2   \n",
       "4     ps4  Red Dead Redemption 2   \n",
       "\n",
       "                                             summary       developer  \\\n",
       "0  developed by the creators of grand theft auto ...  Rockstar Games   \n",
       "1  developed by the creators of grand theft auto ...  Rockstar Games   \n",
       "2  developed by the creators of grand theft auto ...  Rockstar Games   \n",
       "3  developed by the creators of grand theft auto ...  Rockstar Games   \n",
       "4  developed by the creators of grand theft auto ...  Rockstar Games   \n",
       "\n",
       "                       genre(s)  num_players esrb_rating  critic_score  \\\n",
       "0  Action Adventure, Open-World           32           M            97   \n",
       "1  Action Adventure, Open-World           32           M            97   \n",
       "2  Action Adventure, Open-World           32           M            97   \n",
       "3  Action Adventure, Open-World           32           M            97   \n",
       "4  Action Adventure, Open-World           32           M            97   \n",
       "\n",
       "   avg_user_score                                        user_review  \\\n",
       "0             8.6  this site is a joke this the first time when i...   \n",
       "1             8.6  fair review of rdr2 im almost <number> finishe...   \n",
       "2             8.6  i really wanted to love it the overworld is be...   \n",
       "3             8.6  beautiful graphics excellent voice acting lots...   \n",
       "4             8.6  this game is really overrated the amazing envi...   \n",
       "\n",
       "   user_score  target  \n",
       "0           9       1  \n",
       "1           7       1  \n",
       "2           6       1  \n",
       "3           7       1  \n",
       "4           7       1  "
      ]
     },
     "execution_count": 3,
     "metadata": {},
     "output_type": "execute_result"
    }
   ],
   "source": [
    "final_reviews_df.head()"
   ]
  },
  {
   "cell_type": "markdown",
   "id": "dad80613",
   "metadata": {},
   "source": [
    "## Let's take a look at some of the columns from our EDA to see if we need to make any edits."
   ]
  },
  {
   "cell_type": "markdown",
   "id": "05a6841c",
   "metadata": {},
   "source": [
    "## `avg_user_score` had potential outliers below 6.5 lets take a closer look"
   ]
  },
  {
   "cell_type": "code",
   "execution_count": 4,
   "id": "9442e310",
   "metadata": {},
   "outputs": [
    {
     "data": {
      "text/plain": [
       "1    57740\n",
       "0    54605\n",
       "Name: target, dtype: int64"
      ]
     },
     "execution_count": 4,
     "metadata": {},
     "output_type": "execute_result"
    }
   ],
   "source": [
    "final_reviews_df.target.value_counts()"
   ]
  },
  {
   "cell_type": "code",
   "execution_count": 5,
   "id": "2120caa3",
   "metadata": {
    "scrolled": false
   },
   "outputs": [
    {
     "data": {
      "text/plain": [
       "1    57740\n",
       "0    48002\n",
       "Name: target, dtype: int64"
      ]
     },
     "execution_count": 5,
     "metadata": {},
     "output_type": "execute_result"
    }
   ],
   "source": [
    "final_reviews_df[final_reviews_df['avg_user_score'] > 6.05].target.value_counts()"
   ]
  },
  {
   "cell_type": "markdown",
   "id": "19ec8332",
   "metadata": {},
   "source": [
    "### Removing these outliers removes 5681 reviews with a target of 0. Let's go ahead and drop these from our dataframe."
   ]
  },
  {
   "cell_type": "code",
   "execution_count": 6,
   "id": "7637d448",
   "metadata": {},
   "outputs": [],
   "source": [
    "final_reviews_df.drop((final_reviews_df[final_reviews_df['avg_user_score'] < 6.05].index), inplace=True)"
   ]
  },
  {
   "cell_type": "markdown",
   "id": "62325f6a",
   "metadata": {},
   "source": [
    "## `critic_score` had some potential outliers (scores below 78), let's take a look"
   ]
  },
  {
   "cell_type": "code",
   "execution_count": 7,
   "id": "98dff230",
   "metadata": {},
   "outputs": [
    {
     "data": {
      "text/plain": [
       "1    57740\n",
       "0    48002\n",
       "Name: target, dtype: int64"
      ]
     },
     "execution_count": 7,
     "metadata": {},
     "output_type": "execute_result"
    }
   ],
   "source": [
    "final_reviews_df.target.value_counts()"
   ]
  },
  {
   "cell_type": "code",
   "execution_count": 8,
   "id": "e6cdf4b4",
   "metadata": {
    "scrolled": false
   },
   "outputs": [
    {
     "data": {
      "text/plain": [
       "1    57718\n",
       "0    47016\n",
       "Name: target, dtype: int64"
      ]
     },
     "execution_count": 8,
     "metadata": {},
     "output_type": "execute_result"
    }
   ],
   "source": [
    "final_reviews_df[final_reviews_df['critic_score'] > 78].target.value_counts()"
   ]
  },
  {
   "cell_type": "markdown",
   "id": "43720e43",
   "metadata": {},
   "source": [
    "### Removing outliers in critic score removes 1826 reviews, primarily reviews with a target of 0. Let's go ahead and drop these rows from our main dataframe"
   ]
  },
  {
   "cell_type": "code",
   "execution_count": 9,
   "id": "f824da0e",
   "metadata": {
    "scrolled": false
   },
   "outputs": [],
   "source": [
    "final_reviews_df.drop((final_reviews_df[final_reviews_df['critic_score'] < 78].index), inplace=True)"
   ]
  },
  {
   "cell_type": "markdown",
   "id": "0399225b",
   "metadata": {},
   "source": [
    "## `user_score` had some potential outliers (scores below 2.5), let's take a look"
   ]
  },
  {
   "cell_type": "code",
   "execution_count": 10,
   "id": "db7c4a84",
   "metadata": {},
   "outputs": [
    {
     "data": {
      "text/plain": [
       "1    57718\n",
       "0    47120\n",
       "Name: target, dtype: int64"
      ]
     },
     "execution_count": 10,
     "metadata": {},
     "output_type": "execute_result"
    }
   ],
   "source": [
    "final_reviews_df.target.value_counts()"
   ]
  },
  {
   "cell_type": "code",
   "execution_count": 11,
   "id": "1836e9e4",
   "metadata": {
    "scrolled": false
   },
   "outputs": [
    {
     "data": {
      "text/plain": [
       "1    54506\n",
       "0    39923\n",
       "Name: target, dtype: int64"
      ]
     },
     "execution_count": 11,
     "metadata": {},
     "output_type": "execute_result"
    }
   ],
   "source": [
    "final_reviews_df[final_reviews_df['user_score'] > 2.5].target.value_counts()"
   ]
  },
  {
   "cell_type": "code",
   "execution_count": 12,
   "id": "89bd31df",
   "metadata": {},
   "outputs": [
    {
     "data": {
      "text/plain": [
       "Mortal Kombat X                                                              4\n",
       "Chivalry 2                                                                   4\n",
       "Warframe                                                                     4\n",
       "Injustice 2: Legendary Edition                                               4\n",
       "Forza Horizon 2                                                              4\n",
       "Astro Bot: Rescue Mission                                                    4\n",
       "Bug Fables: The Everlasting Sapling                                          4\n",
       "The Orange Box                                                               4\n",
       "Control: Ultimate Edition                                                    4\n",
       "DiRT Rally                                                                   4\n",
       "The King of Fighters XV                                                      4\n",
       "DmC: Devil May Cry Definitive Edition                                        4\n",
       "Metro Exodus: Complete Edition                                               3\n",
       "Guilty Gear -Strive-                                                         3\n",
       "Final Fantasy XIV: Stormblood                                                3\n",
       "Sonic Mania Plus                                                             3\n",
       "Minecraft: Xbox One Edition                                                  3\n",
       "Guacamelee! 2                                                                3\n",
       "Tetris Effect: Connected                                                     3\n",
       "Bayonetta + Bayonetta 2                                                      3\n",
       "Scarlet Nexus                                                                3\n",
       "Baldur's Gate                                                                3\n",
       "Katamari Damacy REROLL                                                       3\n",
       "The Messenger                                                                3\n",
       "Cadence of Hyrule: Crypt of the NecroDancer Featuring The Legend of Zelda    3\n",
       "Diablo III: Eternal Collection                                               3\n",
       "WWE 2K22                                                                     3\n",
       "Galactic Civilizations II: Twilight of the Arnor                             3\n",
       "Unreal Tournament 2004                                                       3\n",
       "Chicory: A Colorful Tale                                                     3\n",
       "World Soccer Winning Eleven 7 International                                  3\n",
       "System Shock 2                                                               2\n",
       "Jurassic World Evolution 2                                                   2\n",
       "Riders Republic                                                              2\n",
       "The Nioh Collection                                                          2\n",
       "FAR: Changing Tides                                                          2\n",
       "Alan Wake Remastered                                                         2\n",
       "F1 2020                                                                      2\n",
       "Observer                                                                     2\n",
       "DiRT 4                                                                       2\n",
       "Dark Souls Remastered                                                        2\n",
       "Bastion                                                                      2\n",
       "Overcooked! All You Can Eat                                                  2\n",
       "Into the Breach                                                              2\n",
       "Hyper Light Drifter                                                          2\n",
       "Rez Infinite                                                                 2\n",
       "Tetris Effect                                                                2\n",
       "No One Lives Forever 2: A Spy in H.A.R.M.'s Way                              2\n",
       "Astro's Playroom                                                             2\n",
       "Wreckfest                                                                    1\n",
       "Name: video_game_name, dtype: int64"
      ]
     },
     "execution_count": 12,
     "metadata": {},
     "output_type": "execute_result"
    }
   ],
   "source": [
    "final_reviews_df[final_reviews_df['user_score'] < 2.5]['video_game_name'].value_counts()[-100:-50]"
   ]
  },
  {
   "cell_type": "markdown",
   "id": "ebe600af",
   "metadata": {},
   "source": [
    "### Removing these outliers removes 10409 reviews. The large majority coming from reviews with a target of 0. Most of these correspond to only a few reviews per game. Let's remove these outliers."
   ]
  },
  {
   "cell_type": "code",
   "execution_count": 13,
   "id": "12f8cbe8",
   "metadata": {
    "scrolled": false
   },
   "outputs": [],
   "source": [
    "final_reviews_df.drop((final_reviews_df[final_reviews_df['user_score'] < 2.5].index), inplace=True)"
   ]
  },
  {
   "cell_type": "code",
   "execution_count": 17,
   "id": "22f8151b",
   "metadata": {},
   "outputs": [
    {
     "data": {
      "text/plain": [
       "Red Dead Redemption 2                   2221\n",
       "Elden Ring                              2177\n",
       "The Witcher 3: Wild Hunt                2135\n",
       "Grand Theft Auto V                      1638\n",
       "DOOM Eternal                            1560\n",
       "Metal Gear Solid V: The Phantom Pain    1436\n",
       "Assassin's Creed Valhalla               1300\n",
       "Fallout 4                               1275\n",
       "Undertale                               1198\n",
       "Sekiro: Shadows Die Twice               1141\n",
       "Name: video_game_name, dtype: int64"
      ]
     },
     "execution_count": 17,
     "metadata": {},
     "output_type": "execute_result"
    }
   ],
   "source": [
    "final_reviews_df['video_game_name'].value_counts()[:10]"
   ]
  },
  {
   "cell_type": "markdown",
   "id": "50132a7f",
   "metadata": {},
   "source": [
    "## Now let's dummy our categorical columns"
   ]
  },
  {
   "cell_type": "code",
   "execution_count": null,
   "id": "f98ba530",
   "metadata": {},
   "outputs": [],
   "source": []
  },
  {
   "cell_type": "code",
   "execution_count": null,
   "id": "d3bb3548",
   "metadata": {},
   "outputs": [],
   "source": []
  },
  {
   "cell_type": "code",
   "execution_count": null,
   "id": "3c2a3d88",
   "metadata": {},
   "outputs": [],
   "source": []
  },
  {
   "cell_type": "code",
   "execution_count": null,
   "id": "70b5c6d6",
   "metadata": {},
   "outputs": [],
   "source": []
  },
  {
   "cell_type": "code",
   "execution_count": null,
   "id": "290db9c3",
   "metadata": {},
   "outputs": [],
   "source": []
  },
  {
   "cell_type": "code",
   "execution_count": null,
   "id": "dedb913b",
   "metadata": {},
   "outputs": [],
   "source": []
  },
  {
   "cell_type": "code",
   "execution_count": null,
   "id": "c06feaa7",
   "metadata": {},
   "outputs": [],
   "source": []
  },
  {
   "cell_type": "code",
   "execution_count": null,
   "id": "7794a9d3",
   "metadata": {},
   "outputs": [],
   "source": []
  },
  {
   "cell_type": "code",
   "execution_count": null,
   "id": "2a43a103",
   "metadata": {},
   "outputs": [],
   "source": []
  },
  {
   "cell_type": "code",
   "execution_count": null,
   "id": "226af8de",
   "metadata": {},
   "outputs": [],
   "source": []
  },
  {
   "cell_type": "code",
   "execution_count": null,
   "id": "8cf41e03",
   "metadata": {},
   "outputs": [],
   "source": []
  },
  {
   "cell_type": "code",
   "execution_count": null,
   "id": "12430d91",
   "metadata": {},
   "outputs": [],
   "source": []
  },
  {
   "cell_type": "code",
   "execution_count": 14,
   "id": "67b8252e",
   "metadata": {},
   "outputs": [],
   "source": [
    "# reviews_df[reviews_df['video_game_name'] == 'MotoGP 22'].sample(n=1000, replace=True)"
   ]
  }
 ],
 "metadata": {
  "kernelspec": {
   "display_name": "Python 3 (ipykernel)",
   "language": "python",
   "name": "python3"
  },
  "language_info": {
   "codemirror_mode": {
    "name": "ipython",
    "version": 3
   },
   "file_extension": ".py",
   "mimetype": "text/x-python",
   "name": "python",
   "nbconvert_exporter": "python",
   "pygments_lexer": "ipython3",
   "version": "3.9.7"
  }
 },
 "nbformat": 4,
 "nbformat_minor": 5
}
