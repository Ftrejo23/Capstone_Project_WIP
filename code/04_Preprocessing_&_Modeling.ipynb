{
 "cells": [
  {
   "cell_type": "markdown",
   "id": "930a1331",
   "metadata": {},
   "source": [
    "# Executive Summary\n",
    "---"
   ]
  },
  {
   "cell_type": "markdown",
   "id": "2d20f56a",
   "metadata": {},
   "source": [
    "# Preprocessing & Modeling\n",
    "---"
   ]
  },
  {
   "cell_type": "markdown",
   "id": "28a124ca",
   "metadata": {},
   "source": [
    "## Load in final data for preprocessing and modeling"
   ]
  },
  {
   "cell_type": "code",
   "execution_count": 1,
   "id": "f9337b55",
   "metadata": {},
   "outputs": [],
   "source": [
    "import pandas as pd\n",
    "import numpy as np\n",
    "import seaborn as sns\n",
    "from scipy import stats\n",
    "import matplotlib.pyplot as plt \n",
    "from matplotlib.patches import Patch\n",
    "plt.style.use('fivethirtyeight')"
   ]
  },
  {
   "cell_type": "code",
   "execution_count": 3,
   "id": "ebb2cdb7",
   "metadata": {},
   "outputs": [
    {
     "data": {
      "text/html": [
       "<div>\n",
       "<style scoped>\n",
       "    .dataframe tbody tr th:only-of-type {\n",
       "        vertical-align: middle;\n",
       "    }\n",
       "\n",
       "    .dataframe tbody tr th {\n",
       "        vertical-align: top;\n",
       "    }\n",
       "\n",
       "    .dataframe thead th {\n",
       "        text-align: right;\n",
       "    }\n",
       "</style>\n",
       "<table border=\"1\" class=\"dataframe\">\n",
       "  <thead>\n",
       "    <tr style=\"text-align: right;\">\n",
       "      <th></th>\n",
       "      <th>console</th>\n",
       "      <th>video_game_name</th>\n",
       "      <th>summary</th>\n",
       "      <th>developer</th>\n",
       "      <th>genre(s)</th>\n",
       "      <th>num_players</th>\n",
       "      <th>esrb_rating</th>\n",
       "      <th>critic_score</th>\n",
       "      <th>avg_user_score</th>\n",
       "      <th>user_review</th>\n",
       "      <th>user_score</th>\n",
       "      <th>target</th>\n",
       "    </tr>\n",
       "  </thead>\n",
       "  <tbody>\n",
       "    <tr>\n",
       "      <th>0</th>\n",
       "      <td>ps4</td>\n",
       "      <td>Red Dead Redemption 2</td>\n",
       "      <td>developed by the creators of grand theft auto ...</td>\n",
       "      <td>Rockstar Games</td>\n",
       "      <td>Action Adventure, Open-World</td>\n",
       "      <td>32</td>\n",
       "      <td>M</td>\n",
       "      <td>97</td>\n",
       "      <td>8.6</td>\n",
       "      <td>this site is a joke this the first time when i...</td>\n",
       "      <td>9</td>\n",
       "      <td>1</td>\n",
       "    </tr>\n",
       "    <tr>\n",
       "      <th>1</th>\n",
       "      <td>ps4</td>\n",
       "      <td>Red Dead Redemption 2</td>\n",
       "      <td>developed by the creators of grand theft auto ...</td>\n",
       "      <td>Rockstar Games</td>\n",
       "      <td>Action Adventure, Open-World</td>\n",
       "      <td>32</td>\n",
       "      <td>M</td>\n",
       "      <td>97</td>\n",
       "      <td>8.6</td>\n",
       "      <td>fair review of rdr2 im almost &lt;number&gt; finishe...</td>\n",
       "      <td>7</td>\n",
       "      <td>1</td>\n",
       "    </tr>\n",
       "    <tr>\n",
       "      <th>2</th>\n",
       "      <td>ps4</td>\n",
       "      <td>Red Dead Redemption 2</td>\n",
       "      <td>developed by the creators of grand theft auto ...</td>\n",
       "      <td>Rockstar Games</td>\n",
       "      <td>Action Adventure, Open-World</td>\n",
       "      <td>32</td>\n",
       "      <td>M</td>\n",
       "      <td>97</td>\n",
       "      <td>8.6</td>\n",
       "      <td>i really wanted to love it the overworld is be...</td>\n",
       "      <td>6</td>\n",
       "      <td>1</td>\n",
       "    </tr>\n",
       "    <tr>\n",
       "      <th>3</th>\n",
       "      <td>ps4</td>\n",
       "      <td>Red Dead Redemption 2</td>\n",
       "      <td>developed by the creators of grand theft auto ...</td>\n",
       "      <td>Rockstar Games</td>\n",
       "      <td>Action Adventure, Open-World</td>\n",
       "      <td>32</td>\n",
       "      <td>M</td>\n",
       "      <td>97</td>\n",
       "      <td>8.6</td>\n",
       "      <td>beautiful graphics excellent voice acting lots...</td>\n",
       "      <td>7</td>\n",
       "      <td>1</td>\n",
       "    </tr>\n",
       "    <tr>\n",
       "      <th>4</th>\n",
       "      <td>ps4</td>\n",
       "      <td>Red Dead Redemption 2</td>\n",
       "      <td>developed by the creators of grand theft auto ...</td>\n",
       "      <td>Rockstar Games</td>\n",
       "      <td>Action Adventure, Open-World</td>\n",
       "      <td>32</td>\n",
       "      <td>M</td>\n",
       "      <td>97</td>\n",
       "      <td>8.6</td>\n",
       "      <td>this game is really overrated the amazing envi...</td>\n",
       "      <td>7</td>\n",
       "      <td>1</td>\n",
       "    </tr>\n",
       "  </tbody>\n",
       "</table>\n",
       "</div>"
      ],
      "text/plain": [
       "  console        video_game_name  \\\n",
       "0     ps4  Red Dead Redemption 2   \n",
       "1     ps4  Red Dead Redemption 2   \n",
       "2     ps4  Red Dead Redemption 2   \n",
       "3     ps4  Red Dead Redemption 2   \n",
       "4     ps4  Red Dead Redemption 2   \n",
       "\n",
       "                                             summary       developer  \\\n",
       "0  developed by the creators of grand theft auto ...  Rockstar Games   \n",
       "1  developed by the creators of grand theft auto ...  Rockstar Games   \n",
       "2  developed by the creators of grand theft auto ...  Rockstar Games   \n",
       "3  developed by the creators of grand theft auto ...  Rockstar Games   \n",
       "4  developed by the creators of grand theft auto ...  Rockstar Games   \n",
       "\n",
       "                       genre(s)  num_players esrb_rating  critic_score  \\\n",
       "0  Action Adventure, Open-World           32           M            97   \n",
       "1  Action Adventure, Open-World           32           M            97   \n",
       "2  Action Adventure, Open-World           32           M            97   \n",
       "3  Action Adventure, Open-World           32           M            97   \n",
       "4  Action Adventure, Open-World           32           M            97   \n",
       "\n",
       "   avg_user_score                                        user_review  \\\n",
       "0             8.6  this site is a joke this the first time when i...   \n",
       "1             8.6  fair review of rdr2 im almost <number> finishe...   \n",
       "2             8.6  i really wanted to love it the overworld is be...   \n",
       "3             8.6  beautiful graphics excellent voice acting lots...   \n",
       "4             8.6  this game is really overrated the amazing envi...   \n",
       "\n",
       "   user_score  target  \n",
       "0           9       1  \n",
       "1           7       1  \n",
       "2           6       1  \n",
       "3           7       1  \n",
       "4           7       1  "
      ]
     },
     "execution_count": 3,
     "metadata": {},
     "output_type": "execute_result"
    }
   ],
   "source": [
    "final_reviews_df = pd.read_csv('../data/final_all_console_reviews.csv')\n",
    "\n",
    "final_reviews_df.head()"
   ]
  },
  {
   "cell_type": "markdown",
   "id": "5ad6b22c",
   "metadata": {},
   "source": [
    "## Let's take a look at some of the columns from our EDA to see if we need to make any edits."
   ]
  },
  {
   "cell_type": "markdown",
   "id": "bac5110b",
   "metadata": {},
   "source": [
    "## `avg_user_score` had potential outliers below 6.5 lets take a closer look"
   ]
  },
  {
   "cell_type": "code",
   "execution_count": 4,
   "id": "dd2f5cc7",
   "metadata": {},
   "outputs": [
    {
     "data": {
      "text/plain": [
       "1    57740\n",
       "0    54605\n",
       "Name: target, dtype: int64"
      ]
     },
     "execution_count": 4,
     "metadata": {},
     "output_type": "execute_result"
    }
   ],
   "source": [
    "final_reviews_df.target.value_counts()"
   ]
  },
  {
   "cell_type": "code",
   "execution_count": 5,
   "id": "8243e63e",
   "metadata": {
    "scrolled": false
   },
   "outputs": [
    {
     "data": {
      "text/plain": [
       "1    57740\n",
       "0    48002\n",
       "Name: target, dtype: int64"
      ]
     },
     "execution_count": 5,
     "metadata": {},
     "output_type": "execute_result"
    }
   ],
   "source": [
    "final_reviews_df[final_reviews_df['avg_user_score'] > 6.05].target.value_counts()"
   ]
  },
  {
   "cell_type": "markdown",
   "id": "da6f13ee",
   "metadata": {},
   "source": [
    "### Removing these outliers removes 5681 reviews with a target of 0. Let's go ahead and drop these from our dataframe."
   ]
  },
  {
   "cell_type": "code",
   "execution_count": 6,
   "id": "ce547221",
   "metadata": {},
   "outputs": [],
   "source": [
    "final_reviews_df.drop((final_reviews_df[final_reviews_df['avg_user_score'] < 6.05].index), inplace=True)"
   ]
  },
  {
   "cell_type": "markdown",
   "id": "5e90afbe",
   "metadata": {},
   "source": [
    "## `critic_score` had some potential outliers (scores below 78), let's take a look"
   ]
  },
  {
   "cell_type": "code",
   "execution_count": 7,
   "id": "4ff0b265",
   "metadata": {},
   "outputs": [
    {
     "data": {
      "text/plain": [
       "1    57740\n",
       "0    48002\n",
       "Name: target, dtype: int64"
      ]
     },
     "execution_count": 7,
     "metadata": {},
     "output_type": "execute_result"
    }
   ],
   "source": [
    "final_reviews_df.target.value_counts()"
   ]
  },
  {
   "cell_type": "code",
   "execution_count": 8,
   "id": "3238c854",
   "metadata": {
    "scrolled": false
   },
   "outputs": [
    {
     "data": {
      "text/plain": [
       "1    57718\n",
       "0    47016\n",
       "Name: target, dtype: int64"
      ]
     },
     "execution_count": 8,
     "metadata": {},
     "output_type": "execute_result"
    }
   ],
   "source": [
    "final_reviews_df[final_reviews_df['critic_score'] > 78].target.value_counts()"
   ]
  },
  {
   "cell_type": "markdown",
   "id": "9b210df1",
   "metadata": {},
   "source": [
    "### Removing outliers in critic score removes 1826 reviews, primarily reviews with a target of 0. Let's go ahead and drop these rows from our main dataframe"
   ]
  },
  {
   "cell_type": "code",
   "execution_count": 9,
   "id": "3f2c9aa4",
   "metadata": {
    "scrolled": false
   },
   "outputs": [],
   "source": [
    "final_reviews_df.drop((final_reviews_df[final_reviews_df['critic_score'] < 78].index), inplace=True)"
   ]
  },
  {
   "cell_type": "markdown",
   "id": "e403cc2c",
   "metadata": {},
   "source": [
    "## `user_score` had some potential outliers (scores below 2.5), let's take a look"
   ]
  },
  {
   "cell_type": "code",
   "execution_count": 10,
   "id": "5b5914f1",
   "metadata": {},
   "outputs": [
    {
     "data": {
      "text/plain": [
       "1    57718\n",
       "0    47120\n",
       "Name: target, dtype: int64"
      ]
     },
     "execution_count": 10,
     "metadata": {},
     "output_type": "execute_result"
    }
   ],
   "source": [
    "final_reviews_df.target.value_counts()"
   ]
  },
  {
   "cell_type": "code",
   "execution_count": 11,
   "id": "6a5db6b0",
   "metadata": {
    "scrolled": false
   },
   "outputs": [
    {
     "data": {
      "text/plain": [
       "1    54506\n",
       "0    39923\n",
       "Name: target, dtype: int64"
      ]
     },
     "execution_count": 11,
     "metadata": {},
     "output_type": "execute_result"
    }
   ],
   "source": [
    "final_reviews_df[final_reviews_df['user_score'] > 2.5].target.value_counts()"
   ]
  },
  {
   "cell_type": "code",
   "execution_count": 12,
   "id": "2cd310de",
   "metadata": {},
   "outputs": [
    {
     "data": {
      "text/plain": [
       "Mortal Kombat X                                                              4\n",
       "Chivalry 2                                                                   4\n",
       "Warframe                                                                     4\n",
       "Injustice 2: Legendary Edition                                               4\n",
       "Forza Horizon 2                                                              4\n",
       "Astro Bot: Rescue Mission                                                    4\n",
       "Bug Fables: The Everlasting Sapling                                          4\n",
       "The Orange Box                                                               4\n",
       "Control: Ultimate Edition                                                    4\n",
       "DiRT Rally                                                                   4\n",
       "The King of Fighters XV                                                      4\n",
       "DmC: Devil May Cry Definitive Edition                                        4\n",
       "Metro Exodus: Complete Edition                                               3\n",
       "Guilty Gear -Strive-                                                         3\n",
       "Final Fantasy XIV: Stormblood                                                3\n",
       "Sonic Mania Plus                                                             3\n",
       "Minecraft: Xbox One Edition                                                  3\n",
       "Guacamelee! 2                                                                3\n",
       "Tetris Effect: Connected                                                     3\n",
       "Bayonetta + Bayonetta 2                                                      3\n",
       "Scarlet Nexus                                                                3\n",
       "Baldur's Gate                                                                3\n",
       "Katamari Damacy REROLL                                                       3\n",
       "The Messenger                                                                3\n",
       "Cadence of Hyrule: Crypt of the NecroDancer Featuring The Legend of Zelda    3\n",
       "Diablo III: Eternal Collection                                               3\n",
       "WWE 2K22                                                                     3\n",
       "Galactic Civilizations II: Twilight of the Arnor                             3\n",
       "Unreal Tournament 2004                                                       3\n",
       "Chicory: A Colorful Tale                                                     3\n",
       "World Soccer Winning Eleven 7 International                                  3\n",
       "System Shock 2                                                               2\n",
       "Jurassic World Evolution 2                                                   2\n",
       "Riders Republic                                                              2\n",
       "The Nioh Collection                                                          2\n",
       "FAR: Changing Tides                                                          2\n",
       "Alan Wake Remastered                                                         2\n",
       "F1 2020                                                                      2\n",
       "Observer                                                                     2\n",
       "DiRT 4                                                                       2\n",
       "Dark Souls Remastered                                                        2\n",
       "Bastion                                                                      2\n",
       "Overcooked! All You Can Eat                                                  2\n",
       "Into the Breach                                                              2\n",
       "Hyper Light Drifter                                                          2\n",
       "Rez Infinite                                                                 2\n",
       "Tetris Effect                                                                2\n",
       "No One Lives Forever 2: A Spy in H.A.R.M.'s Way                              2\n",
       "Astro's Playroom                                                             2\n",
       "Wreckfest                                                                    1\n",
       "Name: video_game_name, dtype: int64"
      ]
     },
     "execution_count": 12,
     "metadata": {},
     "output_type": "execute_result"
    }
   ],
   "source": [
    "final_reviews_df[final_reviews_df['user_score'] < 2.5]['video_game_name'].value_counts()[-100:-50]"
   ]
  },
  {
   "cell_type": "markdown",
   "id": "b4fefa44",
   "metadata": {},
   "source": [
    "### Removing these outliers removes 10409 reviews. The large majority coming from reviews with a target of 0. Most of these correspond to only a few reviews per game. Let's remove these outliers."
   ]
  },
  {
   "cell_type": "code",
   "execution_count": 13,
   "id": "a48d3d86",
   "metadata": {
    "scrolled": false
   },
   "outputs": [],
   "source": [
    "final_reviews_df.drop((final_reviews_df[final_reviews_df['user_score'] < 2.5].index), inplace=True)"
   ]
  },
  {
   "cell_type": "markdown",
   "id": "c3931736",
   "metadata": {},
   "source": [
    "## Now let's dummy our categorical columns starting with `console` and `esrb_rating`"
   ]
  },
  {
   "cell_type": "code",
   "execution_count": 15,
   "id": "0b0555d7",
   "metadata": {},
   "outputs": [],
   "source": [
    "final_reviews_df = \\\n",
    "pd.get_dummies(final_reviews_df, columns=['console', 'esrb_rating'], prefix=['console', 'rating'], drop_first=True)"
   ]
  },
  {
   "cell_type": "markdown",
   "id": "e915df40",
   "metadata": {},
   "source": [
    "## Next column to dummy is `video_game_name`"
   ]
  },
  {
   "cell_type": "code",
   "execution_count": 16,
   "id": "b14a43a9",
   "metadata": {},
   "outputs": [
    {
     "data": {
      "text/plain": [
       "370"
      ]
     },
     "execution_count": 16,
     "metadata": {},
     "output_type": "execute_result"
    }
   ],
   "source": [
    "final_reviews_df['video_game_name'].nunique()"
   ]
  },
  {
   "cell_type": "markdown",
   "id": "ab35319e",
   "metadata": {},
   "source": [
    "### Since there are 370 unique video game names we are going to create a custom column, \"appears in top 40 most frequent\""
   ]
  },
  {
   "cell_type": "code",
   "execution_count": 17,
   "id": "834384a1",
   "metadata": {},
   "outputs": [
    {
     "data": {
      "text/plain": [
       "Index(['Red Dead Redemption 2', 'Elden Ring', 'The Witcher 3: Wild Hunt',\n",
       "       'Grand Theft Auto V', 'DOOM Eternal',\n",
       "       'Metal Gear Solid V: The Phantom Pain', 'Assassin's Creed Valhalla',\n",
       "       'Fallout 4', 'Undertale', 'Sekiro: Shadows Die Twice',\n",
       "       'Forza Horizon 5', 'God of War', 'Batman: Arkham Knight',\n",
       "       'Resident Evil 2', 'Portal 2', 'Bloodborne',\n",
       "       'Uncharted 4: A Thief's End', 'The Legend of Zelda: Breath of the Wild',\n",
       "       'Marvel's Spider-Man', 'Super Mario Odyssey', 'Persona 5',\n",
       "       'Astral Chain', 'Overwatch', 'Team Fortress 2', 'Metroid Dread',\n",
       "       'Half-Life 2', 'BioShock Infinite', 'Minecraft',\n",
       "       'Horizon Forbidden West', 'BioShock', 'Super Smash Bros. Ultimate',\n",
       "       'Horizon Zero Dawn', 'Demon's Souls', 'Fire Emblem: Three Houses',\n",
       "       'The Elder Scrolls V: Skyrim', 'Resident Evil Village',\n",
       "       'Persona 5 Royal', 'Ratchet & Clank: Rift Apart', 'NieR: Automata',\n",
       "       'The Last of Us Remastered'],\n",
       "      dtype='object')"
      ]
     },
     "execution_count": 17,
     "metadata": {},
     "output_type": "execute_result"
    }
   ],
   "source": [
    "video_game_name_top_40_filter = final_reviews_df['video_game_name'].value_counts()[:40].index\n",
    "video_game_name_top_40_filter"
   ]
  },
  {
   "cell_type": "code",
   "execution_count": 18,
   "id": "67d34c67",
   "metadata": {},
   "outputs": [],
   "source": [
    "final_reviews_df['video_game_name_in_top_40'] = \\\n",
    "[1 if game in video_game_name_top_40_filter else 0 for game in final_reviews_df['video_game_name']]"
   ]
  },
  {
   "cell_type": "code",
   "execution_count": 19,
   "id": "efb1b9dc",
   "metadata": {},
   "outputs": [],
   "source": [
    "final_reviews_df.drop(columns=['video_game_name'], inplace=True)"
   ]
  },
  {
   "cell_type": "markdown",
   "id": "b3985f49",
   "metadata": {},
   "source": [
    "## Next column to dummy is `developer`"
   ]
  },
  {
   "cell_type": "code",
   "execution_count": 20,
   "id": "26cd7acf",
   "metadata": {},
   "outputs": [
    {
     "data": {
      "text/plain": [
       "221"
      ]
     },
     "execution_count": 20,
     "metadata": {},
     "output_type": "execute_result"
    }
   ],
   "source": [
    "final_reviews_df['developer'].nunique()"
   ]
  },
  {
   "cell_type": "markdown",
   "id": "f5823b57",
   "metadata": {},
   "source": [
    "### There are 221 unique developers, let's create a custom column, \"appears in top 25 most frequent\""
   ]
  },
  {
   "cell_type": "code",
   "execution_count": 21,
   "id": "7d6acdef",
   "metadata": {},
   "outputs": [
    {
     "data": {
      "text/plain": [
       "Index(['From Software', 'Valve Software', 'Nintendo', 'BioWare',\n",
       "       'Blizzard Entertainment', 'Bethesda Game Studios',\n",
       "       'CD Projekt Red Studio', 'Capcom', 'Insomniac Games', 'Rockstar North',\n",
       "       'Rockstar Games', 'Square Enix', 'PlatinumGames', 'Playground Games',\n",
       "       'id Software', 'Naughty Dog', 'Irrational Games', 'Guerrilla', 'Atlus',\n",
       "       'Respawn Entertainment', 'Rocksteady Studios', 'Kojima Productions',\n",
       "       'Arkane Studios', 'JapanStudio', 'Ubisoft Montreal'],\n",
       "      dtype='object')"
      ]
     },
     "execution_count": 21,
     "metadata": {},
     "output_type": "execute_result"
    }
   ],
   "source": [
    "developer_top_25_filter = final_reviews_df['developer'].value_counts()[:25].index\n",
    "developer_top_25_filter"
   ]
  },
  {
   "cell_type": "code",
   "execution_count": 22,
   "id": "5d1d34b0",
   "metadata": {},
   "outputs": [],
   "source": [
    "final_reviews_df['developer_in_top_25'] = \\\n",
    "[1 if developer in developer_top_25_filter else 0 for developer in final_reviews_df['developer']]"
   ]
  },
  {
   "cell_type": "code",
   "execution_count": 23,
   "id": "1704f3e3",
   "metadata": {},
   "outputs": [],
   "source": [
    "final_reviews_df.drop(columns=['developer'], inplace=True)"
   ]
  },
  {
   "cell_type": "markdown",
   "id": "92e6eded",
   "metadata": {},
   "source": [
    "## Finally let's look at the `genre(s)` column"
   ]
  },
  {
   "cell_type": "code",
   "execution_count": 24,
   "id": "76f39c7f",
   "metadata": {},
   "outputs": [
    {
     "data": {
      "text/plain": [
       "167"
      ]
     },
     "execution_count": 24,
     "metadata": {},
     "output_type": "execute_result"
    }
   ],
   "source": [
    "final_reviews_df['genre(s)'].nunique()"
   ]
  },
  {
   "cell_type": "markdown",
   "id": "b8129578",
   "metadata": {},
   "source": [
    "### There are 167 unique genres, let's create a custom column, \"appears in top 20 most frequent\""
   ]
  },
  {
   "cell_type": "code",
   "execution_count": 25,
   "id": "172bcc35",
   "metadata": {},
   "outputs": [
    {
     "data": {
      "text/plain": [
       "Index(['Role-Playing, Action RPG', 'Action Adventure, Open-World',\n",
       "       'Action, Shooter, Shooter, First-Person, Sci-Fi, Sci-Fi, Arcade',\n",
       "       'Action Adventure, General', 'Action, Shooter, First-Person, Arcade',\n",
       "       'Action, Platformer, 3D', 'Action RPG, Role-Playing, Action RPG',\n",
       "       'Role-Playing, Japanese-Style', 'Action, Platformer, 2D',\n",
       "       'Role-Playing, First-Person, First-Person, Western-Style',\n",
       "       'Action Adventure, Linear', 'Racing, Simulation, Automobile',\n",
       "       'Action Adventure, Survival',\n",
       "       'Role-Playing, Action Adventure, Action RPG, Open-World',\n",
       "       'Action, Fighting, 2D', 'General, Role-Playing, Western-Style',\n",
       "       'Action Adventure, Modern, Open-World',\n",
       "       'Role-Playing, PC-style RPG, PC-style RPG, Western-Style',\n",
       "       'Action, Platformer, 2D, , Metroidvania',\n",
       "       'Action Adventure, Adventure, 3D, Sandbox, First-Person, Fantasy, Fantasy'],\n",
       "      dtype='object')"
      ]
     },
     "execution_count": 25,
     "metadata": {},
     "output_type": "execute_result"
    }
   ],
   "source": [
    "genre_top_20_filter = final_reviews_df['genre(s)'].value_counts()[:20].index\n",
    "genre_top_20_filter"
   ]
  },
  {
   "cell_type": "code",
   "execution_count": 26,
   "id": "e824241e",
   "metadata": {},
   "outputs": [],
   "source": [
    "final_reviews_df['genre_in_top_20'] = \\\n",
    "[1 if genre in genre_top_20_filter else 0 for genre in final_reviews_df['genre(s)']]"
   ]
  },
  {
   "cell_type": "code",
   "execution_count": 27,
   "id": "1be9729f",
   "metadata": {},
   "outputs": [],
   "source": [
    "final_reviews_df.drop(columns=['genre(s)'], inplace=True)"
   ]
  },
  {
   "cell_type": "code",
   "execution_count": null,
   "id": "b63c951d",
   "metadata": {},
   "outputs": [],
   "source": []
  },
  {
   "cell_type": "code",
   "execution_count": null,
   "id": "43eb79b7",
   "metadata": {},
   "outputs": [],
   "source": []
  },
  {
   "cell_type": "code",
   "execution_count": null,
   "id": "09b3db9a",
   "metadata": {},
   "outputs": [],
   "source": []
  },
  {
   "cell_type": "code",
   "execution_count": null,
   "id": "545cbe29",
   "metadata": {},
   "outputs": [],
   "source": []
  },
  {
   "cell_type": "code",
   "execution_count": null,
   "id": "4a4064e5",
   "metadata": {},
   "outputs": [],
   "source": []
  },
  {
   "cell_type": "code",
   "execution_count": 28,
   "id": "22369d31",
   "metadata": {},
   "outputs": [
    {
     "data": {
      "text/html": [
       "<div>\n",
       "<style scoped>\n",
       "    .dataframe tbody tr th:only-of-type {\n",
       "        vertical-align: middle;\n",
       "    }\n",
       "\n",
       "    .dataframe tbody tr th {\n",
       "        vertical-align: top;\n",
       "    }\n",
       "\n",
       "    .dataframe thead th {\n",
       "        text-align: right;\n",
       "    }\n",
       "</style>\n",
       "<table border=\"1\" class=\"dataframe\">\n",
       "  <thead>\n",
       "    <tr style=\"text-align: right;\">\n",
       "      <th></th>\n",
       "      <th>summary</th>\n",
       "      <th>num_players</th>\n",
       "      <th>critic_score</th>\n",
       "      <th>avg_user_score</th>\n",
       "      <th>user_review</th>\n",
       "      <th>user_score</th>\n",
       "      <th>target</th>\n",
       "      <th>console_ps4</th>\n",
       "      <th>console_ps5</th>\n",
       "      <th>console_switch</th>\n",
       "      <th>console_xbox-series-x</th>\n",
       "      <th>console_xboxone</th>\n",
       "      <th>rating_E10+</th>\n",
       "      <th>rating_M</th>\n",
       "      <th>rating_T</th>\n",
       "      <th>video_game_name_in_top_40</th>\n",
       "      <th>developer_in_top_25</th>\n",
       "      <th>genre_in_top_20</th>\n",
       "    </tr>\n",
       "  </thead>\n",
       "  <tbody>\n",
       "    <tr>\n",
       "      <th>0</th>\n",
       "      <td>developed by the creators of grand theft auto ...</td>\n",
       "      <td>32</td>\n",
       "      <td>97</td>\n",
       "      <td>8.6</td>\n",
       "      <td>this site is a joke this the first time when i...</td>\n",
       "      <td>9</td>\n",
       "      <td>1</td>\n",
       "      <td>1</td>\n",
       "      <td>0</td>\n",
       "      <td>0</td>\n",
       "      <td>0</td>\n",
       "      <td>0</td>\n",
       "      <td>0</td>\n",
       "      <td>1</td>\n",
       "      <td>0</td>\n",
       "      <td>1</td>\n",
       "      <td>1</td>\n",
       "      <td>1</td>\n",
       "    </tr>\n",
       "    <tr>\n",
       "      <th>1</th>\n",
       "      <td>developed by the creators of grand theft auto ...</td>\n",
       "      <td>32</td>\n",
       "      <td>97</td>\n",
       "      <td>8.6</td>\n",
       "      <td>fair review of rdr2 im almost &lt;number&gt; finishe...</td>\n",
       "      <td>7</td>\n",
       "      <td>1</td>\n",
       "      <td>1</td>\n",
       "      <td>0</td>\n",
       "      <td>0</td>\n",
       "      <td>0</td>\n",
       "      <td>0</td>\n",
       "      <td>0</td>\n",
       "      <td>1</td>\n",
       "      <td>0</td>\n",
       "      <td>1</td>\n",
       "      <td>1</td>\n",
       "      <td>1</td>\n",
       "    </tr>\n",
       "  </tbody>\n",
       "</table>\n",
       "</div>"
      ],
      "text/plain": [
       "                                             summary  num_players  \\\n",
       "0  developed by the creators of grand theft auto ...           32   \n",
       "1  developed by the creators of grand theft auto ...           32   \n",
       "\n",
       "   critic_score  avg_user_score  \\\n",
       "0            97             8.6   \n",
       "1            97             8.6   \n",
       "\n",
       "                                         user_review  user_score  target  \\\n",
       "0  this site is a joke this the first time when i...           9       1   \n",
       "1  fair review of rdr2 im almost <number> finishe...           7       1   \n",
       "\n",
       "   console_ps4  console_ps5  console_switch  console_xbox-series-x  \\\n",
       "0            1            0               0                      0   \n",
       "1            1            0               0                      0   \n",
       "\n",
       "   console_xboxone  rating_E10+  rating_M  rating_T  \\\n",
       "0                0            0         1         0   \n",
       "1                0            0         1         0   \n",
       "\n",
       "   video_game_name_in_top_40  developer_in_top_25  genre_in_top_20  \n",
       "0                          1                    1                1  \n",
       "1                          1                    1                1  "
      ]
     },
     "execution_count": 28,
     "metadata": {},
     "output_type": "execute_result"
    }
   ],
   "source": [
    "final_reviews_df.head(2)"
   ]
  },
  {
   "cell_type": "code",
   "execution_count": null,
   "id": "6f643204",
   "metadata": {},
   "outputs": [],
   "source": []
  },
  {
   "cell_type": "code",
   "execution_count": null,
   "id": "9f7a4d64",
   "metadata": {},
   "outputs": [],
   "source": []
  },
  {
   "cell_type": "code",
   "execution_count": null,
   "id": "9ed361e4",
   "metadata": {},
   "outputs": [],
   "source": []
  },
  {
   "cell_type": "code",
   "execution_count": null,
   "id": "c9123582",
   "metadata": {},
   "outputs": [],
   "source": []
  },
  {
   "cell_type": "code",
   "execution_count": 29,
   "id": "d7b7b0e1",
   "metadata": {},
   "outputs": [],
   "source": [
    "# reviews_df[reviews_df['video_game_name'] == 'MotoGP 22'].sample(n=1000, replace=True)"
   ]
  }
 ],
 "metadata": {
  "kernelspec": {
   "display_name": "Python 3 (ipykernel)",
   "language": "python",
   "name": "python3"
  },
  "language_info": {
   "codemirror_mode": {
    "name": "ipython",
    "version": 3
   },
   "file_extension": ".py",
   "mimetype": "text/x-python",
   "name": "python",
   "nbconvert_exporter": "python",
   "pygments_lexer": "ipython3",
   "version": "3.9.7"
  }
 },
 "nbformat": 4,
 "nbformat_minor": 5
}
