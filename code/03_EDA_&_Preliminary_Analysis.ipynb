{
 "cells": [
  {
   "cell_type": "markdown",
   "id": "0a3b2266",
   "metadata": {},
   "source": [
    "# EDA & Preliminary Analysis\n",
    "---"
   ]
  },
  {
   "cell_type": "markdown",
   "id": "96cc8b07",
   "metadata": {},
   "source": [
    "## Load in our now clean data."
   ]
  },
  {
   "cell_type": "code",
   "execution_count": 1,
   "id": "9cc190d3",
   "metadata": {},
   "outputs": [],
   "source": [
    "import pandas as pd\n",
    "import numpy as np\n",
    "import seaborn as sns\n",
    "import matplotlib.pyplot as plt \n",
    "plt.style.use('fivethirtyeight')"
   ]
  },
  {
   "cell_type": "code",
   "execution_count": 2,
   "id": "244b6d42",
   "metadata": {},
   "outputs": [
    {
     "data": {
      "text/html": [
       "<div>\n",
       "<style scoped>\n",
       "    .dataframe tbody tr th:only-of-type {\n",
       "        vertical-align: middle;\n",
       "    }\n",
       "\n",
       "    .dataframe tbody tr th {\n",
       "        vertical-align: top;\n",
       "    }\n",
       "\n",
       "    .dataframe thead th {\n",
       "        text-align: right;\n",
       "    }\n",
       "</style>\n",
       "<table border=\"1\" class=\"dataframe\">\n",
       "  <thead>\n",
       "    <tr style=\"text-align: right;\">\n",
       "      <th></th>\n",
       "      <th>console</th>\n",
       "      <th>video_game_name</th>\n",
       "      <th>summary</th>\n",
       "      <th>developer</th>\n",
       "      <th>genre(s)</th>\n",
       "      <th>num_players</th>\n",
       "      <th>esrb_rating</th>\n",
       "      <th>critic_score</th>\n",
       "      <th>avg_user_score</th>\n",
       "      <th>user_review</th>\n",
       "      <th>user_score</th>\n",
       "    </tr>\n",
       "  </thead>\n",
       "  <tbody>\n",
       "    <tr>\n",
       "      <th>0</th>\n",
       "      <td>ps4</td>\n",
       "      <td>Red Dead Redemption 2</td>\n",
       "      <td>developed by the creators of grand theft auto ...</td>\n",
       "      <td>Rockstar Games</td>\n",
       "      <td>Action Adventure, Open-World</td>\n",
       "      <td>32</td>\n",
       "      <td>M</td>\n",
       "      <td>97</td>\n",
       "      <td>8.6</td>\n",
       "      <td>this site is a joke this the first time when i...</td>\n",
       "      <td>9</td>\n",
       "    </tr>\n",
       "    <tr>\n",
       "      <th>1</th>\n",
       "      <td>ps4</td>\n",
       "      <td>Red Dead Redemption 2</td>\n",
       "      <td>developed by the creators of grand theft auto ...</td>\n",
       "      <td>Rockstar Games</td>\n",
       "      <td>Action Adventure, Open-World</td>\n",
       "      <td>32</td>\n",
       "      <td>M</td>\n",
       "      <td>97</td>\n",
       "      <td>8.6</td>\n",
       "      <td>fair review of rdr2 im almost &lt;number&gt; finishe...</td>\n",
       "      <td>7</td>\n",
       "    </tr>\n",
       "    <tr>\n",
       "      <th>2</th>\n",
       "      <td>ps4</td>\n",
       "      <td>Red Dead Redemption 2</td>\n",
       "      <td>developed by the creators of grand theft auto ...</td>\n",
       "      <td>Rockstar Games</td>\n",
       "      <td>Action Adventure, Open-World</td>\n",
       "      <td>32</td>\n",
       "      <td>M</td>\n",
       "      <td>97</td>\n",
       "      <td>8.6</td>\n",
       "      <td>i really wanted to love it the overworld is be...</td>\n",
       "      <td>6</td>\n",
       "    </tr>\n",
       "    <tr>\n",
       "      <th>3</th>\n",
       "      <td>ps4</td>\n",
       "      <td>Red Dead Redemption 2</td>\n",
       "      <td>developed by the creators of grand theft auto ...</td>\n",
       "      <td>Rockstar Games</td>\n",
       "      <td>Action Adventure, Open-World</td>\n",
       "      <td>32</td>\n",
       "      <td>M</td>\n",
       "      <td>97</td>\n",
       "      <td>8.6</td>\n",
       "      <td>beautiful graphics excellent voice acting lots...</td>\n",
       "      <td>7</td>\n",
       "    </tr>\n",
       "    <tr>\n",
       "      <th>4</th>\n",
       "      <td>ps4</td>\n",
       "      <td>Red Dead Redemption 2</td>\n",
       "      <td>developed by the creators of grand theft auto ...</td>\n",
       "      <td>Rockstar Games</td>\n",
       "      <td>Action Adventure, Open-World</td>\n",
       "      <td>32</td>\n",
       "      <td>M</td>\n",
       "      <td>97</td>\n",
       "      <td>8.6</td>\n",
       "      <td>this game is really overrated the amazing envi...</td>\n",
       "      <td>7</td>\n",
       "    </tr>\n",
       "  </tbody>\n",
       "</table>\n",
       "</div>"
      ],
      "text/plain": [
       "  console        video_game_name  \\\n",
       "0     ps4  Red Dead Redemption 2   \n",
       "1     ps4  Red Dead Redemption 2   \n",
       "2     ps4  Red Dead Redemption 2   \n",
       "3     ps4  Red Dead Redemption 2   \n",
       "4     ps4  Red Dead Redemption 2   \n",
       "\n",
       "                                             summary       developer  \\\n",
       "0  developed by the creators of grand theft auto ...  Rockstar Games   \n",
       "1  developed by the creators of grand theft auto ...  Rockstar Games   \n",
       "2  developed by the creators of grand theft auto ...  Rockstar Games   \n",
       "3  developed by the creators of grand theft auto ...  Rockstar Games   \n",
       "4  developed by the creators of grand theft auto ...  Rockstar Games   \n",
       "\n",
       "                       genre(s)  num_players esrb_rating  critic_score  \\\n",
       "0  Action Adventure, Open-World           32           M            97   \n",
       "1  Action Adventure, Open-World           32           M            97   \n",
       "2  Action Adventure, Open-World           32           M            97   \n",
       "3  Action Adventure, Open-World           32           M            97   \n",
       "4  Action Adventure, Open-World           32           M            97   \n",
       "\n",
       "   avg_user_score                                        user_review  \\\n",
       "0             8.6  this site is a joke this the first time when i...   \n",
       "1             8.6  fair review of rdr2 im almost <number> finishe...   \n",
       "2             8.6  i really wanted to love it the overworld is be...   \n",
       "3             8.6  beautiful graphics excellent voice acting lots...   \n",
       "4             8.6  this game is really overrated the amazing envi...   \n",
       "\n",
       "   user_score  \n",
       "0           9  \n",
       "1           7  \n",
       "2           6  \n",
       "3           7  \n",
       "4           7  "
      ]
     },
     "execution_count": 2,
     "metadata": {},
     "output_type": "execute_result"
    }
   ],
   "source": [
    "clean_reviews = pd.read_csv('../data/cleaned_all_console_reviews.csv')\n",
    "clean_reviews.head()"
   ]
  },
  {
   "cell_type": "markdown",
   "id": "9b73f7fb",
   "metadata": {},
   "source": [
    "## Let's go through each column and perform EDA (descriptive statistics and visualizations)."
   ]
  },
  {
   "cell_type": "code",
   "execution_count": 4,
   "id": "6f817a1f",
   "metadata": {},
   "outputs": [
    {
     "data": {
      "text/plain": [
       "console             object\n",
       "video_game_name     object\n",
       "summary             object\n",
       "developer           object\n",
       "genre(s)            object\n",
       "num_players          int64\n",
       "esrb_rating         object\n",
       "critic_score         int64\n",
       "avg_user_score     float64\n",
       "user_review         object\n",
       "user_score           int64\n",
       "dtype: object"
      ]
     },
     "execution_count": 4,
     "metadata": {},
     "output_type": "execute_result"
    }
   ],
   "source": [
    "clean_reviews.dtypes"
   ]
  },
  {
   "cell_type": "markdown",
   "id": "34f2f3ee",
   "metadata": {},
   "source": [
    "## Let's create some functions to help us do our EDA"
   ]
  },
  {
   "cell_type": "code",
   "execution_count": 10,
   "id": "8a4eb765",
   "metadata": {},
   "outputs": [
    {
     "name": "stdout",
     "output_type": "stream",
     "text": [
      "count     112345\n",
      "unique         6\n",
      "top           pc\n",
      "freq       32717\n",
      "Name: console, dtype: object\n",
      "['ps4' 'xboxone' 'switch' 'pc' 'xbox-series-x' 'ps5']\n"
     ]
    }
   ],
   "source": [
    "# def descritpive_stats(col):\n",
    "col = 'console'\n",
    "\n",
    "print(clean_reviews[col].describe())\n",
    "print(clean_reviews[col].unique())"
   ]
  },
  {
   "cell_type": "markdown",
   "id": "7023bc64",
   "metadata": {},
   "source": [
    "## First up is `console`"
   ]
  },
  {
   "cell_type": "code",
   "execution_count": null,
   "id": "040a217b",
   "metadata": {},
   "outputs": [],
   "source": []
  },
  {
   "cell_type": "code",
   "execution_count": null,
   "id": "cfec62a3",
   "metadata": {},
   "outputs": [],
   "source": []
  },
  {
   "cell_type": "code",
   "execution_count": null,
   "id": "523702e0",
   "metadata": {},
   "outputs": [],
   "source": []
  },
  {
   "cell_type": "code",
   "execution_count": null,
   "id": "af6c5b77",
   "metadata": {},
   "outputs": [],
   "source": []
  },
  {
   "cell_type": "code",
   "execution_count": null,
   "id": "92b78d06",
   "metadata": {},
   "outputs": [],
   "source": []
  },
  {
   "cell_type": "code",
   "execution_count": null,
   "id": "b14db17e",
   "metadata": {},
   "outputs": [],
   "source": []
  },
  {
   "cell_type": "code",
   "execution_count": null,
   "id": "56d76088",
   "metadata": {},
   "outputs": [],
   "source": []
  },
  {
   "cell_type": "code",
   "execution_count": null,
   "id": "cba2dbbc",
   "metadata": {},
   "outputs": [],
   "source": []
  },
  {
   "cell_type": "code",
   "execution_count": null,
   "id": "1842d950",
   "metadata": {},
   "outputs": [],
   "source": []
  },
  {
   "cell_type": "code",
   "execution_count": null,
   "id": "3f5494d2",
   "metadata": {},
   "outputs": [],
   "source": []
  },
  {
   "cell_type": "code",
   "execution_count": null,
   "id": "4a8b39a9",
   "metadata": {},
   "outputs": [],
   "source": []
  },
  {
   "cell_type": "code",
   "execution_count": null,
   "id": "4e82e214",
   "metadata": {},
   "outputs": [],
   "source": []
  },
  {
   "cell_type": "code",
   "execution_count": null,
   "id": "87ae4036",
   "metadata": {},
   "outputs": [],
   "source": []
  }
 ],
 "metadata": {
  "kernelspec": {
   "display_name": "Python 3 (ipykernel)",
   "language": "python",
   "name": "python3"
  },
  "language_info": {
   "codemirror_mode": {
    "name": "ipython",
    "version": 3
   },
   "file_extension": ".py",
   "mimetype": "text/x-python",
   "name": "python",
   "nbconvert_exporter": "python",
   "pygments_lexer": "ipython3",
   "version": "3.9.7"
  }
 },
 "nbformat": 4,
 "nbformat_minor": 5
}
