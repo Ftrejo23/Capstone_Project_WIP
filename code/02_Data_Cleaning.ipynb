{
 "cells": [
  {
   "cell_type": "markdown",
   "id": "4360a73b",
   "metadata": {},
   "source": [
    "# Data Cleaning\n",
    "---"
   ]
  },
  {
   "cell_type": "markdown",
   "id": "463a102a",
   "metadata": {},
   "source": [
    "## Now that we have web scraped our user reviews for the top 100 games on each console let's read in our data and combine it all into one master data frame."
   ]
  },
  {
   "cell_type": "code",
   "execution_count": 5,
   "id": "d6acee36",
   "metadata": {},
   "outputs": [],
   "source": [
    "import pandas as pd"
   ]
  },
  {
   "cell_type": "code",
   "execution_count": 6,
   "id": "cb7b656f",
   "metadata": {},
   "outputs": [],
   "source": [
    "ps4_reviews = pd.read_csv('../data/top_100_ps4_games.csv')\n",
    "xboxone_reviews = pd.read_csv('../data/top_100_xboxone_games.csv')\n",
    "switch_reviews = pd.read_csv('../data/top_100_switch_games.csv')\n",
    "pc_reviews = pd.read_csv('../data/top_100_pc_games.csv')\n",
    "xbox_series_x_reviews = pd.read_csv('../data/top_100_xbox-series-x_games.csv')\n",
    "ps5_reviews = pd.read_csv('../data/top_100_ps5_games.csv')"
   ]
  },
  {
   "cell_type": "code",
   "execution_count": 13,
   "id": "1b16c968",
   "metadata": {},
   "outputs": [],
   "source": [
    "all_console_reviews = pd.concat(\n",
    "    [ps4_reviews, xboxone_reviews, switch_reviews, pc_reviews, xbox_series_x_reviews, ps5_reviews], \n",
    "    ignore_index=True)"
   ]
  },
  {
   "cell_type": "markdown",
   "id": "85cd5523",
   "metadata": {},
   "source": [
    "### Now that we have a master data frame let's take a look at the first few rows and get the shape to see how many total rows and columns we are working with."
   ]
  },
  {
   "cell_type": "code",
   "execution_count": 16,
   "id": "d79b914d",
   "metadata": {},
   "outputs": [
    {
     "name": "stdout",
     "output_type": "stream",
     "text": [
      "(112345, 11)\n"
     ]
    },
    {
     "data": {
      "text/html": [
       "<div>\n",
       "<style scoped>\n",
       "    .dataframe tbody tr th:only-of-type {\n",
       "        vertical-align: middle;\n",
       "    }\n",
       "\n",
       "    .dataframe tbody tr th {\n",
       "        vertical-align: top;\n",
       "    }\n",
       "\n",
       "    .dataframe thead th {\n",
       "        text-align: right;\n",
       "    }\n",
       "</style>\n",
       "<table border=\"1\" class=\"dataframe\">\n",
       "  <thead>\n",
       "    <tr style=\"text-align: right;\">\n",
       "      <th></th>\n",
       "      <th>console</th>\n",
       "      <th>video_game_name</th>\n",
       "      <th>summary</th>\n",
       "      <th>developer</th>\n",
       "      <th>genre(s)</th>\n",
       "      <th>num_players</th>\n",
       "      <th>esrb_rating</th>\n",
       "      <th>critic_score</th>\n",
       "      <th>avg_user_score</th>\n",
       "      <th>user_review</th>\n",
       "      <th>user_score</th>\n",
       "    </tr>\n",
       "  </thead>\n",
       "  <tbody>\n",
       "    <tr>\n",
       "      <th>0</th>\n",
       "      <td>ps4</td>\n",
       "      <td>Red Dead Redemption 2</td>\n",
       "      <td>Developed by the creators of Grand Theft Auto ...</td>\n",
       "      <td>Rockstar Games</td>\n",
       "      <td>Genre(s): Action Adventure, Open-World</td>\n",
       "      <td># of players: Up to 32</td>\n",
       "      <td>Rating: M</td>\n",
       "      <td>97</td>\n",
       "      <td>8.6</td>\n",
       "      <td>\\nThis site is a joke, this the first time whe...</td>\n",
       "      <td>9</td>\n",
       "    </tr>\n",
       "    <tr>\n",
       "      <th>1</th>\n",
       "      <td>ps4</td>\n",
       "      <td>Red Dead Redemption 2</td>\n",
       "      <td>Developed by the creators of Grand Theft Auto ...</td>\n",
       "      <td>Rockstar Games</td>\n",
       "      <td>Genre(s): Action Adventure, Open-World</td>\n",
       "      <td># of players: Up to 32</td>\n",
       "      <td>Rating: M</td>\n",
       "      <td>97</td>\n",
       "      <td>8.6</td>\n",
       "      <td>Fair review of RDR2\\r I'm almost 15% finished ...</td>\n",
       "      <td>7</td>\n",
       "    </tr>\n",
       "    <tr>\n",
       "      <th>2</th>\n",
       "      <td>ps4</td>\n",
       "      <td>Red Dead Redemption 2</td>\n",
       "      <td>Developed by the creators of Grand Theft Auto ...</td>\n",
       "      <td>Rockstar Games</td>\n",
       "      <td>Genre(s): Action Adventure, Open-World</td>\n",
       "      <td># of players: Up to 32</td>\n",
       "      <td>Rating: M</td>\n",
       "      <td>97</td>\n",
       "      <td>8.6</td>\n",
       "      <td>I really wanted to love it. The over-world is ...</td>\n",
       "      <td>6</td>\n",
       "    </tr>\n",
       "    <tr>\n",
       "      <th>3</th>\n",
       "      <td>ps4</td>\n",
       "      <td>Red Dead Redemption 2</td>\n",
       "      <td>Developed by the creators of Grand Theft Auto ...</td>\n",
       "      <td>Rockstar Games</td>\n",
       "      <td>Genre(s): Action Adventure, Open-World</td>\n",
       "      <td># of players: Up to 32</td>\n",
       "      <td>Rating: M</td>\n",
       "      <td>97</td>\n",
       "      <td>8.6</td>\n",
       "      <td>\\nBeautiful graphics, excellent voice acting, ...</td>\n",
       "      <td>7</td>\n",
       "    </tr>\n",
       "    <tr>\n",
       "      <th>4</th>\n",
       "      <td>ps4</td>\n",
       "      <td>Red Dead Redemption 2</td>\n",
       "      <td>Developed by the creators of Grand Theft Auto ...</td>\n",
       "      <td>Rockstar Games</td>\n",
       "      <td>Genre(s): Action Adventure, Open-World</td>\n",
       "      <td># of players: Up to 32</td>\n",
       "      <td>Rating: M</td>\n",
       "      <td>97</td>\n",
       "      <td>8.6</td>\n",
       "      <td>This game is really overrated.\\rThe amazing en...</td>\n",
       "      <td>7</td>\n",
       "    </tr>\n",
       "  </tbody>\n",
       "</table>\n",
       "</div>"
      ],
      "text/plain": [
       "  console        video_game_name  \\\n",
       "0     ps4  Red Dead Redemption 2   \n",
       "1     ps4  Red Dead Redemption 2   \n",
       "2     ps4  Red Dead Redemption 2   \n",
       "3     ps4  Red Dead Redemption 2   \n",
       "4     ps4  Red Dead Redemption 2   \n",
       "\n",
       "                                             summary       developer  \\\n",
       "0  Developed by the creators of Grand Theft Auto ...  Rockstar Games   \n",
       "1  Developed by the creators of Grand Theft Auto ...  Rockstar Games   \n",
       "2  Developed by the creators of Grand Theft Auto ...  Rockstar Games   \n",
       "3  Developed by the creators of Grand Theft Auto ...  Rockstar Games   \n",
       "4  Developed by the creators of Grand Theft Auto ...  Rockstar Games   \n",
       "\n",
       "                                 genre(s)             num_players esrb_rating  \\\n",
       "0  Genre(s): Action Adventure, Open-World  # of players: Up to 32   Rating: M   \n",
       "1  Genre(s): Action Adventure, Open-World  # of players: Up to 32   Rating: M   \n",
       "2  Genre(s): Action Adventure, Open-World  # of players: Up to 32   Rating: M   \n",
       "3  Genre(s): Action Adventure, Open-World  # of players: Up to 32   Rating: M   \n",
       "4  Genre(s): Action Adventure, Open-World  # of players: Up to 32   Rating: M   \n",
       "\n",
       "   critic_score  avg_user_score  \\\n",
       "0            97             8.6   \n",
       "1            97             8.6   \n",
       "2            97             8.6   \n",
       "3            97             8.6   \n",
       "4            97             8.6   \n",
       "\n",
       "                                         user_review  user_score  \n",
       "0  \\nThis site is a joke, this the first time whe...           9  \n",
       "1  Fair review of RDR2\\r I'm almost 15% finished ...           7  \n",
       "2  I really wanted to love it. The over-world is ...           6  \n",
       "3  \\nBeautiful graphics, excellent voice acting, ...           7  \n",
       "4  This game is really overrated.\\rThe amazing en...           7  "
      ]
     },
     "execution_count": 16,
     "metadata": {},
     "output_type": "execute_result"
    }
   ],
   "source": [
    "print(all_console_reviews.shape)\n",
    "all_console_reviews.head()"
   ]
  },
  {
   "cell_type": "code",
   "execution_count": null,
   "id": "0099b789",
   "metadata": {},
   "outputs": [],
   "source": [
    "all_console_reviews"
   ]
  }
 ],
 "metadata": {
  "kernelspec": {
   "display_name": "Python 3 (ipykernel)",
   "language": "python",
   "name": "python3"
  },
  "language_info": {
   "codemirror_mode": {
    "name": "ipython",
    "version": 3
   },
   "file_extension": ".py",
   "mimetype": "text/x-python",
   "name": "python",
   "nbconvert_exporter": "python",
   "pygments_lexer": "ipython3",
   "version": "3.9.7"
  }
 },
 "nbformat": 4,
 "nbformat_minor": 5
}
