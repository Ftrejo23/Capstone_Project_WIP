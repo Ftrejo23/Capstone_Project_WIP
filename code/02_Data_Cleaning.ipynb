{
 "cells": [
  {
   "cell_type": "markdown",
   "id": "6cb6b8d0",
   "metadata": {},
   "source": [
    "# Data Cleaning\n",
    "---"
   ]
  },
  {
   "cell_type": "markdown",
   "id": "11393219",
   "metadata": {},
   "source": [
    "## Now that we have web scraped our user reviews for the top 100 games on each console let's read in our data and combine it all into one master data frame."
   ]
  },
  {
   "cell_type": "code",
   "execution_count": 55,
   "id": "c6ed0c8a",
   "metadata": {},
   "outputs": [],
   "source": [
    "import pandas as pd\n",
    "from sklearn.experimental import enable_iterative_imputer\n",
    "from sklearn.impute import IterativeImputer\n",
    "from cleantext import clean"
   ]
  },
  {
   "cell_type": "code",
   "execution_count": 2,
   "id": "431ca01f",
   "metadata": {},
   "outputs": [],
   "source": [
    "ps4_reviews = pd.read_csv('../data/top_100_ps4_games.csv')\n",
    "xboxone_reviews = pd.read_csv('../data/top_100_xboxone_games.csv')\n",
    "switch_reviews = pd.read_csv('../data/top_100_switch_games.csv')\n",
    "pc_reviews = pd.read_csv('../data/top_100_pc_games.csv')\n",
    "xbox_series_x_reviews = pd.read_csv('../data/top_100_xbox-series-x_games.csv')\n",
    "ps5_reviews = pd.read_csv('../data/top_100_ps5_games.csv')"
   ]
  },
  {
   "cell_type": "code",
   "execution_count": 3,
   "id": "9f95e641",
   "metadata": {},
   "outputs": [],
   "source": [
    "all_console_reviews = pd.concat(\n",
    "    [ps4_reviews, xboxone_reviews, switch_reviews, pc_reviews, xbox_series_x_reviews, ps5_reviews], \n",
    "    ignore_index=True)"
   ]
  },
  {
   "cell_type": "markdown",
   "id": "dc2b64b5",
   "metadata": {},
   "source": [
    "### Now that we have a master data frame let's take a look at the first few rows and get the shape to see how many total rows and columns we are working with."
   ]
  },
  {
   "cell_type": "code",
   "execution_count": 4,
   "id": "6992caf1",
   "metadata": {},
   "outputs": [
    {
     "name": "stdout",
     "output_type": "stream",
     "text": [
      "(112345, 11)\n"
     ]
    },
    {
     "data": {
      "text/html": [
       "<div>\n",
       "<style scoped>\n",
       "    .dataframe tbody tr th:only-of-type {\n",
       "        vertical-align: middle;\n",
       "    }\n",
       "\n",
       "    .dataframe tbody tr th {\n",
       "        vertical-align: top;\n",
       "    }\n",
       "\n",
       "    .dataframe thead th {\n",
       "        text-align: right;\n",
       "    }\n",
       "</style>\n",
       "<table border=\"1\" class=\"dataframe\">\n",
       "  <thead>\n",
       "    <tr style=\"text-align: right;\">\n",
       "      <th></th>\n",
       "      <th>console</th>\n",
       "      <th>video_game_name</th>\n",
       "      <th>summary</th>\n",
       "      <th>developer</th>\n",
       "      <th>genre(s)</th>\n",
       "      <th>num_players</th>\n",
       "      <th>esrb_rating</th>\n",
       "      <th>critic_score</th>\n",
       "      <th>avg_user_score</th>\n",
       "      <th>user_review</th>\n",
       "      <th>user_score</th>\n",
       "    </tr>\n",
       "  </thead>\n",
       "  <tbody>\n",
       "    <tr>\n",
       "      <th>0</th>\n",
       "      <td>ps4</td>\n",
       "      <td>Red Dead Redemption 2</td>\n",
       "      <td>Developed by the creators of Grand Theft Auto ...</td>\n",
       "      <td>Rockstar Games</td>\n",
       "      <td>Genre(s): Action Adventure, Open-World</td>\n",
       "      <td># of players: Up to 32</td>\n",
       "      <td>Rating: M</td>\n",
       "      <td>97</td>\n",
       "      <td>8.6</td>\n",
       "      <td>\\nThis site is a joke, this the first time whe...</td>\n",
       "      <td>9</td>\n",
       "    </tr>\n",
       "    <tr>\n",
       "      <th>1</th>\n",
       "      <td>ps4</td>\n",
       "      <td>Red Dead Redemption 2</td>\n",
       "      <td>Developed by the creators of Grand Theft Auto ...</td>\n",
       "      <td>Rockstar Games</td>\n",
       "      <td>Genre(s): Action Adventure, Open-World</td>\n",
       "      <td># of players: Up to 32</td>\n",
       "      <td>Rating: M</td>\n",
       "      <td>97</td>\n",
       "      <td>8.6</td>\n",
       "      <td>Fair review of RDR2\\r I'm almost 15% finished ...</td>\n",
       "      <td>7</td>\n",
       "    </tr>\n",
       "    <tr>\n",
       "      <th>2</th>\n",
       "      <td>ps4</td>\n",
       "      <td>Red Dead Redemption 2</td>\n",
       "      <td>Developed by the creators of Grand Theft Auto ...</td>\n",
       "      <td>Rockstar Games</td>\n",
       "      <td>Genre(s): Action Adventure, Open-World</td>\n",
       "      <td># of players: Up to 32</td>\n",
       "      <td>Rating: M</td>\n",
       "      <td>97</td>\n",
       "      <td>8.6</td>\n",
       "      <td>I really wanted to love it. The over-world is ...</td>\n",
       "      <td>6</td>\n",
       "    </tr>\n",
       "    <tr>\n",
       "      <th>3</th>\n",
       "      <td>ps4</td>\n",
       "      <td>Red Dead Redemption 2</td>\n",
       "      <td>Developed by the creators of Grand Theft Auto ...</td>\n",
       "      <td>Rockstar Games</td>\n",
       "      <td>Genre(s): Action Adventure, Open-World</td>\n",
       "      <td># of players: Up to 32</td>\n",
       "      <td>Rating: M</td>\n",
       "      <td>97</td>\n",
       "      <td>8.6</td>\n",
       "      <td>\\nBeautiful graphics, excellent voice acting, ...</td>\n",
       "      <td>7</td>\n",
       "    </tr>\n",
       "    <tr>\n",
       "      <th>4</th>\n",
       "      <td>ps4</td>\n",
       "      <td>Red Dead Redemption 2</td>\n",
       "      <td>Developed by the creators of Grand Theft Auto ...</td>\n",
       "      <td>Rockstar Games</td>\n",
       "      <td>Genre(s): Action Adventure, Open-World</td>\n",
       "      <td># of players: Up to 32</td>\n",
       "      <td>Rating: M</td>\n",
       "      <td>97</td>\n",
       "      <td>8.6</td>\n",
       "      <td>This game is really overrated.\\rThe amazing en...</td>\n",
       "      <td>7</td>\n",
       "    </tr>\n",
       "  </tbody>\n",
       "</table>\n",
       "</div>"
      ],
      "text/plain": [
       "  console        video_game_name  \\\n",
       "0     ps4  Red Dead Redemption 2   \n",
       "1     ps4  Red Dead Redemption 2   \n",
       "2     ps4  Red Dead Redemption 2   \n",
       "3     ps4  Red Dead Redemption 2   \n",
       "4     ps4  Red Dead Redemption 2   \n",
       "\n",
       "                                             summary       developer  \\\n",
       "0  Developed by the creators of Grand Theft Auto ...  Rockstar Games   \n",
       "1  Developed by the creators of Grand Theft Auto ...  Rockstar Games   \n",
       "2  Developed by the creators of Grand Theft Auto ...  Rockstar Games   \n",
       "3  Developed by the creators of Grand Theft Auto ...  Rockstar Games   \n",
       "4  Developed by the creators of Grand Theft Auto ...  Rockstar Games   \n",
       "\n",
       "                                 genre(s)             num_players esrb_rating  \\\n",
       "0  Genre(s): Action Adventure, Open-World  # of players: Up to 32   Rating: M   \n",
       "1  Genre(s): Action Adventure, Open-World  # of players: Up to 32   Rating: M   \n",
       "2  Genre(s): Action Adventure, Open-World  # of players: Up to 32   Rating: M   \n",
       "3  Genre(s): Action Adventure, Open-World  # of players: Up to 32   Rating: M   \n",
       "4  Genre(s): Action Adventure, Open-World  # of players: Up to 32   Rating: M   \n",
       "\n",
       "   critic_score  avg_user_score  \\\n",
       "0            97             8.6   \n",
       "1            97             8.6   \n",
       "2            97             8.6   \n",
       "3            97             8.6   \n",
       "4            97             8.6   \n",
       "\n",
       "                                         user_review  user_score  \n",
       "0  \\nThis site is a joke, this the first time whe...           9  \n",
       "1  Fair review of RDR2\\r I'm almost 15% finished ...           7  \n",
       "2  I really wanted to love it. The over-world is ...           6  \n",
       "3  \\nBeautiful graphics, excellent voice acting, ...           7  \n",
       "4  This game is really overrated.\\rThe amazing en...           7  "
      ]
     },
     "execution_count": 4,
     "metadata": {},
     "output_type": "execute_result"
    }
   ],
   "source": [
    "print(all_console_reviews.shape)\n",
    "all_console_reviews.head()"
   ]
  },
  {
   "cell_type": "markdown",
   "id": "aef5a38a",
   "metadata": {},
   "source": [
    "## Now let's see how many null values are present and address them\n",
    "---"
   ]
  },
  {
   "cell_type": "code",
   "execution_count": 5,
   "id": "b163a8d8",
   "metadata": {},
   "outputs": [
    {
     "data": {
      "text/plain": [
       "console               0\n",
       "video_game_name       0\n",
       "summary               0\n",
       "developer             0\n",
       "genre(s)              0\n",
       "num_players        8659\n",
       "esrb_rating        6513\n",
       "critic_score          0\n",
       "avg_user_score     2729\n",
       "user_review           0\n",
       "user_score            0\n",
       "dtype: int64"
      ]
     },
     "execution_count": 5,
     "metadata": {},
     "output_type": "execute_result"
    }
   ],
   "source": [
    "all_console_reviews.isnull().sum()"
   ]
  },
  {
   "cell_type": "markdown",
   "id": "491034fe",
   "metadata": {},
   "source": [
    "### Let's also look at what the datatypes are for the columns."
   ]
  },
  {
   "cell_type": "code",
   "execution_count": 6,
   "id": "de1fd04c",
   "metadata": {},
   "outputs": [
    {
     "name": "stdout",
     "output_type": "stream",
     "text": [
      "<class 'pandas.core.frame.DataFrame'>\n",
      "RangeIndex: 112345 entries, 0 to 112344\n",
      "Data columns (total 11 columns):\n",
      " #   Column           Non-Null Count   Dtype  \n",
      "---  ------           --------------   -----  \n",
      " 0   console          112345 non-null  object \n",
      " 1   video_game_name  112345 non-null  object \n",
      " 2   summary          112345 non-null  object \n",
      " 3   developer        112345 non-null  object \n",
      " 4   genre(s)         112345 non-null  object \n",
      " 5   num_players      103686 non-null  object \n",
      " 6   esrb_rating      105832 non-null  object \n",
      " 7   critic_score     112345 non-null  int64  \n",
      " 8   avg_user_score   109616 non-null  float64\n",
      " 9   user_review      112345 non-null  object \n",
      " 10  user_score       112345 non-null  int64  \n",
      "dtypes: float64(1), int64(2), object(8)\n",
      "memory usage: 9.4+ MB\n"
     ]
    }
   ],
   "source": [
    "all_console_reviews.info()"
   ]
  },
  {
   "cell_type": "markdown",
   "id": "7cf914d3",
   "metadata": {},
   "source": [
    "## First let's take a look at the `num_players` column, we want to clean the values and only get the number, if applicable. Then address the null values."
   ]
  },
  {
   "cell_type": "code",
   "execution_count": 7,
   "id": "b592f834",
   "metadata": {},
   "outputs": [
    {
     "data": {
      "text/plain": [
       "array(['# of players: Up to 32', '# of players: Up to 30',\n",
       "       '# of players: No Online Multiplayer', '# of players: Up to 8',\n",
       "       '# of players: Up to 16', '# of players: Up to 10',\n",
       "       '# of players: 2', '# of players: Up to 5',\n",
       "       '# of players: Up to 4', nan, '# of players: 1 Player',\n",
       "       '# of players: Up to 12', '# of players: Up to 6',\n",
       "       '# of players: Massively Multiplayer', '# of players: Up to 60',\n",
       "       '# of players: Online Multiplayer', '# of players: Up to 64',\n",
       "       '# of players: Up to 3', '# of players: Up to 22',\n",
       "       '# of players: Up to 20', '# of players: Up to 24',\n",
       "       '# of players: Up to more than 64', '# of players: 1-16',\n",
       "       '# of players: 1-32', '# of players: Up to 18', '# of players:',\n",
       "       '# of players: 1-8', '# of players: 1-2', '# of players: 1-4',\n",
       "       '# of players: 64 Online', '# of players: 2 Online',\n",
       "       '# of players: Up to 14', '# of players: Up to 40',\n",
       "       '# of players: Friend System Only'], dtype=object)"
      ]
     },
     "execution_count": 7,
     "metadata": {},
     "output_type": "execute_result"
    }
   ],
   "source": [
    "all_console_reviews['num_players'].unique()"
   ]
  },
  {
   "cell_type": "markdown",
   "id": "a9dc6c27",
   "metadata": {},
   "source": [
    "### Replace text values to only get the number of players, for games without a simple number investigate further"
   ]
  },
  {
   "cell_type": "code",
   "execution_count": 8,
   "id": "f022d0e3",
   "metadata": {},
   "outputs": [],
   "source": [
    "all_console_reviews['num_players'] = \\\n",
    "[val.replace('# of players: ', '').replace('Up to ', '').replace(' Player', '').replace('more than ', '')\n",
    " if type(val) != float else val for val in all_console_reviews['num_players']]"
   ]
  },
  {
   "cell_type": "code",
   "execution_count": 9,
   "id": "e611a79f",
   "metadata": {},
   "outputs": [],
   "source": [
    "vals = []\n",
    "for val in all_console_reviews['num_players']:\n",
    "    if type(val) != float:\n",
    "        if '-' in val:\n",
    "            vals.append(val.split('-')[1])\n",
    "        else:\n",
    "            vals.append(val)\n",
    "    else:\n",
    "        vals.append(val)\n",
    "\n",
    "all_console_reviews['num_players'] = vals"
   ]
  },
  {
   "cell_type": "code",
   "execution_count": 10,
   "id": "f9e6a15a",
   "metadata": {},
   "outputs": [
    {
     "data": {
      "text/plain": [
       "array(['32', '30', 'No Online Multiplayer', '8', '16', '10', '2', '5',\n",
       "       '4', nan, '1', '12', '6', 'Massively Multiplayer', '60',\n",
       "       'Online Multiplayer', '64', '3', '22', '20', '24', '18',\n",
       "       '# of players:', '64 Online', '2 Online', '14', '40',\n",
       "       'Friend System Only'], dtype=object)"
      ]
     },
     "execution_count": 10,
     "metadata": {},
     "output_type": "execute_result"
    }
   ],
   "source": [
    "all_console_reviews['num_players'].unique()"
   ]
  },
  {
   "cell_type": "markdown",
   "id": "93d2ecb2",
   "metadata": {},
   "source": [
    "### Now that we did some initial cleaning let's look closer at games with the unique `num_players`\n",
    "- No Online Multiplayer\n",
    "- Massively Multiplayer\n",
    "- Online Multiplayer\n",
    "- \\# of players:\n",
    "- Friend System Only"
   ]
  },
  {
   "cell_type": "code",
   "execution_count": 11,
   "id": "c17bc8f1",
   "metadata": {},
   "outputs": [
    {
     "data": {
      "text/plain": [
       "['Persona 5 Royal',\n",
       " 'God of War',\n",
       " 'The Last of Us Part II',\n",
       " 'Persona 5',\n",
       " 'Undertale',\n",
       " 'The Witcher 3: Wild Hunt',\n",
       " 'Shadow of the Colossus',\n",
       " 'The Witcher 3: Wild Hunt - Blood and Wine',\n",
       " 'Celeste',\n",
       " 'NieR: Automata - Game of the YoRHa Edition']"
      ]
     },
     "execution_count": 11,
     "metadata": {},
     "output_type": "execute_result"
    }
   ],
   "source": [
    "list(all_console_reviews[all_console_reviews['num_players'] == 'No Online Multiplayer']\\\n",
    "['video_game_name'].unique())[:10]"
   ]
  },
  {
   "cell_type": "markdown",
   "id": "995d1a73",
   "metadata": {},
   "source": [
    "### For 'No Online Multiplayer' we can see that all of the games are single player games so we can change the num_players to 1."
   ]
  },
  {
   "cell_type": "code",
   "execution_count": 12,
   "id": "e0abc193",
   "metadata": {},
   "outputs": [],
   "source": [
    "all_console_reviews['num_players'] = \\\n",
    "[val.replace('No Online Multiplayer', '1')\n",
    " if type(val) != float else val for val in all_console_reviews['num_players']]"
   ]
  },
  {
   "cell_type": "code",
   "execution_count": 13,
   "id": "e71cac9f",
   "metadata": {},
   "outputs": [
    {
     "data": {
      "text/plain": [
       "array(['32', '30', '1', '8', '16', '10', '2', '5', '4', nan, '12', '6',\n",
       "       'Massively Multiplayer', '60', 'Online Multiplayer', '64', '3',\n",
       "       '22', '20', '24', '18', '# of players:', '64 Online', '2 Online',\n",
       "       '14', '40', 'Friend System Only'], dtype=object)"
      ]
     },
     "execution_count": 13,
     "metadata": {},
     "output_type": "execute_result"
    }
   ],
   "source": [
    "all_console_reviews['num_players'].unique()"
   ]
  },
  {
   "cell_type": "code",
   "execution_count": 14,
   "id": "20ef7bed",
   "metadata": {},
   "outputs": [
    {
     "data": {
      "text/plain": [
       "['Final Fantasy XIV: Stormblood',\n",
       " 'World of Warcraft',\n",
       " 'World of Warcraft: Wrath of the Lich King',\n",
       " 'World of Warcraft: The Burning Crusade',\n",
       " 'World of Warcraft: Cataclysm',\n",
       " 'Final Fantasy XIV: Endwalker']"
      ]
     },
     "execution_count": 14,
     "metadata": {},
     "output_type": "execute_result"
    }
   ],
   "source": [
    "list(all_console_reviews[all_console_reviews['num_players'] == 'Massively Multiplayer']\\\n",
    "['video_game_name'].unique())[:]"
   ]
  },
  {
   "cell_type": "markdown",
   "id": "73e733f6",
   "metadata": {},
   "source": [
    "### For 'Massively Multiplayer' games which we can see are MMOs, massive multiplayer online games, they can have player counts in the millions. To keep our values within a reasonable range we will change these to a value of 150."
   ]
  },
  {
   "cell_type": "code",
   "execution_count": 15,
   "id": "9901dece",
   "metadata": {},
   "outputs": [],
   "source": [
    "all_console_reviews['num_players'] = \\\n",
    "[val.replace('Massively Multiplayer', '150')\n",
    " if type(val) != float else val for val in all_console_reviews['num_players']]"
   ]
  },
  {
   "cell_type": "code",
   "execution_count": 16,
   "id": "466c6ffa",
   "metadata": {},
   "outputs": [
    {
     "data": {
      "text/plain": [
       "array(['32', '30', '1', '8', '16', '10', '2', '5', '4', nan, '12', '6',\n",
       "       '150', '60', 'Online Multiplayer', '64', '3', '22', '20', '24',\n",
       "       '18', '# of players:', '64 Online', '2 Online', '14', '40',\n",
       "       'Friend System Only'], dtype=object)"
      ]
     },
     "execution_count": 16,
     "metadata": {},
     "output_type": "execute_result"
    }
   ],
   "source": [
    "all_console_reviews['num_players'].unique()"
   ]
  },
  {
   "cell_type": "code",
   "execution_count": 17,
   "id": "dfa18e3d",
   "metadata": {},
   "outputs": [
    {
     "data": {
      "text/plain": [
       "['Dreams',\n",
       " 'Divinity: Original Sin II - Definitive Edition',\n",
       " 'Apex Legends',\n",
       " 'Thronebreaker: The Witcher Tales',\n",
       " 'Warframe',\n",
       " 'Kingdom Two Crowns',\n",
       " 'Half-Life',\n",
       " \"Sid Meier's Civilization IV\",\n",
       " 'Microsoft Flight Simulator',\n",
       " 'Spelunky 2',\n",
       " 'Factorio',\n",
       " 'The Pathless']"
      ]
     },
     "execution_count": 17,
     "metadata": {},
     "output_type": "execute_result"
    }
   ],
   "source": [
    "list(all_console_reviews[all_console_reviews['num_players'] == 'Online Multiplayer']\\\n",
    "['video_game_name'].unique())[:]"
   ]
  },
  {
   "cell_type": "markdown",
   "id": "2dacc2ec",
   "metadata": {},
   "source": [
    "### For 'Online Multiplayer' these have varying number of players, some are MMOs, others battle royales, and others merely having a simple deathmatch mode. For simplicity sake we will change the value to 100, lower than 'Massively Multiplayer' since these were not labeled as the same."
   ]
  },
  {
   "cell_type": "code",
   "execution_count": 18,
   "id": "373f8f2b",
   "metadata": {},
   "outputs": [],
   "source": [
    "all_console_reviews['num_players'] = \\\n",
    "[val.replace('Online Multiplayer', '100')\n",
    " if type(val) != float else val for val in all_console_reviews['num_players']]"
   ]
  },
  {
   "cell_type": "code",
   "execution_count": 19,
   "id": "2297e5b4",
   "metadata": {},
   "outputs": [
    {
     "data": {
      "text/plain": [
       "array(['32', '30', '1', '8', '16', '10', '2', '5', '4', nan, '12', '6',\n",
       "       '150', '60', '100', '64', '3', '22', '20', '24', '18',\n",
       "       '# of players:', '64 Online', '2 Online', '14', '40',\n",
       "       'Friend System Only'], dtype=object)"
      ]
     },
     "execution_count": 19,
     "metadata": {},
     "output_type": "execute_result"
    }
   ],
   "source": [
    "all_console_reviews['num_players'].unique()"
   ]
  },
  {
   "cell_type": "code",
   "execution_count": 20,
   "id": "972c8063",
   "metadata": {},
   "outputs": [
    {
     "data": {
      "text/plain": [
       "['The Sims']"
      ]
     },
     "execution_count": 20,
     "metadata": {},
     "output_type": "execute_result"
    }
   ],
   "source": [
    "list(all_console_reviews[all_console_reviews['num_players'] == '# of players:']\\\n",
    "['video_game_name'].unique())[:]"
   ]
  },
  {
   "cell_type": "markdown",
   "id": "47e33a3d",
   "metadata": {},
   "source": [
    "### The Sims is a single player game with multipler aspects that really only revolve on downloading other players creations etc. We will change this to a value of 1."
   ]
  },
  {
   "cell_type": "code",
   "execution_count": 21,
   "id": "86268815",
   "metadata": {},
   "outputs": [],
   "source": [
    "all_console_reviews['num_players'] = \\\n",
    "[val.replace('# of players:', '1')\n",
    " if type(val) != float else val for val in all_console_reviews['num_players']]"
   ]
  },
  {
   "cell_type": "code",
   "execution_count": 22,
   "id": "9b3af50f",
   "metadata": {},
   "outputs": [
    {
     "data": {
      "text/plain": [
       "array(['32', '30', '1', '8', '16', '10', '2', '5', '4', nan, '12', '6',\n",
       "       '150', '60', '100', '64', '3', '22', '20', '24', '18', '64 Online',\n",
       "       '2 Online', '14', '40', 'Friend System Only'], dtype=object)"
      ]
     },
     "execution_count": 22,
     "metadata": {},
     "output_type": "execute_result"
    }
   ],
   "source": [
    "all_console_reviews['num_players'].unique()"
   ]
  },
  {
   "cell_type": "code",
   "execution_count": 23,
   "id": "12081d53",
   "metadata": {},
   "outputs": [
    {
     "data": {
      "text/plain": [
       "['Control: Ultimate Edition']"
      ]
     },
     "execution_count": 23,
     "metadata": {},
     "output_type": "execute_result"
    }
   ],
   "source": [
    "list(all_console_reviews[all_console_reviews['num_players'] == 'Friend System Only']\\\n",
    "['video_game_name'].unique())[:]"
   ]
  },
  {
   "cell_type": "markdown",
   "id": "4e6e1d5b",
   "metadata": {},
   "source": [
    "### Control is a single player game, change value to 1."
   ]
  },
  {
   "cell_type": "code",
   "execution_count": 24,
   "id": "dd3f6403",
   "metadata": {},
   "outputs": [],
   "source": [
    "all_console_reviews['num_players'] = \\\n",
    "[val.replace('Friend System Only', '1')\n",
    " if type(val) != float else val for val in all_console_reviews['num_players']]"
   ]
  },
  {
   "cell_type": "code",
   "execution_count": 25,
   "id": "4660791a",
   "metadata": {},
   "outputs": [
    {
     "data": {
      "text/plain": [
       "array(['32', '30', '1', '8', '16', '10', '2', '5', '4', nan, '12', '6',\n",
       "       '150', '60', '100', '64', '3', '22', '20', '24', '18', '64 Online',\n",
       "       '2 Online', '14', '40'], dtype=object)"
      ]
     },
     "execution_count": 25,
     "metadata": {},
     "output_type": "execute_result"
    }
   ],
   "source": [
    "all_console_reviews['num_players'].unique()"
   ]
  },
  {
   "cell_type": "markdown",
   "id": "f6198148",
   "metadata": {},
   "source": [
    "### Now we can do a final cleanup of values that have 'Online' and we are good to further inspect null values"
   ]
  },
  {
   "cell_type": "code",
   "execution_count": 26,
   "id": "51543fd4",
   "metadata": {},
   "outputs": [],
   "source": [
    "all_console_reviews['num_players'] = \\\n",
    "[val.replace(' Online', '')\n",
    " if type(val) != float else val for val in all_console_reviews['num_players']]"
   ]
  },
  {
   "cell_type": "code",
   "execution_count": 27,
   "id": "18eeb2ff",
   "metadata": {},
   "outputs": [
    {
     "data": {
      "text/plain": [
       "array(['32', '30', '1', '8', '16', '10', '2', '5', '4', nan, '12', '6',\n",
       "       '150', '60', '100', '64', '3', '22', '20', '24', '18', '14', '40'],\n",
       "      dtype=object)"
      ]
     },
     "execution_count": 27,
     "metadata": {},
     "output_type": "execute_result"
    }
   ],
   "source": [
    "all_console_reviews['num_players'].unique()"
   ]
  },
  {
   "cell_type": "code",
   "execution_count": 28,
   "id": "90172e10",
   "metadata": {},
   "outputs": [
    {
     "data": {
      "text/plain": [
       "array(['Final Fantasy XIV: Shadowbringers', 'INSIDE', 'Shovel Knight',\n",
       "       'Tales From The Borderlands: Episode 5 - The Vault of the Traveler',\n",
       "       'Monster Hunter: World - Iceborne', 'Rez Infinite', 'Bastion',\n",
       "       'The Binding of Isaac: Rebirth',\n",
       "       'Keep Talking and Nobody Explodes',\n",
       "       'The Talos Principle: Deluxe Edition',\n",
       "       'Nex Machina: Death Machine',\n",
       "       'Guacamelee! Super Turbo Championship Edition',\n",
       "       'Bloodborne: The Old Hunters', 'The Witness', 'Night in the Woods',\n",
       "       'TowerFall Ascension', 'Psychonauts 2', 'NBA 2K17',\n",
       "       'Destiny: The Taken King', 'Pro Evolution Soccer 2017',\n",
       "       'Forza Horizon 3: Hot Wheels', 'DiRT Rally',\n",
       "       'Killer Instinct Season 3', 'Destiny 2: Forsaken',\n",
       "       'Dying Light: The Following', 'DiRT 4', 'Firewatch',\n",
       "       'Tetris Effect: Connected', 'Chicory: A Colorful Tale',\n",
       "       \"Death's Door\", 'DUSK', 'Portal 2', 'Warcraft III: Reign of Chaos',\n",
       "       \"Sid Meier's Alpha Centauri\", 'Final Fantasy XIV: Endwalker',\n",
       "       'Out of the Park Baseball 17', 'Medal of Honor: Allied Assault',\n",
       "       'Forza Horizon 5', 'Kentucky Route Zero - Act III',\n",
       "       'Batman: Arkham City',\n",
       "       \"No One Lives Forever 2: A Spy in H.A.R.M.'s Way\",\n",
       "       'The Stanley Parable: Ultra Deluxe', 'OlliOlli World',\n",
       "       'Destiny 2: The Witch Queen', 'Tails Of Iron',\n",
       "       'Crusader Kings III: Console Edition', 'The Artful Escape',\n",
       "       'Diablo II: Resurrected', 'The King of Fighters XV',\n",
       "       'Evil Genius 2: World Domination', 'Riders Republic', 'FIFA 22',\n",
       "       'Chorus', 'Exo One', 'Super Monkey Ball: Banana Mania',\n",
       "       'Shadow Warrior 3', 'Sherlock Holmes: Chapter One',\n",
       "       'Echo Generation', 'Lost in Random', 'NHL 22',\n",
       "       'Jurassic World Evolution 2',\n",
       "       \"Assassin's Creed Valhalla: Wrath of the Druids\",\n",
       "       'Farming Simulator 22', 'Lawn Mowing Simulator', 'Trek to Yomi',\n",
       "       'Twelve Minutes', 'Gran Turismo 7',\n",
       "       'Uncharted: Legacy of Thieves Collection', 'Roki',\n",
       "       'Final Fantasy VII Remake Intergrade: Episode INTERmission',\n",
       "       'Assetto Corsa Competizione',\n",
       "       'Life is Strange: True Colors - Wavelengths', 'Eldest Souls',\n",
       "       'Ghostrunner', 'Souldiers', 'Solar Ash'], dtype=object)"
      ]
     },
     "execution_count": 28,
     "metadata": {},
     "output_type": "execute_result"
    }
   ],
   "source": [
    "all_console_reviews[all_console_reviews['num_players'].isnull()]['video_game_name'].unique()"
   ]
  },
  {
   "cell_type": "markdown",
   "id": "fb939296",
   "metadata": {},
   "source": [
    "### The list of the games above with a missing `num_players` value range from indie developed games to massive AAA franchise games. A quick spot check of a few games shows that they are single player games. For this reason we will replace all null values in this column with 1. We will also change the type into an int."
   ]
  },
  {
   "cell_type": "code",
   "execution_count": 29,
   "id": "90f989af",
   "metadata": {},
   "outputs": [],
   "source": [
    "all_console_reviews['num_players'].fillna('1', inplace=True)"
   ]
  },
  {
   "cell_type": "code",
   "execution_count": 30,
   "id": "05ac5fe9",
   "metadata": {},
   "outputs": [],
   "source": [
    "all_console_reviews['num_players'] = all_console_reviews['num_players'].astype(int)"
   ]
  },
  {
   "cell_type": "code",
   "execution_count": 31,
   "id": "4d9b4c4c",
   "metadata": {},
   "outputs": [
    {
     "data": {
      "text/plain": [
       "console               0\n",
       "video_game_name       0\n",
       "summary               0\n",
       "developer             0\n",
       "genre(s)              0\n",
       "num_players           0\n",
       "esrb_rating        6513\n",
       "critic_score          0\n",
       "avg_user_score     2729\n",
       "user_review           0\n",
       "user_score            0\n",
       "dtype: int64"
      ]
     },
     "execution_count": 31,
     "metadata": {},
     "output_type": "execute_result"
    }
   ],
   "source": [
    "all_console_reviews.isnull().sum()"
   ]
  },
  {
   "cell_type": "markdown",
   "id": "d44339d0",
   "metadata": {},
   "source": [
    "## Now let's take a look at the `esrb_rating` column, we want to clean the values and then address the null values. For further information on ESRB rating see [ESRB Rating Guide](https://www.esrb.org/ratings-guide/)"
   ]
  },
  {
   "cell_type": "code",
   "execution_count": 32,
   "id": "7be40cf3",
   "metadata": {},
   "outputs": [
    {
     "data": {
      "text/plain": [
       "array(['Rating: M', 'Rating: T', 'Rating: E', 'Rating: E10+', nan,\n",
       "       'Rating: K-A'], dtype=object)"
      ]
     },
     "execution_count": 32,
     "metadata": {},
     "output_type": "execute_result"
    }
   ],
   "source": [
    "all_console_reviews['esrb_rating'].unique()"
   ]
  },
  {
   "cell_type": "markdown",
   "id": "590a7e30",
   "metadata": {},
   "source": [
    "### We want to extract only the rating itself and get rid of any extra text."
   ]
  },
  {
   "cell_type": "code",
   "execution_count": 33,
   "id": "114f5516",
   "metadata": {},
   "outputs": [],
   "source": [
    "all_console_reviews['esrb_rating'] = \\\n",
    "[val.replace('Rating: ', '')\n",
    " if type(val) != float else val for val in all_console_reviews['esrb_rating']]"
   ]
  },
  {
   "cell_type": "code",
   "execution_count": 34,
   "id": "52deb04e",
   "metadata": {},
   "outputs": [
    {
     "data": {
      "text/plain": [
       "array(['M', 'T', 'E', 'E10+', nan, 'K-A'], dtype=object)"
      ]
     },
     "execution_count": 34,
     "metadata": {},
     "output_type": "execute_result"
    }
   ],
   "source": [
    "all_console_reviews['esrb_rating'].unique()"
   ]
  },
  {
   "cell_type": "markdown",
   "id": "12897517",
   "metadata": {},
   "source": [
    "### Let's take a closer look at 'K-A'."
   ]
  },
  {
   "cell_type": "code",
   "execution_count": 35,
   "id": "9fd67a34",
   "metadata": {},
   "outputs": [
    {
     "data": {
      "text/plain": [
       "[\"Sid Meier's Civilization II\", \"Sid Meier's Gettysburg!\"]"
      ]
     },
     "execution_count": 35,
     "metadata": {},
     "output_type": "execute_result"
    }
   ],
   "source": [
    "list(all_console_reviews[all_console_reviews['esrb_rating'] == 'K-A']\\\n",
    "['video_game_name'].unique())"
   ]
  },
  {
   "cell_type": "markdown",
   "id": "e076ea12",
   "metadata": {},
   "source": [
    "### Looking into these games and the ['K-A' rating history](https://www.esrb.org/history/) we can safely change the value to E."
   ]
  },
  {
   "cell_type": "code",
   "execution_count": 36,
   "id": "3857d45c",
   "metadata": {},
   "outputs": [],
   "source": [
    "all_console_reviews['esrb_rating'] = \\\n",
    "[val.replace('K-A', 'E')\n",
    " if type(val) != float else val for val in all_console_reviews['esrb_rating']]"
   ]
  },
  {
   "cell_type": "code",
   "execution_count": 37,
   "id": "19137f4f",
   "metadata": {},
   "outputs": [
    {
     "data": {
      "text/plain": [
       "array(['M', 'T', 'E', 'E10+', nan], dtype=object)"
      ]
     },
     "execution_count": 37,
     "metadata": {},
     "output_type": "execute_result"
    }
   ],
   "source": [
    "all_console_reviews['esrb_rating'].unique()"
   ]
  },
  {
   "cell_type": "markdown",
   "id": "bac1753c",
   "metadata": {},
   "source": [
    "### Now that we have cleaned up our values let's take a closer look at the null values"
   ]
  },
  {
   "cell_type": "code",
   "execution_count": 38,
   "id": "191c529d",
   "metadata": {},
   "outputs": [
    {
     "data": {
      "text/plain": [
       "array(['Injustice 2: Legendary Edition', 'Pistol Whip',\n",
       "       'Forza Horizon 3: Hot Wheels', 'Killer Instinct Season 3',\n",
       "       'Forza Horizon 2', 'Guacamelee! 2', 'Tetris Effect: Connected',\n",
       "       'Chicory: A Colorful Tale', 'Fez',\n",
       "       'Guacamelee! Super Turbo Championship Edition', 'Sumire',\n",
       "       'Half-Life: Alyx', 'Divinity: Original Sin II', 'Beat Saber',\n",
       "       'Undertale', 'Galactic Civilizations II: Twilight of the Arnor',\n",
       "       'Final Fantasy XIV: Endwalker', 'Out of the Park Baseball 17',\n",
       "       'Kentucky Route Zero - Act III',\n",
       "       'Galactic Civilizations II: Dark Avatar', 'Disco Elysium',\n",
       "       'Spelunky 2', 'Factorio', 'Spelunky',\n",
       "       'The Stanley Parable: Ultra Deluxe',\n",
       "       \"Tony Hawk's Pro Skater 1 + 2\", 'Planet Coaster: Console Edition',\n",
       "       \"Assassin's Creed Valhalla\", \"Marvel's Guardians of the Galaxy\",\n",
       "       'Yakuza: Like a Dragon', 'MLB The Show 21', 'NBA 2K21',\n",
       "       'Football Manager 2021', 'Haven', 'Sniper Elite 5', 'Exo One',\n",
       "       'Samurai Shodown: Special Edition', 'MotoGP 21',\n",
       "       'Shadow Warrior 3', 'Echo Generation',\n",
       "       \"Assassin's Creed Valhalla: Wrath of the Druids\",\n",
       "       'Lawn Mowing Simulator', 'Trek to Yomi', \"Demon's Souls\",\n",
       "       'It Takes Two', 'Uncharted: Legacy of Thieves Collection',\n",
       "       'Guilty Gear -Strive-', \"Crash Bandicoot 4: It's About Time\",\n",
       "       'Chivalry 2', 'Warframe', 'Ghost of Tsushima: Iki Island',\n",
       "       'WRC 9 FIA World Rally Championship', 'Roki',\n",
       "       'Life is Strange: True Colors - Wavelengths', 'Eldest Souls',\n",
       "       'Ghostrunner', 'Souldiers', 'Solar Ash', 'Salt and Sacrifice'],\n",
       "      dtype=object)"
      ]
     },
     "execution_count": 38,
     "metadata": {},
     "output_type": "execute_result"
    }
   ],
   "source": [
    "all_console_reviews[all_console_reviews['esrb_rating'].isnull()]['video_game_name'].unique()"
   ]
  },
  {
   "cell_type": "code",
   "execution_count": 39,
   "id": "12f0b1e8",
   "metadata": {},
   "outputs": [
    {
     "data": {
      "text/plain": [
       "count     105832\n",
       "unique         4\n",
       "top            M\n",
       "freq       53687\n",
       "Name: esrb_rating, dtype: object"
      ]
     },
     "execution_count": 39,
     "metadata": {},
     "output_type": "execute_result"
    }
   ],
   "source": [
    "all_console_reviews['esrb_rating'].describe()"
   ]
  },
  {
   "cell_type": "markdown",
   "id": "f39f12f2",
   "metadata": {},
   "source": [
    "### The list of games with a null rating are a variety of different games, but for simplicity let us impute the null values to be the most frequent rating, which in this case is the M rating."
   ]
  },
  {
   "cell_type": "code",
   "execution_count": 40,
   "id": "d3a8fd26",
   "metadata": {},
   "outputs": [],
   "source": [
    "all_console_reviews['esrb_rating'].fillna('M', inplace=True)"
   ]
  },
  {
   "cell_type": "code",
   "execution_count": 41,
   "id": "499fb147",
   "metadata": {},
   "outputs": [
    {
     "data": {
      "text/plain": [
       "console               0\n",
       "video_game_name       0\n",
       "summary               0\n",
       "developer             0\n",
       "genre(s)              0\n",
       "num_players           0\n",
       "esrb_rating           0\n",
       "critic_score          0\n",
       "avg_user_score     2729\n",
       "user_review           0\n",
       "user_score            0\n",
       "dtype: int64"
      ]
     },
     "execution_count": 41,
     "metadata": {},
     "output_type": "execute_result"
    }
   ],
   "source": [
    "all_console_reviews.isnull().sum()"
   ]
  },
  {
   "cell_type": "markdown",
   "id": "ebcfcbaa",
   "metadata": {},
   "source": [
    "## Now let's take a look at the `avg_user_score` column, we want to clean the values and then address the null values."
   ]
  },
  {
   "cell_type": "code",
   "execution_count": 42,
   "id": "c078b1a1",
   "metadata": {},
   "outputs": [
    {
     "data": {
      "text/plain": [
       "count    109616.000000\n",
       "mean          8.004043\n",
       "std           1.215970\n",
       "min           2.000000\n",
       "25%           7.700000\n",
       "50%           8.400000\n",
       "75%           8.800000\n",
       "max           9.400000\n",
       "Name: avg_user_score, dtype: float64"
      ]
     },
     "execution_count": 42,
     "metadata": {},
     "output_type": "execute_result"
    }
   ],
   "source": [
    "all_console_reviews['avg_user_score'].describe()"
   ]
  },
  {
   "cell_type": "code",
   "execution_count": 43,
   "id": "2b80359b",
   "metadata": {},
   "outputs": [
    {
     "data": {
      "text/plain": [
       "array([8.6, 8.3, 8.5, 9.2, 9.1, 5.7, 8.7, 8.2, 8.8, 8.9, 7.2, 7.9, 8.4,\n",
       "       7.8, 7.6, 9. , 8. , 7.3, 6.4, 7.7, 7.5, 6.9, 7.4, 6.3, 7. , 6.6,\n",
       "       7.1, 6.1, 8.1, 6.5, 5.2, 6.7, 6.8, 5.9, 5.3, 5.6, 5.8, 4.4, 6.2,\n",
       "       3.4, 4.2, 4.1, 9.4, 3.3, 5. , 6. , 3.8, nan, 5.4, 5.5, 3.6, 5.1,\n",
       "       3.5, 4.8, 2.8, 4.6, 3.9, 4.7, 4.5, 2. , 2.5, 2.6])"
      ]
     },
     "execution_count": 43,
     "metadata": {},
     "output_type": "execute_result"
    }
   ],
   "source": [
    "all_console_reviews['avg_user_score'].unique()"
   ]
  },
  {
   "cell_type": "markdown",
   "id": "c4f6ac57",
   "metadata": {},
   "source": [
    "### We will filter the df by games with null in avg_user_score. Then group by video_game_name and impute nulls with the mean user score for each of those games."
   ]
  },
  {
   "cell_type": "code",
   "execution_count": 44,
   "id": "f3555f7a",
   "metadata": {},
   "outputs": [],
   "source": [
    "null_avg_user_score = all_console_reviews[all_console_reviews['avg_user_score'].isnull()]\n",
    "vg_groupby_df = null_avg_user_score.groupby('video_game_name').mean()"
   ]
  },
  {
   "cell_type": "code",
   "execution_count": 45,
   "id": "09a2c7ae",
   "metadata": {},
   "outputs": [
    {
     "data": {
      "text/html": [
       "<div>\n",
       "<style scoped>\n",
       "    .dataframe tbody tr th:only-of-type {\n",
       "        vertical-align: middle;\n",
       "    }\n",
       "\n",
       "    .dataframe tbody tr th {\n",
       "        vertical-align: top;\n",
       "    }\n",
       "\n",
       "    .dataframe thead th {\n",
       "        text-align: right;\n",
       "    }\n",
       "</style>\n",
       "<table border=\"1\" class=\"dataframe\">\n",
       "  <thead>\n",
       "    <tr style=\"text-align: right;\">\n",
       "      <th></th>\n",
       "      <th>num_players</th>\n",
       "      <th>critic_score</th>\n",
       "      <th>avg_user_score</th>\n",
       "      <th>user_score</th>\n",
       "    </tr>\n",
       "    <tr>\n",
       "      <th>video_game_name</th>\n",
       "      <th></th>\n",
       "      <th></th>\n",
       "      <th></th>\n",
       "      <th></th>\n",
       "    </tr>\n",
       "  </thead>\n",
       "  <tbody>\n",
       "    <tr>\n",
       "      <th>Death Stranding: Director's Cut</th>\n",
       "      <td>1.0</td>\n",
       "      <td>85.0</td>\n",
       "      <td>NaN</td>\n",
       "      <td>8.288660</td>\n",
       "    </tr>\n",
       "    <tr>\n",
       "      <th>Forza Horizon 5</th>\n",
       "      <td>1.0</td>\n",
       "      <td>92.0</td>\n",
       "      <td>NaN</td>\n",
       "      <td>7.759000</td>\n",
       "    </tr>\n",
       "    <tr>\n",
       "      <th>Horizon Forbidden West</th>\n",
       "      <td>1.0</td>\n",
       "      <td>88.0</td>\n",
       "      <td>NaN</td>\n",
       "      <td>8.596000</td>\n",
       "    </tr>\n",
       "    <tr>\n",
       "      <th>Lawn Mowing Simulator</th>\n",
       "      <td>1.0</td>\n",
       "      <td>72.0</td>\n",
       "      <td>NaN</td>\n",
       "      <td>4.000000</td>\n",
       "    </tr>\n",
       "    <tr>\n",
       "      <th>Marvel's Guardians of the Galaxy</th>\n",
       "      <td>1.0</td>\n",
       "      <td>80.0</td>\n",
       "      <td>NaN</td>\n",
       "      <td>8.588477</td>\n",
       "    </tr>\n",
       "    <tr>\n",
       "      <th>MotoGP 21</th>\n",
       "      <td>14.0</td>\n",
       "      <td>77.0</td>\n",
       "      <td>NaN</td>\n",
       "      <td>9.000000</td>\n",
       "    </tr>\n",
       "    <tr>\n",
       "      <th>MotoGP 22</th>\n",
       "      <td>12.0</td>\n",
       "      <td>81.0</td>\n",
       "      <td>NaN</td>\n",
       "      <td>10.000000</td>\n",
       "    </tr>\n",
       "    <tr>\n",
       "      <th>Relayer</th>\n",
       "      <td>1.0</td>\n",
       "      <td>77.0</td>\n",
       "      <td>NaN</td>\n",
       "      <td>9.000000</td>\n",
       "    </tr>\n",
       "    <tr>\n",
       "      <th>Roki</th>\n",
       "      <td>1.0</td>\n",
       "      <td>82.0</td>\n",
       "      <td>NaN</td>\n",
       "      <td>9.000000</td>\n",
       "    </tr>\n",
       "    <tr>\n",
       "      <th>The Quarry</th>\n",
       "      <td>8.0</td>\n",
       "      <td>77.0</td>\n",
       "      <td>NaN</td>\n",
       "      <td>6.285714</td>\n",
       "    </tr>\n",
       "  </tbody>\n",
       "</table>\n",
       "</div>"
      ],
      "text/plain": [
       "                                  num_players  critic_score  avg_user_score  \\\n",
       "video_game_name                                                               \n",
       "Death Stranding: Director's Cut           1.0          85.0             NaN   \n",
       "Forza Horizon 5                           1.0          92.0             NaN   \n",
       "Horizon Forbidden West                    1.0          88.0             NaN   \n",
       "Lawn Mowing Simulator                     1.0          72.0             NaN   \n",
       "Marvel's Guardians of the Galaxy          1.0          80.0             NaN   \n",
       "MotoGP 21                                14.0          77.0             NaN   \n",
       "MotoGP 22                                12.0          81.0             NaN   \n",
       "Relayer                                   1.0          77.0             NaN   \n",
       "Roki                                      1.0          82.0             NaN   \n",
       "The Quarry                                8.0          77.0             NaN   \n",
       "\n",
       "                                  user_score  \n",
       "video_game_name                               \n",
       "Death Stranding: Director's Cut     8.288660  \n",
       "Forza Horizon 5                     7.759000  \n",
       "Horizon Forbidden West              8.596000  \n",
       "Lawn Mowing Simulator               4.000000  \n",
       "Marvel's Guardians of the Galaxy    8.588477  \n",
       "MotoGP 21                           9.000000  \n",
       "MotoGP 22                          10.000000  \n",
       "Relayer                             9.000000  \n",
       "Roki                                9.000000  \n",
       "The Quarry                          6.285714  "
      ]
     },
     "execution_count": 45,
     "metadata": {},
     "output_type": "execute_result"
    }
   ],
   "source": [
    "vg_groupby_df"
   ]
  },
  {
   "cell_type": "markdown",
   "id": "e383855d",
   "metadata": {},
   "source": [
    "### Create a dictionary from the games with null avg_user_score use the video game names as keys and mean user_score as values."
   ]
  },
  {
   "cell_type": "code",
   "execution_count": 46,
   "id": "ce4cfe08",
   "metadata": {},
   "outputs": [],
   "source": [
    "user_score_avg_impute = {game:vg_groupby_df.iloc[i,3] for i, game in enumerate(list(vg_groupby_df.index))}"
   ]
  },
  {
   "cell_type": "code",
   "execution_count": 47,
   "id": "fd2a303b",
   "metadata": {},
   "outputs": [
    {
     "data": {
      "text/plain": [
       "{\"Death Stranding: Director's Cut\": 8.288659793814434,\n",
       " 'Forza Horizon 5': 7.759,\n",
       " 'Horizon Forbidden West': 8.596,\n",
       " 'Lawn Mowing Simulator': 4.0,\n",
       " \"Marvel's Guardians of the Galaxy\": 8.588477366255145,\n",
       " 'MotoGP 21': 9.0,\n",
       " 'MotoGP 22': 10.0,\n",
       " 'Relayer': 9.0,\n",
       " 'Roki': 9.0,\n",
       " 'The Quarry': 6.285714285714286}"
      ]
     },
     "execution_count": 47,
     "metadata": {},
     "output_type": "execute_result"
    }
   ],
   "source": [
    "user_score_avg_impute"
   ]
  },
  {
   "cell_type": "markdown",
   "id": "267a9ea8",
   "metadata": {},
   "source": [
    "### Finally lets replace the null values with the values in the dictionary."
   ]
  },
  {
   "cell_type": "code",
   "execution_count": 48,
   "id": "53306ebc",
   "metadata": {},
   "outputs": [],
   "source": [
    "for key in user_score_avg_impute:\n",
    "    all_console_reviews.loc[all_console_reviews.video_game_name == key, 'avg_user_score']\\\n",
    "    = round(user_score_avg_impute[key], 1)"
   ]
  },
  {
   "cell_type": "code",
   "execution_count": 49,
   "id": "2eed7bdb",
   "metadata": {},
   "outputs": [
    {
     "data": {
      "text/plain": [
       "console            0\n",
       "video_game_name    0\n",
       "summary            0\n",
       "developer          0\n",
       "genre(s)           0\n",
       "num_players        0\n",
       "esrb_rating        0\n",
       "critic_score       0\n",
       "avg_user_score     0\n",
       "user_review        0\n",
       "user_score         0\n",
       "dtype: int64"
      ]
     },
     "execution_count": 49,
     "metadata": {},
     "output_type": "execute_result"
    }
   ],
   "source": [
    "all_console_reviews.isnull().sum()"
   ]
  },
  {
   "cell_type": "markdown",
   "id": "e491df1c",
   "metadata": {},
   "source": [
    "### We have successfully removed all null values!"
   ]
  },
  {
   "cell_type": "code",
   "execution_count": 54,
   "id": "619517f4",
   "metadata": {},
   "outputs": [
    {
     "data": {
      "text/html": [
       "<div>\n",
       "<style scoped>\n",
       "    .dataframe tbody tr th:only-of-type {\n",
       "        vertical-align: middle;\n",
       "    }\n",
       "\n",
       "    .dataframe tbody tr th {\n",
       "        vertical-align: top;\n",
       "    }\n",
       "\n",
       "    .dataframe thead th {\n",
       "        text-align: right;\n",
       "    }\n",
       "</style>\n",
       "<table border=\"1\" class=\"dataframe\">\n",
       "  <thead>\n",
       "    <tr style=\"text-align: right;\">\n",
       "      <th></th>\n",
       "      <th>console</th>\n",
       "      <th>video_game_name</th>\n",
       "      <th>summary</th>\n",
       "      <th>developer</th>\n",
       "      <th>genre(s)</th>\n",
       "      <th>num_players</th>\n",
       "      <th>esrb_rating</th>\n",
       "      <th>critic_score</th>\n",
       "      <th>avg_user_score</th>\n",
       "      <th>user_review</th>\n",
       "      <th>user_score</th>\n",
       "    </tr>\n",
       "  </thead>\n",
       "  <tbody>\n",
       "    <tr>\n",
       "      <th>0</th>\n",
       "      <td>ps4</td>\n",
       "      <td>Red Dead Redemption 2</td>\n",
       "      <td>Developed by the creators of Grand Theft Auto ...</td>\n",
       "      <td>Rockstar Games</td>\n",
       "      <td>Genre(s): Action Adventure, Open-World</td>\n",
       "      <td>32</td>\n",
       "      <td>M</td>\n",
       "      <td>97</td>\n",
       "      <td>8.6</td>\n",
       "      <td>\\nThis site is a joke, this the first time whe...</td>\n",
       "      <td>9</td>\n",
       "    </tr>\n",
       "    <tr>\n",
       "      <th>1</th>\n",
       "      <td>ps4</td>\n",
       "      <td>Red Dead Redemption 2</td>\n",
       "      <td>Developed by the creators of Grand Theft Auto ...</td>\n",
       "      <td>Rockstar Games</td>\n",
       "      <td>Genre(s): Action Adventure, Open-World</td>\n",
       "      <td>32</td>\n",
       "      <td>M</td>\n",
       "      <td>97</td>\n",
       "      <td>8.6</td>\n",
       "      <td>Fair review of RDR2\\r I'm almost 15% finished ...</td>\n",
       "      <td>7</td>\n",
       "    </tr>\n",
       "    <tr>\n",
       "      <th>2</th>\n",
       "      <td>ps4</td>\n",
       "      <td>Red Dead Redemption 2</td>\n",
       "      <td>Developed by the creators of Grand Theft Auto ...</td>\n",
       "      <td>Rockstar Games</td>\n",
       "      <td>Genre(s): Action Adventure, Open-World</td>\n",
       "      <td>32</td>\n",
       "      <td>M</td>\n",
       "      <td>97</td>\n",
       "      <td>8.6</td>\n",
       "      <td>I really wanted to love it. The over-world is ...</td>\n",
       "      <td>6</td>\n",
       "    </tr>\n",
       "    <tr>\n",
       "      <th>3</th>\n",
       "      <td>ps4</td>\n",
       "      <td>Red Dead Redemption 2</td>\n",
       "      <td>Developed by the creators of Grand Theft Auto ...</td>\n",
       "      <td>Rockstar Games</td>\n",
       "      <td>Genre(s): Action Adventure, Open-World</td>\n",
       "      <td>32</td>\n",
       "      <td>M</td>\n",
       "      <td>97</td>\n",
       "      <td>8.6</td>\n",
       "      <td>\\nBeautiful graphics, excellent voice acting, ...</td>\n",
       "      <td>7</td>\n",
       "    </tr>\n",
       "    <tr>\n",
       "      <th>4</th>\n",
       "      <td>ps4</td>\n",
       "      <td>Red Dead Redemption 2</td>\n",
       "      <td>Developed by the creators of Grand Theft Auto ...</td>\n",
       "      <td>Rockstar Games</td>\n",
       "      <td>Genre(s): Action Adventure, Open-World</td>\n",
       "      <td>32</td>\n",
       "      <td>M</td>\n",
       "      <td>97</td>\n",
       "      <td>8.6</td>\n",
       "      <td>This game is really overrated.\\rThe amazing en...</td>\n",
       "      <td>7</td>\n",
       "    </tr>\n",
       "  </tbody>\n",
       "</table>\n",
       "</div>"
      ],
      "text/plain": [
       "  console        video_game_name  \\\n",
       "0     ps4  Red Dead Redemption 2   \n",
       "1     ps4  Red Dead Redemption 2   \n",
       "2     ps4  Red Dead Redemption 2   \n",
       "3     ps4  Red Dead Redemption 2   \n",
       "4     ps4  Red Dead Redemption 2   \n",
       "\n",
       "                                             summary       developer  \\\n",
       "0  Developed by the creators of Grand Theft Auto ...  Rockstar Games   \n",
       "1  Developed by the creators of Grand Theft Auto ...  Rockstar Games   \n",
       "2  Developed by the creators of Grand Theft Auto ...  Rockstar Games   \n",
       "3  Developed by the creators of Grand Theft Auto ...  Rockstar Games   \n",
       "4  Developed by the creators of Grand Theft Auto ...  Rockstar Games   \n",
       "\n",
       "                                 genre(s)  num_players esrb_rating  \\\n",
       "0  Genre(s): Action Adventure, Open-World           32           M   \n",
       "1  Genre(s): Action Adventure, Open-World           32           M   \n",
       "2  Genre(s): Action Adventure, Open-World           32           M   \n",
       "3  Genre(s): Action Adventure, Open-World           32           M   \n",
       "4  Genre(s): Action Adventure, Open-World           32           M   \n",
       "\n",
       "   critic_score  avg_user_score  \\\n",
       "0            97             8.6   \n",
       "1            97             8.6   \n",
       "2            97             8.6   \n",
       "3            97             8.6   \n",
       "4            97             8.6   \n",
       "\n",
       "                                         user_review  user_score  \n",
       "0  \\nThis site is a joke, this the first time whe...           9  \n",
       "1  Fair review of RDR2\\r I'm almost 15% finished ...           7  \n",
       "2  I really wanted to love it. The over-world is ...           6  \n",
       "3  \\nBeautiful graphics, excellent voice acting, ...           7  \n",
       "4  This game is really overrated.\\rThe amazing en...           7  "
      ]
     },
     "execution_count": 54,
     "metadata": {},
     "output_type": "execute_result"
    }
   ],
   "source": [
    "all_console_reviews.head()"
   ]
  },
  {
   "cell_type": "markdown",
   "id": "df2e130e",
   "metadata": {},
   "source": [
    "## Data Dictionary\n",
    "|Feature|Type|Description|\n",
    "|---|---|---|\n",
    "| console | object |electronic device that outputs a video signal or image to display a video game|\n",
    "| video_game_name |object | name of video game|\n",
    "| summary |object | summary of what video game is about|\n",
    "| developer |object | the developer (creator) of the video game|\n",
    "| genre(s) |object | genre of video game|\n",
    "| num_players* | int| max number of players that can play in the same game environment at the same time|\n",
    "| esrb_rating |object | ESRB (Entertainment Software Rating Board) rating of video game|\n",
    "| critic_score |int| critic review score of video game|\n",
    "| avg_user_score |float| average user review score of video game|\n",
    "| user_review |object | user review of video game|\n",
    "| user_score |int|user score of video game |\n",
    "\n",
    "\\* values of 100 - games with online multiplayer <br>\n",
    "\\* values of 150 - games considered to be MMOs (massive multipler online games)"
   ]
  },
  {
   "cell_type": "code",
   "execution_count": null,
   "id": "2ac2888a",
   "metadata": {},
   "outputs": [],
   "source": []
  }
 ],
 "metadata": {
  "kernelspec": {
   "display_name": "Python 3 (ipykernel)",
   "language": "python",
   "name": "python3"
  },
  "language_info": {
   "codemirror_mode": {
    "name": "ipython",
    "version": 3
   },
   "file_extension": ".py",
   "mimetype": "text/x-python",
   "name": "python",
   "nbconvert_exporter": "python",
   "pygments_lexer": "ipython3",
   "version": "3.9.7"
  }
 },
 "nbformat": 4,
 "nbformat_minor": 5
}
