{
 "cells": [
  {
   "cell_type": "markdown",
   "id": "6f93d1fb",
   "metadata": {},
   "source": [
    "# Data Cleaning\n",
    "---"
   ]
  },
  {
   "cell_type": "markdown",
   "id": "c1aefd9f",
   "metadata": {},
   "source": [
    "## Now that we have web scraped our user reviews for the top 100 games on each console let's read in our data and combine it all into one master data frame."
   ]
  },
  {
   "cell_type": "code",
   "execution_count": 1,
   "id": "29628097",
   "metadata": {},
   "outputs": [],
   "source": [
    "import pandas as pd\n",
    "from cleantext import clean"
   ]
  },
  {
   "cell_type": "code",
   "execution_count": 2,
   "id": "2770f44b",
   "metadata": {},
   "outputs": [],
   "source": [
    "ps4_reviews = pd.read_csv('../data/top_100_ps4_games.csv')\n",
    "xboxone_reviews = pd.read_csv('../data/top_100_xboxone_games.csv')\n",
    "switch_reviews = pd.read_csv('../data/top_100_switch_games.csv')\n",
    "pc_reviews = pd.read_csv('../data/top_100_pc_games.csv')\n",
    "xbox_series_x_reviews = pd.read_csv('../data/top_100_xbox-series-x_games.csv')\n",
    "ps5_reviews = pd.read_csv('../data/top_100_ps5_games.csv')"
   ]
  },
  {
   "cell_type": "code",
   "execution_count": 3,
   "id": "e5cacc03",
   "metadata": {},
   "outputs": [],
   "source": [
    "all_console_reviews = pd.concat(\n",
    "    [ps4_reviews, xboxone_reviews, switch_reviews, pc_reviews, xbox_series_x_reviews, ps5_reviews], \n",
    "    ignore_index=True)"
   ]
  },
  {
   "cell_type": "markdown",
   "id": "0c4d333d",
   "metadata": {},
   "source": [
    "### Now that we have a master data frame let's take a look at the first few rows and get the shape to see how many total rows and columns we are working with."
   ]
  },
  {
   "cell_type": "code",
   "execution_count": 4,
   "id": "7d0ea9e1",
   "metadata": {},
   "outputs": [
    {
     "name": "stdout",
     "output_type": "stream",
     "text": [
      "(112345, 11)\n"
     ]
    },
    {
     "data": {
      "text/html": [
       "<div>\n",
       "<style scoped>\n",
       "    .dataframe tbody tr th:only-of-type {\n",
       "        vertical-align: middle;\n",
       "    }\n",
       "\n",
       "    .dataframe tbody tr th {\n",
       "        vertical-align: top;\n",
       "    }\n",
       "\n",
       "    .dataframe thead th {\n",
       "        text-align: right;\n",
       "    }\n",
       "</style>\n",
       "<table border=\"1\" class=\"dataframe\">\n",
       "  <thead>\n",
       "    <tr style=\"text-align: right;\">\n",
       "      <th></th>\n",
       "      <th>console</th>\n",
       "      <th>video_game_name</th>\n",
       "      <th>summary</th>\n",
       "      <th>developer</th>\n",
       "      <th>genre(s)</th>\n",
       "      <th>num_players</th>\n",
       "      <th>esrb_rating</th>\n",
       "      <th>critic_score</th>\n",
       "      <th>avg_user_score</th>\n",
       "      <th>user_review</th>\n",
       "      <th>user_score</th>\n",
       "    </tr>\n",
       "  </thead>\n",
       "  <tbody>\n",
       "    <tr>\n",
       "      <th>0</th>\n",
       "      <td>ps4</td>\n",
       "      <td>Red Dead Redemption 2</td>\n",
       "      <td>Developed by the creators of Grand Theft Auto ...</td>\n",
       "      <td>Rockstar Games</td>\n",
       "      <td>Genre(s): Action Adventure, Open-World</td>\n",
       "      <td># of players: Up to 32</td>\n",
       "      <td>Rating: M</td>\n",
       "      <td>97</td>\n",
       "      <td>8.6</td>\n",
       "      <td>\\nThis site is a joke, this the first time whe...</td>\n",
       "      <td>9</td>\n",
       "    </tr>\n",
       "    <tr>\n",
       "      <th>1</th>\n",
       "      <td>ps4</td>\n",
       "      <td>Red Dead Redemption 2</td>\n",
       "      <td>Developed by the creators of Grand Theft Auto ...</td>\n",
       "      <td>Rockstar Games</td>\n",
       "      <td>Genre(s): Action Adventure, Open-World</td>\n",
       "      <td># of players: Up to 32</td>\n",
       "      <td>Rating: M</td>\n",
       "      <td>97</td>\n",
       "      <td>8.6</td>\n",
       "      <td>Fair review of RDR2\\r I'm almost 15% finished ...</td>\n",
       "      <td>7</td>\n",
       "    </tr>\n",
       "    <tr>\n",
       "      <th>2</th>\n",
       "      <td>ps4</td>\n",
       "      <td>Red Dead Redemption 2</td>\n",
       "      <td>Developed by the creators of Grand Theft Auto ...</td>\n",
       "      <td>Rockstar Games</td>\n",
       "      <td>Genre(s): Action Adventure, Open-World</td>\n",
       "      <td># of players: Up to 32</td>\n",
       "      <td>Rating: M</td>\n",
       "      <td>97</td>\n",
       "      <td>8.6</td>\n",
       "      <td>I really wanted to love it. The over-world is ...</td>\n",
       "      <td>6</td>\n",
       "    </tr>\n",
       "    <tr>\n",
       "      <th>3</th>\n",
       "      <td>ps4</td>\n",
       "      <td>Red Dead Redemption 2</td>\n",
       "      <td>Developed by the creators of Grand Theft Auto ...</td>\n",
       "      <td>Rockstar Games</td>\n",
       "      <td>Genre(s): Action Adventure, Open-World</td>\n",
       "      <td># of players: Up to 32</td>\n",
       "      <td>Rating: M</td>\n",
       "      <td>97</td>\n",
       "      <td>8.6</td>\n",
       "      <td>\\nBeautiful graphics, excellent voice acting, ...</td>\n",
       "      <td>7</td>\n",
       "    </tr>\n",
       "    <tr>\n",
       "      <th>4</th>\n",
       "      <td>ps4</td>\n",
       "      <td>Red Dead Redemption 2</td>\n",
       "      <td>Developed by the creators of Grand Theft Auto ...</td>\n",
       "      <td>Rockstar Games</td>\n",
       "      <td>Genre(s): Action Adventure, Open-World</td>\n",
       "      <td># of players: Up to 32</td>\n",
       "      <td>Rating: M</td>\n",
       "      <td>97</td>\n",
       "      <td>8.6</td>\n",
       "      <td>This game is really overrated.\\rThe amazing en...</td>\n",
       "      <td>7</td>\n",
       "    </tr>\n",
       "  </tbody>\n",
       "</table>\n",
       "</div>"
      ],
      "text/plain": [
       "  console        video_game_name  \\\n",
       "0     ps4  Red Dead Redemption 2   \n",
       "1     ps4  Red Dead Redemption 2   \n",
       "2     ps4  Red Dead Redemption 2   \n",
       "3     ps4  Red Dead Redemption 2   \n",
       "4     ps4  Red Dead Redemption 2   \n",
       "\n",
       "                                             summary       developer  \\\n",
       "0  Developed by the creators of Grand Theft Auto ...  Rockstar Games   \n",
       "1  Developed by the creators of Grand Theft Auto ...  Rockstar Games   \n",
       "2  Developed by the creators of Grand Theft Auto ...  Rockstar Games   \n",
       "3  Developed by the creators of Grand Theft Auto ...  Rockstar Games   \n",
       "4  Developed by the creators of Grand Theft Auto ...  Rockstar Games   \n",
       "\n",
       "                                 genre(s)             num_players esrb_rating  \\\n",
       "0  Genre(s): Action Adventure, Open-World  # of players: Up to 32   Rating: M   \n",
       "1  Genre(s): Action Adventure, Open-World  # of players: Up to 32   Rating: M   \n",
       "2  Genre(s): Action Adventure, Open-World  # of players: Up to 32   Rating: M   \n",
       "3  Genre(s): Action Adventure, Open-World  # of players: Up to 32   Rating: M   \n",
       "4  Genre(s): Action Adventure, Open-World  # of players: Up to 32   Rating: M   \n",
       "\n",
       "   critic_score  avg_user_score  \\\n",
       "0            97             8.6   \n",
       "1            97             8.6   \n",
       "2            97             8.6   \n",
       "3            97             8.6   \n",
       "4            97             8.6   \n",
       "\n",
       "                                         user_review  user_score  \n",
       "0  \\nThis site is a joke, this the first time whe...           9  \n",
       "1  Fair review of RDR2\\r I'm almost 15% finished ...           7  \n",
       "2  I really wanted to love it. The over-world is ...           6  \n",
       "3  \\nBeautiful graphics, excellent voice acting, ...           7  \n",
       "4  This game is really overrated.\\rThe amazing en...           7  "
      ]
     },
     "execution_count": 4,
     "metadata": {},
     "output_type": "execute_result"
    }
   ],
   "source": [
    "print(all_console_reviews.shape)\n",
    "all_console_reviews.head()"
   ]
  },
  {
   "cell_type": "markdown",
   "id": "ab9c4fe5",
   "metadata": {},
   "source": [
    "## Now let's see how many null values are present and address them\n",
    "---"
   ]
  },
  {
   "cell_type": "code",
   "execution_count": 5,
   "id": "60beb6ff",
   "metadata": {},
   "outputs": [
    {
     "data": {
      "text/plain": [
       "console               0\n",
       "video_game_name       0\n",
       "summary               0\n",
       "developer             0\n",
       "genre(s)              0\n",
       "num_players        8659\n",
       "esrb_rating        6513\n",
       "critic_score          0\n",
       "avg_user_score     2729\n",
       "user_review           0\n",
       "user_score            0\n",
       "dtype: int64"
      ]
     },
     "execution_count": 5,
     "metadata": {},
     "output_type": "execute_result"
    }
   ],
   "source": [
    "all_console_reviews.isnull().sum()"
   ]
  },
  {
   "cell_type": "markdown",
   "id": "d27277b9",
   "metadata": {},
   "source": [
    "### Let's also look at what the datatypes are for the columns."
   ]
  },
  {
   "cell_type": "code",
   "execution_count": 6,
   "id": "5ce2b2c0",
   "metadata": {},
   "outputs": [
    {
     "name": "stdout",
     "output_type": "stream",
     "text": [
      "<class 'pandas.core.frame.DataFrame'>\n",
      "RangeIndex: 112345 entries, 0 to 112344\n",
      "Data columns (total 11 columns):\n",
      " #   Column           Non-Null Count   Dtype  \n",
      "---  ------           --------------   -----  \n",
      " 0   console          112345 non-null  object \n",
      " 1   video_game_name  112345 non-null  object \n",
      " 2   summary          112345 non-null  object \n",
      " 3   developer        112345 non-null  object \n",
      " 4   genre(s)         112345 non-null  object \n",
      " 5   num_players      103686 non-null  object \n",
      " 6   esrb_rating      105832 non-null  object \n",
      " 7   critic_score     112345 non-null  int64  \n",
      " 8   avg_user_score   109616 non-null  float64\n",
      " 9   user_review      112345 non-null  object \n",
      " 10  user_score       112345 non-null  int64  \n",
      "dtypes: float64(1), int64(2), object(8)\n",
      "memory usage: 9.4+ MB\n"
     ]
    }
   ],
   "source": [
    "all_console_reviews.info()"
   ]
  },
  {
   "cell_type": "markdown",
   "id": "67e2a0a4",
   "metadata": {},
   "source": [
    "## First let's take a look at the `num_players` column, we want to clean the values and only get the number, if applicable. Then address the null values."
   ]
  },
  {
   "cell_type": "code",
   "execution_count": 7,
   "id": "aa5666ff",
   "metadata": {},
   "outputs": [
    {
     "data": {
      "text/plain": [
       "array(['# of players: Up to 32', '# of players: Up to 30',\n",
       "       '# of players: No Online Multiplayer', '# of players: Up to 8',\n",
       "       '# of players: Up to 16', '# of players: Up to 10',\n",
       "       '# of players: 2', '# of players: Up to 5',\n",
       "       '# of players: Up to 4', nan, '# of players: 1 Player',\n",
       "       '# of players: Up to 12', '# of players: Up to 6',\n",
       "       '# of players: Massively Multiplayer', '# of players: Up to 60',\n",
       "       '# of players: Online Multiplayer', '# of players: Up to 64',\n",
       "       '# of players: Up to 3', '# of players: Up to 22',\n",
       "       '# of players: Up to 20', '# of players: Up to 24',\n",
       "       '# of players: Up to more than 64', '# of players: 1-16',\n",
       "       '# of players: 1-32', '# of players: Up to 18', '# of players:',\n",
       "       '# of players: 1-8', '# of players: 1-2', '# of players: 1-4',\n",
       "       '# of players: 64 Online', '# of players: 2 Online',\n",
       "       '# of players: Up to 14', '# of players: Up to 40',\n",
       "       '# of players: Friend System Only'], dtype=object)"
      ]
     },
     "execution_count": 7,
     "metadata": {},
     "output_type": "execute_result"
    }
   ],
   "source": [
    "all_console_reviews['num_players'].unique()"
   ]
  },
  {
   "cell_type": "markdown",
   "id": "b287587a",
   "metadata": {},
   "source": [
    "### Replace text values to only get the number of players, for games without a simple number investigate further"
   ]
  },
  {
   "cell_type": "code",
   "execution_count": 8,
   "id": "5af18094",
   "metadata": {},
   "outputs": [],
   "source": [
    "all_console_reviews['num_players'] = \\\n",
    "[val.replace('# of players: ', '').replace('Up to ', '').replace(' Player', '').replace('more than ', '')\n",
    " if type(val) != float else val for val in all_console_reviews['num_players']]"
   ]
  },
  {
   "cell_type": "code",
   "execution_count": 9,
   "id": "07831c4a",
   "metadata": {},
   "outputs": [],
   "source": [
    "vals = []\n",
    "for val in all_console_reviews['num_players']:\n",
    "    if type(val) != float:\n",
    "        if '-' in val:\n",
    "            vals.append(val.split('-')[1])\n",
    "        else:\n",
    "            vals.append(val)\n",
    "    else:\n",
    "        vals.append(val)\n",
    "\n",
    "all_console_reviews['num_players'] = vals"
   ]
  },
  {
   "cell_type": "code",
   "execution_count": 10,
   "id": "b7f4c572",
   "metadata": {},
   "outputs": [
    {
     "data": {
      "text/plain": [
       "array(['32', '30', 'No Online Multiplayer', '8', '16', '10', '2', '5',\n",
       "       '4', nan, '1', '12', '6', 'Massively Multiplayer', '60',\n",
       "       'Online Multiplayer', '64', '3', '22', '20', '24', '18',\n",
       "       '# of players:', '64 Online', '2 Online', '14', '40',\n",
       "       'Friend System Only'], dtype=object)"
      ]
     },
     "execution_count": 10,
     "metadata": {},
     "output_type": "execute_result"
    }
   ],
   "source": [
    "all_console_reviews['num_players'].unique()"
   ]
  },
  {
   "cell_type": "markdown",
   "id": "305d5d08",
   "metadata": {},
   "source": [
    "### Now that we did some initial cleaning let's look closer at games with the unique `num_players`\n",
    "- No Online Multiplayer\n",
    "- Massively Multiplayer\n",
    "- Online Multiplayer\n",
    "- \\# of players:\n",
    "- Friend System Only"
   ]
  },
  {
   "cell_type": "code",
   "execution_count": 11,
   "id": "5c17b5fb",
   "metadata": {},
   "outputs": [
    {
     "data": {
      "text/plain": [
       "['Persona 5 Royal',\n",
       " 'God of War',\n",
       " 'The Last of Us Part II',\n",
       " 'Persona 5',\n",
       " 'Undertale',\n",
       " 'The Witcher 3: Wild Hunt',\n",
       " 'Shadow of the Colossus',\n",
       " 'The Witcher 3: Wild Hunt - Blood and Wine',\n",
       " 'Celeste',\n",
       " 'NieR: Automata - Game of the YoRHa Edition']"
      ]
     },
     "execution_count": 11,
     "metadata": {},
     "output_type": "execute_result"
    }
   ],
   "source": [
    "list(all_console_reviews[all_console_reviews['num_players'] == 'No Online Multiplayer']\\\n",
    "['video_game_name'].unique())[:10]"
   ]
  },
  {
   "cell_type": "markdown",
   "id": "1034721c",
   "metadata": {},
   "source": [
    "### For 'No Online Multiplayer' we can see that all of the games are single player games so we can change the num_players to 1."
   ]
  },
  {
   "cell_type": "code",
   "execution_count": 12,
   "id": "4765f766",
   "metadata": {},
   "outputs": [],
   "source": [
    "all_console_reviews['num_players'] = \\\n",
    "[val.replace('No Online Multiplayer', '1')\n",
    " if type(val) != float else val for val in all_console_reviews['num_players']]"
   ]
  },
  {
   "cell_type": "code",
   "execution_count": 13,
   "id": "a9e9d3f1",
   "metadata": {},
   "outputs": [
    {
     "data": {
      "text/plain": [
       "array(['32', '30', '1', '8', '16', '10', '2', '5', '4', nan, '12', '6',\n",
       "       'Massively Multiplayer', '60', 'Online Multiplayer', '64', '3',\n",
       "       '22', '20', '24', '18', '# of players:', '64 Online', '2 Online',\n",
       "       '14', '40', 'Friend System Only'], dtype=object)"
      ]
     },
     "execution_count": 13,
     "metadata": {},
     "output_type": "execute_result"
    }
   ],
   "source": [
    "all_console_reviews['num_players'].unique()"
   ]
  },
  {
   "cell_type": "code",
   "execution_count": 14,
   "id": "e7accd11",
   "metadata": {},
   "outputs": [
    {
     "data": {
      "text/plain": [
       "['Final Fantasy XIV: Stormblood',\n",
       " 'World of Warcraft',\n",
       " 'World of Warcraft: Wrath of the Lich King',\n",
       " 'World of Warcraft: The Burning Crusade',\n",
       " 'World of Warcraft: Cataclysm',\n",
       " 'Final Fantasy XIV: Endwalker']"
      ]
     },
     "execution_count": 14,
     "metadata": {},
     "output_type": "execute_result"
    }
   ],
   "source": [
    "list(all_console_reviews[all_console_reviews['num_players'] == 'Massively Multiplayer']\\\n",
    "['video_game_name'].unique())[:]"
   ]
  },
  {
   "cell_type": "markdown",
   "id": "033603b8",
   "metadata": {},
   "source": [
    "### For 'Massively Multiplayer' games which we can see are MMOs, massive multiplayer online games, they can have player counts in the millions. To keep our values within a reasonable range we will change these to a value of 150."
   ]
  },
  {
   "cell_type": "code",
   "execution_count": 15,
   "id": "022d0216",
   "metadata": {},
   "outputs": [],
   "source": [
    "all_console_reviews['num_players'] = \\\n",
    "[val.replace('Massively Multiplayer', '150')\n",
    " if type(val) != float else val for val in all_console_reviews['num_players']]"
   ]
  },
  {
   "cell_type": "code",
   "execution_count": 16,
   "id": "1a1e3437",
   "metadata": {},
   "outputs": [
    {
     "data": {
      "text/plain": [
       "array(['32', '30', '1', '8', '16', '10', '2', '5', '4', nan, '12', '6',\n",
       "       '150', '60', 'Online Multiplayer', '64', '3', '22', '20', '24',\n",
       "       '18', '# of players:', '64 Online', '2 Online', '14', '40',\n",
       "       'Friend System Only'], dtype=object)"
      ]
     },
     "execution_count": 16,
     "metadata": {},
     "output_type": "execute_result"
    }
   ],
   "source": [
    "all_console_reviews['num_players'].unique()"
   ]
  },
  {
   "cell_type": "code",
   "execution_count": 17,
   "id": "13b7ca10",
   "metadata": {},
   "outputs": [
    {
     "data": {
      "text/plain": [
       "['Dreams',\n",
       " 'Divinity: Original Sin II - Definitive Edition',\n",
       " 'Apex Legends',\n",
       " 'Thronebreaker: The Witcher Tales',\n",
       " 'Warframe',\n",
       " 'Kingdom Two Crowns',\n",
       " 'Half-Life',\n",
       " \"Sid Meier's Civilization IV\",\n",
       " 'Microsoft Flight Simulator',\n",
       " 'Spelunky 2',\n",
       " 'Factorio',\n",
       " 'The Pathless']"
      ]
     },
     "execution_count": 17,
     "metadata": {},
     "output_type": "execute_result"
    }
   ],
   "source": [
    "list(all_console_reviews[all_console_reviews['num_players'] == 'Online Multiplayer']\\\n",
    "['video_game_name'].unique())[:]"
   ]
  },
  {
   "cell_type": "markdown",
   "id": "bf8490d0",
   "metadata": {},
   "source": [
    "### For 'Online Multiplayer' these have varying number of players, some are MMOs, others battle royales, and others merely having a simple deathmatch mode. For simplicity sake we will change the value to 100, lower than 'Massively Multiplayer' since these were not labeled as the same."
   ]
  },
  {
   "cell_type": "code",
   "execution_count": 18,
   "id": "0015a36d",
   "metadata": {},
   "outputs": [],
   "source": [
    "all_console_reviews['num_players'] = \\\n",
    "[val.replace('Online Multiplayer', '100')\n",
    " if type(val) != float else val for val in all_console_reviews['num_players']]"
   ]
  },
  {
   "cell_type": "code",
   "execution_count": 19,
   "id": "bf43347e",
   "metadata": {},
   "outputs": [
    {
     "data": {
      "text/plain": [
       "array(['32', '30', '1', '8', '16', '10', '2', '5', '4', nan, '12', '6',\n",
       "       '150', '60', '100', '64', '3', '22', '20', '24', '18',\n",
       "       '# of players:', '64 Online', '2 Online', '14', '40',\n",
       "       'Friend System Only'], dtype=object)"
      ]
     },
     "execution_count": 19,
     "metadata": {},
     "output_type": "execute_result"
    }
   ],
   "source": [
    "all_console_reviews['num_players'].unique()"
   ]
  },
  {
   "cell_type": "code",
   "execution_count": 20,
   "id": "4c985927",
   "metadata": {},
   "outputs": [
    {
     "data": {
      "text/plain": [
       "['The Sims']"
      ]
     },
     "execution_count": 20,
     "metadata": {},
     "output_type": "execute_result"
    }
   ],
   "source": [
    "list(all_console_reviews[all_console_reviews['num_players'] == '# of players:']\\\n",
    "['video_game_name'].unique())[:]"
   ]
  },
  {
   "cell_type": "markdown",
   "id": "4cf96195",
   "metadata": {},
   "source": [
    "### The Sims is a single player game with multiplayer aspects that really only revolve on downloading other players creations etc. We will change this to a value of 1."
   ]
  },
  {
   "cell_type": "code",
   "execution_count": 21,
   "id": "9cc3224c",
   "metadata": {},
   "outputs": [],
   "source": [
    "all_console_reviews['num_players'] = \\\n",
    "[val.replace('# of players:', '1')\n",
    " if type(val) != float else val for val in all_console_reviews['num_players']]"
   ]
  },
  {
   "cell_type": "code",
   "execution_count": 22,
   "id": "537b33cc",
   "metadata": {},
   "outputs": [
    {
     "data": {
      "text/plain": [
       "array(['32', '30', '1', '8', '16', '10', '2', '5', '4', nan, '12', '6',\n",
       "       '150', '60', '100', '64', '3', '22', '20', '24', '18', '64 Online',\n",
       "       '2 Online', '14', '40', 'Friend System Only'], dtype=object)"
      ]
     },
     "execution_count": 22,
     "metadata": {},
     "output_type": "execute_result"
    }
   ],
   "source": [
    "all_console_reviews['num_players'].unique()"
   ]
  },
  {
   "cell_type": "code",
   "execution_count": 23,
   "id": "2055e34b",
   "metadata": {},
   "outputs": [
    {
     "data": {
      "text/plain": [
       "['Control: Ultimate Edition']"
      ]
     },
     "execution_count": 23,
     "metadata": {},
     "output_type": "execute_result"
    }
   ],
   "source": [
    "list(all_console_reviews[all_console_reviews['num_players'] == 'Friend System Only']\\\n",
    "['video_game_name'].unique())[:]"
   ]
  },
  {
   "cell_type": "markdown",
   "id": "496f97de",
   "metadata": {},
   "source": [
    "### Control is a single player game, change value to 1."
   ]
  },
  {
   "cell_type": "code",
   "execution_count": 24,
   "id": "c45131ca",
   "metadata": {},
   "outputs": [],
   "source": [
    "all_console_reviews['num_players'] = \\\n",
    "[val.replace('Friend System Only', '1')\n",
    " if type(val) != float else val for val in all_console_reviews['num_players']]"
   ]
  },
  {
   "cell_type": "code",
   "execution_count": 25,
   "id": "ac267100",
   "metadata": {},
   "outputs": [
    {
     "data": {
      "text/plain": [
       "array(['32', '30', '1', '8', '16', '10', '2', '5', '4', nan, '12', '6',\n",
       "       '150', '60', '100', '64', '3', '22', '20', '24', '18', '64 Online',\n",
       "       '2 Online', '14', '40'], dtype=object)"
      ]
     },
     "execution_count": 25,
     "metadata": {},
     "output_type": "execute_result"
    }
   ],
   "source": [
    "all_console_reviews['num_players'].unique()"
   ]
  },
  {
   "cell_type": "markdown",
   "id": "dd75f5ff",
   "metadata": {},
   "source": [
    "### Now we can do a final cleanup of values that have 'Online' and we are good to further inspect null values"
   ]
  },
  {
   "cell_type": "code",
   "execution_count": 26,
   "id": "f2998acb",
   "metadata": {},
   "outputs": [],
   "source": [
    "all_console_reviews['num_players'] = \\\n",
    "[val.replace(' Online', '')\n",
    " if type(val) != float else val for val in all_console_reviews['num_players']]"
   ]
  },
  {
   "cell_type": "code",
   "execution_count": 27,
   "id": "284dc66d",
   "metadata": {},
   "outputs": [
    {
     "data": {
      "text/plain": [
       "array(['32', '30', '1', '8', '16', '10', '2', '5', '4', nan, '12', '6',\n",
       "       '150', '60', '100', '64', '3', '22', '20', '24', '18', '14', '40'],\n",
       "      dtype=object)"
      ]
     },
     "execution_count": 27,
     "metadata": {},
     "output_type": "execute_result"
    }
   ],
   "source": [
    "all_console_reviews['num_players'].unique()"
   ]
  },
  {
   "cell_type": "code",
   "execution_count": 28,
   "id": "7852b1b4",
   "metadata": {},
   "outputs": [
    {
     "data": {
      "text/plain": [
       "array(['Final Fantasy XIV: Shadowbringers', 'INSIDE', 'Shovel Knight',\n",
       "       'Tales From The Borderlands: Episode 5 - The Vault of the Traveler',\n",
       "       'Monster Hunter: World - Iceborne', 'Rez Infinite', 'Bastion',\n",
       "       'The Binding of Isaac: Rebirth',\n",
       "       'Keep Talking and Nobody Explodes',\n",
       "       'The Talos Principle: Deluxe Edition',\n",
       "       'Nex Machina: Death Machine',\n",
       "       'Guacamelee! Super Turbo Championship Edition',\n",
       "       'Bloodborne: The Old Hunters', 'The Witness', 'Night in the Woods',\n",
       "       'TowerFall Ascension', 'Psychonauts 2', 'NBA 2K17',\n",
       "       'Destiny: The Taken King', 'Pro Evolution Soccer 2017',\n",
       "       'Forza Horizon 3: Hot Wheels', 'DiRT Rally',\n",
       "       'Killer Instinct Season 3', 'Destiny 2: Forsaken',\n",
       "       'Dying Light: The Following', 'DiRT 4', 'Firewatch',\n",
       "       'Tetris Effect: Connected', 'Chicory: A Colorful Tale',\n",
       "       \"Death's Door\", 'DUSK', 'Portal 2', 'Warcraft III: Reign of Chaos',\n",
       "       \"Sid Meier's Alpha Centauri\", 'Final Fantasy XIV: Endwalker',\n",
       "       'Out of the Park Baseball 17', 'Medal of Honor: Allied Assault',\n",
       "       'Forza Horizon 5', 'Kentucky Route Zero - Act III',\n",
       "       'Batman: Arkham City',\n",
       "       \"No One Lives Forever 2: A Spy in H.A.R.M.'s Way\",\n",
       "       'The Stanley Parable: Ultra Deluxe', 'OlliOlli World',\n",
       "       'Destiny 2: The Witch Queen', 'Tails Of Iron',\n",
       "       'Crusader Kings III: Console Edition', 'The Artful Escape',\n",
       "       'Diablo II: Resurrected', 'The King of Fighters XV',\n",
       "       'Evil Genius 2: World Domination', 'Riders Republic', 'FIFA 22',\n",
       "       'Chorus', 'Exo One', 'Super Monkey Ball: Banana Mania',\n",
       "       'Shadow Warrior 3', 'Sherlock Holmes: Chapter One',\n",
       "       'Echo Generation', 'Lost in Random', 'NHL 22',\n",
       "       'Jurassic World Evolution 2',\n",
       "       \"Assassin's Creed Valhalla: Wrath of the Druids\",\n",
       "       'Farming Simulator 22', 'Lawn Mowing Simulator', 'Trek to Yomi',\n",
       "       'Twelve Minutes', 'Gran Turismo 7',\n",
       "       'Uncharted: Legacy of Thieves Collection', 'Roki',\n",
       "       'Final Fantasy VII Remake Intergrade: Episode INTERmission',\n",
       "       'Assetto Corsa Competizione',\n",
       "       'Life is Strange: True Colors - Wavelengths', 'Eldest Souls',\n",
       "       'Ghostrunner', 'Souldiers', 'Solar Ash'], dtype=object)"
      ]
     },
     "execution_count": 28,
     "metadata": {},
     "output_type": "execute_result"
    }
   ],
   "source": [
    "all_console_reviews[all_console_reviews['num_players'].isnull()]['video_game_name'].unique()"
   ]
  },
  {
   "cell_type": "markdown",
   "id": "7f2aeff4",
   "metadata": {},
   "source": [
    "### The list of the games above with a missing `num_players` value range from indie developed games to massive AAA franchise games. A quick spot check of a few games shows that they are single player games. For this reason we will replace all null values in this column with 1. We will also change the type into an int."
   ]
  },
  {
   "cell_type": "code",
   "execution_count": 29,
   "id": "ec74f1af",
   "metadata": {},
   "outputs": [],
   "source": [
    "all_console_reviews['num_players'].fillna('1', inplace=True)"
   ]
  },
  {
   "cell_type": "code",
   "execution_count": 30,
   "id": "89ce7715",
   "metadata": {},
   "outputs": [],
   "source": [
    "all_console_reviews['num_players'] = all_console_reviews['num_players'].astype(int)"
   ]
  },
  {
   "cell_type": "code",
   "execution_count": 31,
   "id": "4742b6ec",
   "metadata": {},
   "outputs": [
    {
     "data": {
      "text/plain": [
       "console               0\n",
       "video_game_name       0\n",
       "summary               0\n",
       "developer             0\n",
       "genre(s)              0\n",
       "num_players           0\n",
       "esrb_rating        6513\n",
       "critic_score          0\n",
       "avg_user_score     2729\n",
       "user_review           0\n",
       "user_score            0\n",
       "dtype: int64"
      ]
     },
     "execution_count": 31,
     "metadata": {},
     "output_type": "execute_result"
    }
   ],
   "source": [
    "all_console_reviews.isnull().sum()"
   ]
  },
  {
   "cell_type": "markdown",
   "id": "dd6b0544",
   "metadata": {},
   "source": [
    "## Now let's take a look at the `esrb_rating` column, we want to clean the values and then address the null values. For further information on ESRB rating see [ESRB Rating Guide](https://www.esrb.org/ratings-guide/)"
   ]
  },
  {
   "cell_type": "code",
   "execution_count": 32,
   "id": "9cf73364",
   "metadata": {},
   "outputs": [
    {
     "data": {
      "text/plain": [
       "array(['Rating: M', 'Rating: T', 'Rating: E', 'Rating: E10+', nan,\n",
       "       'Rating: K-A'], dtype=object)"
      ]
     },
     "execution_count": 32,
     "metadata": {},
     "output_type": "execute_result"
    }
   ],
   "source": [
    "all_console_reviews['esrb_rating'].unique()"
   ]
  },
  {
   "cell_type": "markdown",
   "id": "999e4b95",
   "metadata": {},
   "source": [
    "### We want to extract only the rating itself and get rid of any extra text."
   ]
  },
  {
   "cell_type": "code",
   "execution_count": 33,
   "id": "c70326b3",
   "metadata": {},
   "outputs": [],
   "source": [
    "all_console_reviews['esrb_rating'] = \\\n",
    "[val.replace('Rating: ', '')\n",
    " if type(val) != float else val for val in all_console_reviews['esrb_rating']]"
   ]
  },
  {
   "cell_type": "code",
   "execution_count": 34,
   "id": "8c57c7de",
   "metadata": {},
   "outputs": [
    {
     "data": {
      "text/plain": [
       "array(['M', 'T', 'E', 'E10+', nan, 'K-A'], dtype=object)"
      ]
     },
     "execution_count": 34,
     "metadata": {},
     "output_type": "execute_result"
    }
   ],
   "source": [
    "all_console_reviews['esrb_rating'].unique()"
   ]
  },
  {
   "cell_type": "markdown",
   "id": "7367aa66",
   "metadata": {},
   "source": [
    "### Let's take a closer look at 'K-A'."
   ]
  },
  {
   "cell_type": "code",
   "execution_count": 35,
   "id": "9aa28d38",
   "metadata": {},
   "outputs": [
    {
     "data": {
      "text/plain": [
       "[\"Sid Meier's Civilization II\", \"Sid Meier's Gettysburg!\"]"
      ]
     },
     "execution_count": 35,
     "metadata": {},
     "output_type": "execute_result"
    }
   ],
   "source": [
    "list(all_console_reviews[all_console_reviews['esrb_rating'] == 'K-A']\\\n",
    "['video_game_name'].unique())"
   ]
  },
  {
   "cell_type": "markdown",
   "id": "0df88dd7",
   "metadata": {},
   "source": [
    "### Looking into these games and the ['K-A' rating history](https://www.esrb.org/history/) we can safely change the value to E."
   ]
  },
  {
   "cell_type": "code",
   "execution_count": 36,
   "id": "d8d957a6",
   "metadata": {},
   "outputs": [],
   "source": [
    "all_console_reviews['esrb_rating'] = \\\n",
    "[val.replace('K-A', 'E')\n",
    " if type(val) != float else val for val in all_console_reviews['esrb_rating']]"
   ]
  },
  {
   "cell_type": "code",
   "execution_count": 37,
   "id": "1a7fd495",
   "metadata": {},
   "outputs": [
    {
     "data": {
      "text/plain": [
       "array(['M', 'T', 'E', 'E10+', nan], dtype=object)"
      ]
     },
     "execution_count": 37,
     "metadata": {},
     "output_type": "execute_result"
    }
   ],
   "source": [
    "all_console_reviews['esrb_rating'].unique()"
   ]
  },
  {
   "cell_type": "markdown",
   "id": "b64ccc55",
   "metadata": {},
   "source": [
    "### Now that we have cleaned up our values let's take a closer look at the null values"
   ]
  },
  {
   "cell_type": "code",
   "execution_count": 38,
   "id": "03fdb09e",
   "metadata": {},
   "outputs": [
    {
     "data": {
      "text/plain": [
       "array(['Injustice 2: Legendary Edition', 'Pistol Whip',\n",
       "       'Forza Horizon 3: Hot Wheels', 'Killer Instinct Season 3',\n",
       "       'Forza Horizon 2', 'Guacamelee! 2', 'Tetris Effect: Connected',\n",
       "       'Chicory: A Colorful Tale', 'Fez',\n",
       "       'Guacamelee! Super Turbo Championship Edition', 'Sumire',\n",
       "       'Half-Life: Alyx', 'Divinity: Original Sin II', 'Beat Saber',\n",
       "       'Undertale', 'Galactic Civilizations II: Twilight of the Arnor',\n",
       "       'Final Fantasy XIV: Endwalker', 'Out of the Park Baseball 17',\n",
       "       'Kentucky Route Zero - Act III',\n",
       "       'Galactic Civilizations II: Dark Avatar', 'Disco Elysium',\n",
       "       'Spelunky 2', 'Factorio', 'Spelunky',\n",
       "       'The Stanley Parable: Ultra Deluxe',\n",
       "       \"Tony Hawk's Pro Skater 1 + 2\", 'Planet Coaster: Console Edition',\n",
       "       \"Assassin's Creed Valhalla\", \"Marvel's Guardians of the Galaxy\",\n",
       "       'Yakuza: Like a Dragon', 'MLB The Show 21', 'NBA 2K21',\n",
       "       'Football Manager 2021', 'Haven', 'Sniper Elite 5', 'Exo One',\n",
       "       'Samurai Shodown: Special Edition', 'MotoGP 21',\n",
       "       'Shadow Warrior 3', 'Echo Generation',\n",
       "       \"Assassin's Creed Valhalla: Wrath of the Druids\",\n",
       "       'Lawn Mowing Simulator', 'Trek to Yomi', \"Demon's Souls\",\n",
       "       'It Takes Two', 'Uncharted: Legacy of Thieves Collection',\n",
       "       'Guilty Gear -Strive-', \"Crash Bandicoot 4: It's About Time\",\n",
       "       'Chivalry 2', 'Warframe', 'Ghost of Tsushima: Iki Island',\n",
       "       'WRC 9 FIA World Rally Championship', 'Roki',\n",
       "       'Life is Strange: True Colors - Wavelengths', 'Eldest Souls',\n",
       "       'Ghostrunner', 'Souldiers', 'Solar Ash', 'Salt and Sacrifice'],\n",
       "      dtype=object)"
      ]
     },
     "execution_count": 38,
     "metadata": {},
     "output_type": "execute_result"
    }
   ],
   "source": [
    "all_console_reviews[all_console_reviews['esrb_rating'].isnull()]['video_game_name'].unique()"
   ]
  },
  {
   "cell_type": "code",
   "execution_count": 39,
   "id": "6a12a017",
   "metadata": {},
   "outputs": [
    {
     "data": {
      "text/plain": [
       "count     105832\n",
       "unique         4\n",
       "top            M\n",
       "freq       53687\n",
       "Name: esrb_rating, dtype: object"
      ]
     },
     "execution_count": 39,
     "metadata": {},
     "output_type": "execute_result"
    }
   ],
   "source": [
    "all_console_reviews['esrb_rating'].describe()"
   ]
  },
  {
   "cell_type": "markdown",
   "id": "ff1bd156",
   "metadata": {},
   "source": [
    "### The list of games with a null rating are a variety of different games, but for simplicity let us impute the null values to be the most frequent rating, which in this case is the M rating."
   ]
  },
  {
   "cell_type": "code",
   "execution_count": 40,
   "id": "f63672bc",
   "metadata": {},
   "outputs": [],
   "source": [
    "all_console_reviews['esrb_rating'].fillna('M', inplace=True)"
   ]
  },
  {
   "cell_type": "code",
   "execution_count": 41,
   "id": "985153d3",
   "metadata": {},
   "outputs": [
    {
     "data": {
      "text/plain": [
       "console               0\n",
       "video_game_name       0\n",
       "summary               0\n",
       "developer             0\n",
       "genre(s)              0\n",
       "num_players           0\n",
       "esrb_rating           0\n",
       "critic_score          0\n",
       "avg_user_score     2729\n",
       "user_review           0\n",
       "user_score            0\n",
       "dtype: int64"
      ]
     },
     "execution_count": 41,
     "metadata": {},
     "output_type": "execute_result"
    }
   ],
   "source": [
    "all_console_reviews.isnull().sum()"
   ]
  },
  {
   "cell_type": "markdown",
   "id": "1f534b83",
   "metadata": {},
   "source": [
    "## Now let's take a look at the `avg_user_score` column, we want to clean the values and then address the null values."
   ]
  },
  {
   "cell_type": "code",
   "execution_count": 42,
   "id": "a49cce47",
   "metadata": {},
   "outputs": [
    {
     "data": {
      "text/plain": [
       "count    109616.000000\n",
       "mean          8.004043\n",
       "std           1.215970\n",
       "min           2.000000\n",
       "25%           7.700000\n",
       "50%           8.400000\n",
       "75%           8.800000\n",
       "max           9.400000\n",
       "Name: avg_user_score, dtype: float64"
      ]
     },
     "execution_count": 42,
     "metadata": {},
     "output_type": "execute_result"
    }
   ],
   "source": [
    "all_console_reviews['avg_user_score'].describe()"
   ]
  },
  {
   "cell_type": "code",
   "execution_count": 43,
   "id": "cf973c60",
   "metadata": {},
   "outputs": [
    {
     "data": {
      "text/plain": [
       "array([8.6, 8.3, 8.5, 9.2, 9.1, 5.7, 8.7, 8.2, 8.8, 8.9, 7.2, 7.9, 8.4,\n",
       "       7.8, 7.6, 9. , 8. , 7.3, 6.4, 7.7, 7.5, 6.9, 7.4, 6.3, 7. , 6.6,\n",
       "       7.1, 6.1, 8.1, 6.5, 5.2, 6.7, 6.8, 5.9, 5.3, 5.6, 5.8, 4.4, 6.2,\n",
       "       3.4, 4.2, 4.1, 9.4, 3.3, 5. , 6. , 3.8, nan, 5.4, 5.5, 3.6, 5.1,\n",
       "       3.5, 4.8, 2.8, 4.6, 3.9, 4.7, 4.5, 2. , 2.5, 2.6])"
      ]
     },
     "execution_count": 43,
     "metadata": {},
     "output_type": "execute_result"
    }
   ],
   "source": [
    "all_console_reviews['avg_user_score'].unique()"
   ]
  },
  {
   "cell_type": "markdown",
   "id": "fd1ebe2d",
   "metadata": {},
   "source": [
    "### We will filter the df by games with null in avg_user_score. Then group by video_game_name and impute nulls with the mean user score for each of those games."
   ]
  },
  {
   "cell_type": "code",
   "execution_count": 44,
   "id": "1d484ea7",
   "metadata": {},
   "outputs": [],
   "source": [
    "null_avg_user_score = all_console_reviews[all_console_reviews['avg_user_score'].isnull()]\n",
    "vg_groupby_df = null_avg_user_score.groupby('video_game_name').mean()"
   ]
  },
  {
   "cell_type": "code",
   "execution_count": 45,
   "id": "a0457b3e",
   "metadata": {},
   "outputs": [
    {
     "data": {
      "text/html": [
       "<div>\n",
       "<style scoped>\n",
       "    .dataframe tbody tr th:only-of-type {\n",
       "        vertical-align: middle;\n",
       "    }\n",
       "\n",
       "    .dataframe tbody tr th {\n",
       "        vertical-align: top;\n",
       "    }\n",
       "\n",
       "    .dataframe thead th {\n",
       "        text-align: right;\n",
       "    }\n",
       "</style>\n",
       "<table border=\"1\" class=\"dataframe\">\n",
       "  <thead>\n",
       "    <tr style=\"text-align: right;\">\n",
       "      <th></th>\n",
       "      <th>num_players</th>\n",
       "      <th>critic_score</th>\n",
       "      <th>avg_user_score</th>\n",
       "      <th>user_score</th>\n",
       "    </tr>\n",
       "    <tr>\n",
       "      <th>video_game_name</th>\n",
       "      <th></th>\n",
       "      <th></th>\n",
       "      <th></th>\n",
       "      <th></th>\n",
       "    </tr>\n",
       "  </thead>\n",
       "  <tbody>\n",
       "    <tr>\n",
       "      <th>Death Stranding: Director's Cut</th>\n",
       "      <td>1.0</td>\n",
       "      <td>85.0</td>\n",
       "      <td>NaN</td>\n",
       "      <td>8.288660</td>\n",
       "    </tr>\n",
       "    <tr>\n",
       "      <th>Forza Horizon 5</th>\n",
       "      <td>1.0</td>\n",
       "      <td>92.0</td>\n",
       "      <td>NaN</td>\n",
       "      <td>7.759000</td>\n",
       "    </tr>\n",
       "    <tr>\n",
       "      <th>Horizon Forbidden West</th>\n",
       "      <td>1.0</td>\n",
       "      <td>88.0</td>\n",
       "      <td>NaN</td>\n",
       "      <td>8.596000</td>\n",
       "    </tr>\n",
       "    <tr>\n",
       "      <th>Lawn Mowing Simulator</th>\n",
       "      <td>1.0</td>\n",
       "      <td>72.0</td>\n",
       "      <td>NaN</td>\n",
       "      <td>4.000000</td>\n",
       "    </tr>\n",
       "    <tr>\n",
       "      <th>Marvel's Guardians of the Galaxy</th>\n",
       "      <td>1.0</td>\n",
       "      <td>80.0</td>\n",
       "      <td>NaN</td>\n",
       "      <td>8.588477</td>\n",
       "    </tr>\n",
       "    <tr>\n",
       "      <th>MotoGP 21</th>\n",
       "      <td>14.0</td>\n",
       "      <td>77.0</td>\n",
       "      <td>NaN</td>\n",
       "      <td>9.000000</td>\n",
       "    </tr>\n",
       "    <tr>\n",
       "      <th>MotoGP 22</th>\n",
       "      <td>12.0</td>\n",
       "      <td>81.0</td>\n",
       "      <td>NaN</td>\n",
       "      <td>10.000000</td>\n",
       "    </tr>\n",
       "    <tr>\n",
       "      <th>Relayer</th>\n",
       "      <td>1.0</td>\n",
       "      <td>77.0</td>\n",
       "      <td>NaN</td>\n",
       "      <td>9.000000</td>\n",
       "    </tr>\n",
       "    <tr>\n",
       "      <th>Roki</th>\n",
       "      <td>1.0</td>\n",
       "      <td>82.0</td>\n",
       "      <td>NaN</td>\n",
       "      <td>9.000000</td>\n",
       "    </tr>\n",
       "    <tr>\n",
       "      <th>The Quarry</th>\n",
       "      <td>8.0</td>\n",
       "      <td>77.0</td>\n",
       "      <td>NaN</td>\n",
       "      <td>6.285714</td>\n",
       "    </tr>\n",
       "  </tbody>\n",
       "</table>\n",
       "</div>"
      ],
      "text/plain": [
       "                                  num_players  critic_score  avg_user_score  \\\n",
       "video_game_name                                                               \n",
       "Death Stranding: Director's Cut           1.0          85.0             NaN   \n",
       "Forza Horizon 5                           1.0          92.0             NaN   \n",
       "Horizon Forbidden West                    1.0          88.0             NaN   \n",
       "Lawn Mowing Simulator                     1.0          72.0             NaN   \n",
       "Marvel's Guardians of the Galaxy          1.0          80.0             NaN   \n",
       "MotoGP 21                                14.0          77.0             NaN   \n",
       "MotoGP 22                                12.0          81.0             NaN   \n",
       "Relayer                                   1.0          77.0             NaN   \n",
       "Roki                                      1.0          82.0             NaN   \n",
       "The Quarry                                8.0          77.0             NaN   \n",
       "\n",
       "                                  user_score  \n",
       "video_game_name                               \n",
       "Death Stranding: Director's Cut     8.288660  \n",
       "Forza Horizon 5                     7.759000  \n",
       "Horizon Forbidden West              8.596000  \n",
       "Lawn Mowing Simulator               4.000000  \n",
       "Marvel's Guardians of the Galaxy    8.588477  \n",
       "MotoGP 21                           9.000000  \n",
       "MotoGP 22                          10.000000  \n",
       "Relayer                             9.000000  \n",
       "Roki                                9.000000  \n",
       "The Quarry                          6.285714  "
      ]
     },
     "execution_count": 45,
     "metadata": {},
     "output_type": "execute_result"
    }
   ],
   "source": [
    "vg_groupby_df"
   ]
  },
  {
   "cell_type": "markdown",
   "id": "c5366af2",
   "metadata": {},
   "source": [
    "### Create a dictionary from the games with null avg_user_score and then use the video game names as keys and mean user_score as values."
   ]
  },
  {
   "cell_type": "code",
   "execution_count": 46,
   "id": "d78051dd",
   "metadata": {},
   "outputs": [],
   "source": [
    "user_score_avg_impute = {game:vg_groupby_df.iloc[i,3] for i, game in enumerate(list(vg_groupby_df.index))}"
   ]
  },
  {
   "cell_type": "code",
   "execution_count": 47,
   "id": "31215237",
   "metadata": {},
   "outputs": [
    {
     "data": {
      "text/plain": [
       "{\"Death Stranding: Director's Cut\": 8.288659793814434,\n",
       " 'Forza Horizon 5': 7.759,\n",
       " 'Horizon Forbidden West': 8.596,\n",
       " 'Lawn Mowing Simulator': 4.0,\n",
       " \"Marvel's Guardians of the Galaxy\": 8.588477366255145,\n",
       " 'MotoGP 21': 9.0,\n",
       " 'MotoGP 22': 10.0,\n",
       " 'Relayer': 9.0,\n",
       " 'Roki': 9.0,\n",
       " 'The Quarry': 6.285714285714286}"
      ]
     },
     "execution_count": 47,
     "metadata": {},
     "output_type": "execute_result"
    }
   ],
   "source": [
    "user_score_avg_impute"
   ]
  },
  {
   "cell_type": "markdown",
   "id": "b8baf990",
   "metadata": {},
   "source": [
    "### Finally lets replace the null values with the values in the dictionary."
   ]
  },
  {
   "cell_type": "code",
   "execution_count": 48,
   "id": "b50f70df",
   "metadata": {},
   "outputs": [],
   "source": [
    "for key in user_score_avg_impute:\n",
    "    all_console_reviews.loc[all_console_reviews.video_game_name == key, 'avg_user_score']\\\n",
    "    = round(user_score_avg_impute[key], 1)"
   ]
  },
  {
   "cell_type": "code",
   "execution_count": 49,
   "id": "e2d311f5",
   "metadata": {},
   "outputs": [
    {
     "data": {
      "text/plain": [
       "console            0\n",
       "video_game_name    0\n",
       "summary            0\n",
       "developer          0\n",
       "genre(s)           0\n",
       "num_players        0\n",
       "esrb_rating        0\n",
       "critic_score       0\n",
       "avg_user_score     0\n",
       "user_review        0\n",
       "user_score         0\n",
       "dtype: int64"
      ]
     },
     "execution_count": 49,
     "metadata": {},
     "output_type": "execute_result"
    }
   ],
   "source": [
    "all_console_reviews.isnull().sum()"
   ]
  },
  {
   "cell_type": "markdown",
   "id": "fe10c6b2",
   "metadata": {},
   "source": [
    "## We have successfully removed all null values!"
   ]
  },
  {
   "cell_type": "markdown",
   "id": "8be24260",
   "metadata": {},
   "source": [
    "## Now let's clean up our `summary` column."
   ]
  },
  {
   "cell_type": "code",
   "execution_count": 50,
   "id": "cab7c078",
   "metadata": {},
   "outputs": [
    {
     "data": {
      "text/plain": [
       "array(['Developed by the creators of Grand Theft Auto V and Red Dead Redemption, Red Dead Redemption 2 is an epic tale of life in America’s unforgiving heartland. The game’s vast and atmospheric world also provides the foundation for a brand new online multiplayer experience. America, 1899. The end of the Wild West era has begun. After a robbery goes badly wrong in the western town of Blackwater, Arthur Morgan and the Van der Linde gang are forced to flee. With federal agents and the best bounty hunters in the nation massing on their heels, the gang has to rob, steal and fight their way across the rugged heartland of America in order to survive. As deepening internal fissures threaten to tear the gang apart, Arthur must make a choice between his own ideals and loyalty to the gang that raised him. [Rockstar]',\n",
       "       'The sprawling sun-soaked metropolis of Los Santos is chock full of self-help coaches, starlets and C-List celebrities, once on top of the media world, now struggling to stay relevant in time of economic malaise and lowest-common-denominator reality TV. Amidst this madness, three unique criminals plan their own chances of survival and success: Franklin, a street-level hustler in search of opportunities for serious money; Michael, an ex-con whose \"retirement\" is a less rosy than he hoped it would be; and Trevor, a violent dude driven by the chance for a quick high and the next big score. Nearly out of options, the crew risks it all in a series of daring and dangerous heists that could set them up for life - one way or the other.',\n",
       "       'Prepare for an all-new RPG experience in Persona 5 Royal based in the universe of the award-winning series, Persona! Don the mask of Joker and join the Phantom Thieves of Hearts. Break free from the chains of modern society and stage grand heists to infiltrate the minds of the corrupt and make them change their ways! Persona 5 Royal is packed with new characters, confidants, story depth, new locations to explore, and a new grappling hook mechanic for stealthy access to new areas. With a new semester at Shujin Academy, get ready to strengthen your abilities in the metaverse and in your daily life. Persona 5 Royal presents a unique visual style and award nominated composer Shoji Meguro returns with an all-new soundtrack. Explore Tokyo, unlock new Personas, customize your own personal Thieves Den, discover a never-before-seen story arc, cutscenes, alternate endings, and more! Even for the most seasoned Phantom Thieves among us, Persona 5 Royal is a new challenge to defy conventions, discover the power within, and fight for justice. Wear the mask. Reveal your truth.'],\n",
       "      dtype=object)"
      ]
     },
     "execution_count": 50,
     "metadata": {},
     "output_type": "execute_result"
    }
   ],
   "source": [
    "all_console_reviews['summary'].unique()[:3]"
   ]
  },
  {
   "cell_type": "markdown",
   "id": "d825e472",
   "metadata": {},
   "source": [
    "### Let's use the `clean` function to clean up the video game summaries."
   ]
  },
  {
   "cell_type": "code",
   "execution_count": 51,
   "id": "34ca8928",
   "metadata": {},
   "outputs": [],
   "source": [
    "all_console_reviews['summary'] = \\\n",
    "[clean(review, no_emoji=True, no_line_breaks=True, no_urls=True, no_emails=True, no_numbers=True, no_phone_numbers=True, \n",
    "no_currency_symbols=True, no_punct=True) for review in all_console_reviews['summary']]"
   ]
  },
  {
   "cell_type": "code",
   "execution_count": 52,
   "id": "c0516f50",
   "metadata": {},
   "outputs": [
    {
     "data": {
      "text/plain": [
       "array(['developed by the creators of grand theft auto v and red dead redemption red dead redemption <number> is an epic tale of life in americas unforgiving heartland the games vast and atmospheric world also provides the foundation for a brand new online multiplayer experience america <number> the end of the wild west era has begun after a robbery goes badly wrong in the western town of blackwater arthur morgan and the van der linde gang are forced to flee with federal agents and the best bounty hunters in the nation massing on their heels the gang has to rob steal and fight their way across the rugged heartland of america in order to survive as deepening internal fissures threaten to tear the gang apart arthur must make a choice between his own ideals and loyalty to the gang that raised him rockstar',\n",
       "       'the sprawling sunsoaked metropolis of los santos is chock full of selfhelp coaches starlets and clist celebrities once on top of the media world now struggling to stay relevant in time of economic malaise and lowestcommondenominator reality tv amidst this madness three unique criminals plan their own chances of survival and success franklin a streetlevel hustler in search of opportunities for serious money michael an excon whose retirement is a less rosy than he hoped it would be and trevor a violent dude driven by the chance for a quick high and the next big score nearly out of options the crew risks it all in a series of daring and dangerous heists that could set them up for life one way or the other',\n",
       "       'prepare for an allnew rpg experience in persona <number> royal based in the universe of the awardwinning series persona don the mask of joker and join the phantom thieves of hearts break free from the chains of modern society and stage grand heists to infiltrate the minds of the corrupt and make them change their ways persona <number> royal is packed with new characters confidants story depth new locations to explore and a new grappling hook mechanic for stealthy access to new areas with a new semester at shujin academy get ready to strengthen your abilities in the metaverse and in your daily life persona <number> royal presents a unique visual style and award nominated composer shoji meguro returns with an allnew soundtrack explore tokyo unlock new personas customize your own personal thieves den discover a neverbeforeseen story arc cutscenes alternate endings and more even for the most seasoned phantom thieves among us persona <number> royal is a new challenge to defy conventions discover the power within and fight for justice wear the mask reveal your truth'],\n",
       "      dtype=object)"
      ]
     },
     "execution_count": 52,
     "metadata": {},
     "output_type": "execute_result"
    }
   ],
   "source": [
    "all_console_reviews['summary'].unique()[:3]"
   ]
  },
  {
   "cell_type": "markdown",
   "id": "319cf014",
   "metadata": {},
   "source": [
    "## Now let's clean up our `genre(s)` column."
   ]
  },
  {
   "cell_type": "code",
   "execution_count": 53,
   "id": "7a5f4f0d",
   "metadata": {
    "scrolled": false
   },
   "outputs": [
    {
     "data": {
      "text/plain": [
       "array(['Genre(s): Action Adventure, Open-World',\n",
       "       'Genre(s): Action Adventure, Modern, Open-World',\n",
       "       'Genre(s): Role-Playing, Japanese-Style',\n",
       "       'Genre(s): Action Adventure, General, Modern',\n",
       "       'Genre(s): Action Adventure, Linear',\n",
       "       'Genre(s): General, Action Adventure, Survival',\n",
       "       'Genre(s): Modern, Action Adventure, Modern, Open-World',\n",
       "       'Genre(s): General, Modern, Action Adventure, Linear',\n",
       "       'Genre(s): Action, Platformer, 3D',\n",
       "       'Genre(s): Fantasy, Role-Playing, Action Adventure, General, Action RPG'],\n",
       "      dtype=object)"
      ]
     },
     "execution_count": 53,
     "metadata": {},
     "output_type": "execute_result"
    }
   ],
   "source": [
    "all_console_reviews['genre(s)'].unique()[:10]"
   ]
  },
  {
   "cell_type": "markdown",
   "id": "fb41545d",
   "metadata": {},
   "source": [
    "### We only want the actual genres so replace the extra text."
   ]
  },
  {
   "cell_type": "code",
   "execution_count": 54,
   "id": "73edc98e",
   "metadata": {},
   "outputs": [],
   "source": [
    "all_console_reviews['genre(s)'] = [genre.replace('Genre(s): ', '') for genre in all_console_reviews['genre(s)']]"
   ]
  },
  {
   "cell_type": "code",
   "execution_count": 55,
   "id": "bcd3d4e0",
   "metadata": {
    "scrolled": false
   },
   "outputs": [
    {
     "data": {
      "text/plain": [
       "array(['Action Adventure, Open-World',\n",
       "       'Action Adventure, Modern, Open-World',\n",
       "       'Role-Playing, Japanese-Style',\n",
       "       'Action Adventure, General, Modern', 'Action Adventure, Linear',\n",
       "       'General, Action Adventure, Survival',\n",
       "       'Modern, Action Adventure, Modern, Open-World',\n",
       "       'General, Modern, Action Adventure, Linear',\n",
       "       'Action, Platformer, 3D',\n",
       "       'Fantasy, Role-Playing, Action Adventure, General, Action RPG'],\n",
       "      dtype=object)"
      ]
     },
     "execution_count": 55,
     "metadata": {},
     "output_type": "execute_result"
    }
   ],
   "source": [
    "all_console_reviews['genre(s)'].unique()[:10]"
   ]
  },
  {
   "cell_type": "markdown",
   "id": "77f26da6",
   "metadata": {},
   "source": [
    "## Finally using the `clean` function let's clean up our user reviews"
   ]
  },
  {
   "cell_type": "code",
   "execution_count": 56,
   "id": "f0c27b51",
   "metadata": {},
   "outputs": [
    {
     "data": {
      "text/plain": [
       "array([\"\\nThis site is a joke, this the first time when i see the critics getting the game right and the users getting it wrong. Either people are trolling or just brain dead. This game is a game of the year contender and y'all say its mediocre. The disrespect, i can't take this site serious anymore.\\n\",\n",
       "       \"Fair review of RDR2\\r I'm almost 15% finished the game overall, which might be a little premature to review, but I just don't know if I can be bothered finishing the game, in all honesty. The things that are bothering me about this game are things that are fundamental to the gameplay anyway, and won't change no matter how much longer I play it.\\r How to sum up RDR2: It's really not that much fun to play, sadly. Considering I paid a fair sum for it, and am a big RDR, and was waiting ages in anticipation of this game's release, then I ask myself why my PS4 is switched off and I'd rather surf the net instead? I should be glued to the game during any free hours that are available, chomping at the bit to get back from work to get back into the fray , but instead I'm kind of sighing like ok, I'll give it another shot, it's going to get better. The game feels like it's had a lot of love invested in it, but it's unbalanced love, focused too much on unnecessary details and a plethora of tedious tasks/chores and not enough on fun gameplay. You can still communicate an artistic and meticulously-crafted experience, but the game still has to be fun!\\r Obviously, the users giving it 0/10 are clearly wrong, there's no way it's a 0/10, but, at the same time, the critics giving it 10/10 seem deluded? There's no way a game this flawed is a masterpiece/GOTY candidate. Absolutely no way near it. Horizon Zero Dawn was a 9/10 for me, and it was a pleasure to play. You found yourself struggling to put the controller down. Not so in this case. Regarding the critics reviews of RDR2: is there something more sinister at play...?\\r Pros:\\r- When out and about in the open world, the graphics are really nice, the world feels very real and alive, with weather changes, wildlife, nice scenery etc. The storms that come in look really beautiful.\\r- There's clearly been an investment of time in covering details which make the towns look like real old west towns.\\r- The option to kill/spare some side characters that you meet adds an element of Telltale to the game, giving you the impression you're making your own story to some extent.\\r Cons:\\r- The control system really saps the fun out of the gameplay. It's convoluted, confusing, and very difficult to use, especially during the times when you need to retrieve items fast from your inventory, or switch guns. What were Rockstar thinking, in making the control system this way??\\r- The movements of Arthur Morgan are clunky and don't feel smooth. He's either sauntering at a snail's pace or running full out. No in between. The playable cut scenes restrict you in many ways, but its' not always clear you're in one. It's frustrating. Gun fighting, running from cover to cover is awkward and doesn't flow well. Fist fighting is mostly just mashing one button and requires very little skill. It's not fun. It's certainly no Batman Arkham.\\r- It's too much hassle to commit any crimes. I defended myself against an O'Driscoll, beat him up, then the law was called on me. It wasn't clear what the sheriff wanted me to do? It seemed like he was telling me to 'go on, git' (as in get out of here) but when I tried to run he started shooting. I then had to fight off a neverending spawn of deputies and run in my clunky run/swim style for about 15 minutes. The bounty system means its much. much more convenient to just pay off your bounties than continue to be an outlaw, as your crimes never go away.\\r- The graphics of close up faces aren't anything special for PS4. Detroit Become Human set the bar on graphics and RDR2 is nowhere even close.\\r- There are just too many tasks/chores to remember! Brush your horse, feed your horse, shave your face, clean your guns, earn money for the camp, hunt food for the camp, wear the right warm/light clothing, take this tonic, eat this food, and so on and so on. The tasks/chores actually do feel like chores, and I want to play a video game, not do chores.\\r My advice would be if you are a RDR fan and want to give it a shot (no pun intended) then wait until the price goes down, and maybe during that time the game will be patched a bit.\\r Hopefully Rockstar will read some fan reviews and take note for their next endeavour, as if RDR3 continues along this path, I won't be buying it.\"],\n",
       "      dtype=object)"
      ]
     },
     "execution_count": 56,
     "metadata": {},
     "output_type": "execute_result"
    }
   ],
   "source": [
    "all_console_reviews['user_review'].unique()[:2]"
   ]
  },
  {
   "cell_type": "markdown",
   "id": "81711842",
   "metadata": {},
   "source": [
    "### We can see that theres a lot of mess in this reviews, let's use the clean function to clean them up!"
   ]
  },
  {
   "cell_type": "code",
   "execution_count": 57,
   "id": "594a17ca",
   "metadata": {},
   "outputs": [],
   "source": [
    "all_console_reviews['user_review'] = \\\n",
    "[clean(review, no_emoji=True, no_line_breaks=True, no_urls=True, no_emails=True, no_numbers=True, no_phone_numbers=True, \n",
    "no_currency_symbols=True, no_punct=True) for review in all_console_reviews['user_review']]"
   ]
  },
  {
   "cell_type": "code",
   "execution_count": 58,
   "id": "fb7d4140",
   "metadata": {},
   "outputs": [
    {
     "data": {
      "text/plain": [
       "array(['this site is a joke this the first time when i see the critics getting the game right and the users getting it wrong either people are trolling or just brain dead this game is a game of the year contender and yall say its mediocre the disrespect i cant take this site serious anymore',\n",
       "       'fair review of rdr2 im almost <number> finished the game overall which might be a little premature to review but i just dont know if i can be bothered finishing the game in all honesty the things that are bothering me about this game are things that are fundamental to the gameplay anyway and wont change no matter how much longer i play it how to sum up rdr2 its really not that much fun to play sadly considering i paid a fair sum for it and am a big rdr and was waiting ages in anticipation of this games release then i ask myself why my ps4 is switched off and id rather surf the net instead i should be glued to the game during any free hours that are available chomping at the bit to get back from work to get back into the fray but instead im kind of sighing like ok ill give it another shot its going to get better the game feels like its had a lot of love invested in it but its unbalanced love focused too much on unnecessary details and a plethora of tedious taskschores and not enough on fun gameplay you can still communicate an artistic and meticulouslycrafted experience but the game still has to be fun obviously the users giving it <number><number> are clearly wrong theres no way its a <number><number> but at the same time the critics giving it <number><number> seem deluded theres no way a game this flawed is a masterpiecegoty candidate absolutely no way near it horizon zero dawn was a <number><number> for me and it was a pleasure to play you found yourself struggling to put the controller down not so in this case regarding the critics reviews of rdr2 is there something more sinister at play pros when out and about in the open world the graphics are really nice the world feels very real and alive with weather changes wildlife nice scenery etc the storms that come in look really beautiful theres clearly been an investment of time in covering details which make the towns look like real old west towns the option to killspare some side characters that you meet adds an element of telltale to the game giving you the impression youre making your own story to some extent cons the control system really saps the fun out of the gameplay its convoluted confusing and very difficult to use especially during the times when you need to retrieve items fast from your inventory or switch guns what were rockstar thinking in making the control system this way the movements of arthur morgan are clunky and dont feel smooth hes either sauntering at a snails pace or running full out no in between the playable cut scenes restrict you in many ways but its not always clear youre in one its frustrating gun fighting running from cover to cover is awkward and doesnt flow well fist fighting is mostly just mashing one button and requires very little skill its not fun its certainly no batman arkham its too much hassle to commit any crimes i defended myself against an odriscoll beat him up then the law was called on me it wasnt clear what the sheriff wanted me to do it seemed like he was telling me to go on git as in get out of here but when i tried to run he started shooting i then had to fight off a neverending spawn of deputies and run in my clunky runswim style for about <number> minutes the bounty system means its much much more convenient to just pay off your bounties than continue to be an outlaw as your crimes never go away the graphics of close up faces arent anything special for ps4 detroit become human set the bar on graphics and rdr2 is nowhere even close there are just too many taskschores to remember brush your horse feed your horse shave your face clean your guns earn money for the camp hunt food for the camp wear the right warmlight clothing take this tonic eat this food and so on and so on the taskschores actually do feel like chores and i want to play a video game not do chores my advice would be if you are a rdr fan and want to give it a shot no pun intended then wait until the price goes down and maybe during that time the game will be patched a bit hopefully rockstar will read some fan reviews and take note for their next endeavour as if rdr3 continues along this path i wont be buying it'],\n",
       "      dtype=object)"
      ]
     },
     "execution_count": 58,
     "metadata": {},
     "output_type": "execute_result"
    }
   ],
   "source": [
    "all_console_reviews['user_review'].unique()[:2]"
   ]
  },
  {
   "cell_type": "markdown",
   "id": "dd621328",
   "metadata": {},
   "source": [
    "## With our data frame now cleaned, we will save it to a final .csv file"
   ]
  },
  {
   "cell_type": "code",
   "execution_count": 59,
   "id": "6c107665",
   "metadata": {},
   "outputs": [],
   "source": [
    "all_console_reviews.to_csv('../data/cleaned_all_console_reviews.csv', index=False)"
   ]
  },
  {
   "cell_type": "code",
   "execution_count": 60,
   "id": "3ab3a509",
   "metadata": {
    "scrolled": false
   },
   "outputs": [
    {
     "data": {
      "text/html": [
       "<div>\n",
       "<style scoped>\n",
       "    .dataframe tbody tr th:only-of-type {\n",
       "        vertical-align: middle;\n",
       "    }\n",
       "\n",
       "    .dataframe tbody tr th {\n",
       "        vertical-align: top;\n",
       "    }\n",
       "\n",
       "    .dataframe thead th {\n",
       "        text-align: right;\n",
       "    }\n",
       "</style>\n",
       "<table border=\"1\" class=\"dataframe\">\n",
       "  <thead>\n",
       "    <tr style=\"text-align: right;\">\n",
       "      <th></th>\n",
       "      <th>console</th>\n",
       "      <th>video_game_name</th>\n",
       "      <th>summary</th>\n",
       "      <th>developer</th>\n",
       "      <th>genre(s)</th>\n",
       "      <th>num_players</th>\n",
       "      <th>esrb_rating</th>\n",
       "      <th>critic_score</th>\n",
       "      <th>avg_user_score</th>\n",
       "      <th>user_review</th>\n",
       "      <th>user_score</th>\n",
       "    </tr>\n",
       "  </thead>\n",
       "  <tbody>\n",
       "    <tr>\n",
       "      <th>0</th>\n",
       "      <td>ps4</td>\n",
       "      <td>Red Dead Redemption 2</td>\n",
       "      <td>developed by the creators of grand theft auto ...</td>\n",
       "      <td>Rockstar Games</td>\n",
       "      <td>Action Adventure, Open-World</td>\n",
       "      <td>32</td>\n",
       "      <td>M</td>\n",
       "      <td>97</td>\n",
       "      <td>8.6</td>\n",
       "      <td>this site is a joke this the first time when i...</td>\n",
       "      <td>9</td>\n",
       "    </tr>\n",
       "    <tr>\n",
       "      <th>1</th>\n",
       "      <td>ps4</td>\n",
       "      <td>Red Dead Redemption 2</td>\n",
       "      <td>developed by the creators of grand theft auto ...</td>\n",
       "      <td>Rockstar Games</td>\n",
       "      <td>Action Adventure, Open-World</td>\n",
       "      <td>32</td>\n",
       "      <td>M</td>\n",
       "      <td>97</td>\n",
       "      <td>8.6</td>\n",
       "      <td>fair review of rdr2 im almost &lt;number&gt; finishe...</td>\n",
       "      <td>7</td>\n",
       "    </tr>\n",
       "    <tr>\n",
       "      <th>2</th>\n",
       "      <td>ps4</td>\n",
       "      <td>Red Dead Redemption 2</td>\n",
       "      <td>developed by the creators of grand theft auto ...</td>\n",
       "      <td>Rockstar Games</td>\n",
       "      <td>Action Adventure, Open-World</td>\n",
       "      <td>32</td>\n",
       "      <td>M</td>\n",
       "      <td>97</td>\n",
       "      <td>8.6</td>\n",
       "      <td>i really wanted to love it the overworld is be...</td>\n",
       "      <td>6</td>\n",
       "    </tr>\n",
       "    <tr>\n",
       "      <th>3</th>\n",
       "      <td>ps4</td>\n",
       "      <td>Red Dead Redemption 2</td>\n",
       "      <td>developed by the creators of grand theft auto ...</td>\n",
       "      <td>Rockstar Games</td>\n",
       "      <td>Action Adventure, Open-World</td>\n",
       "      <td>32</td>\n",
       "      <td>M</td>\n",
       "      <td>97</td>\n",
       "      <td>8.6</td>\n",
       "      <td>beautiful graphics excellent voice acting lots...</td>\n",
       "      <td>7</td>\n",
       "    </tr>\n",
       "    <tr>\n",
       "      <th>4</th>\n",
       "      <td>ps4</td>\n",
       "      <td>Red Dead Redemption 2</td>\n",
       "      <td>developed by the creators of grand theft auto ...</td>\n",
       "      <td>Rockstar Games</td>\n",
       "      <td>Action Adventure, Open-World</td>\n",
       "      <td>32</td>\n",
       "      <td>M</td>\n",
       "      <td>97</td>\n",
       "      <td>8.6</td>\n",
       "      <td>this game is really overrated the amazing envi...</td>\n",
       "      <td>7</td>\n",
       "    </tr>\n",
       "  </tbody>\n",
       "</table>\n",
       "</div>"
      ],
      "text/plain": [
       "  console        video_game_name  \\\n",
       "0     ps4  Red Dead Redemption 2   \n",
       "1     ps4  Red Dead Redemption 2   \n",
       "2     ps4  Red Dead Redemption 2   \n",
       "3     ps4  Red Dead Redemption 2   \n",
       "4     ps4  Red Dead Redemption 2   \n",
       "\n",
       "                                             summary       developer  \\\n",
       "0  developed by the creators of grand theft auto ...  Rockstar Games   \n",
       "1  developed by the creators of grand theft auto ...  Rockstar Games   \n",
       "2  developed by the creators of grand theft auto ...  Rockstar Games   \n",
       "3  developed by the creators of grand theft auto ...  Rockstar Games   \n",
       "4  developed by the creators of grand theft auto ...  Rockstar Games   \n",
       "\n",
       "                       genre(s)  num_players esrb_rating  critic_score  \\\n",
       "0  Action Adventure, Open-World           32           M            97   \n",
       "1  Action Adventure, Open-World           32           M            97   \n",
       "2  Action Adventure, Open-World           32           M            97   \n",
       "3  Action Adventure, Open-World           32           M            97   \n",
       "4  Action Adventure, Open-World           32           M            97   \n",
       "\n",
       "   avg_user_score                                        user_review  \\\n",
       "0             8.6  this site is a joke this the first time when i...   \n",
       "1             8.6  fair review of rdr2 im almost <number> finishe...   \n",
       "2             8.6  i really wanted to love it the overworld is be...   \n",
       "3             8.6  beautiful graphics excellent voice acting lots...   \n",
       "4             8.6  this game is really overrated the amazing envi...   \n",
       "\n",
       "   user_score  \n",
       "0           9  \n",
       "1           7  \n",
       "2           6  \n",
       "3           7  \n",
       "4           7  "
      ]
     },
     "execution_count": 60,
     "metadata": {},
     "output_type": "execute_result"
    }
   ],
   "source": [
    "all_console_reviews.head()"
   ]
  },
  {
   "cell_type": "markdown",
   "id": "6c6f8729",
   "metadata": {},
   "source": [
    "## Data Dictionary\n",
    "|Feature|Type|Description|\n",
    "|---|---|---|\n",
    "| console | object |electronic device that outputs a video signal or image to display a video game|\n",
    "| video_game_name |object | name of video game|\n",
    "| summary |object | summary of what video game is about|\n",
    "| developer |object | the developer (creator) of the video game|\n",
    "| genre(s) |object | genre of video game|\n",
    "| num_players* | int| max number of players that can play in the same game environment at the same time|\n",
    "| esrb_rating |object | ESRB (Entertainment Software Rating Board) rating of video game|\n",
    "| critic_score |int| critic review score of video game|\n",
    "| avg_user_score |float| average user review score of video game|\n",
    "| user_review |object | user review of video game|\n",
    "| user_score |int|user score of video game |\n",
    "\n",
    "\\* values of 100 - games with online multiplayer <br>\n",
    "\\* values of 150 - games considered to be MMOs (massive multipler online games)"
   ]
  }
 ],
 "metadata": {
  "kernelspec": {
   "display_name": "Python 3 (ipykernel)",
   "language": "python",
   "name": "python3"
  },
  "language_info": {
   "codemirror_mode": {
    "name": "ipython",
    "version": 3
   },
   "file_extension": ".py",
   "mimetype": "text/x-python",
   "name": "python",
   "nbconvert_exporter": "python",
   "pygments_lexer": "ipython3",
   "version": "3.9.7"
  }
 },
 "nbformat": 4,
 "nbformat_minor": 5
}
