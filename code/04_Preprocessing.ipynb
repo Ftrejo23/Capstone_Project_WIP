{
 "cells": [
  {
   "cell_type": "markdown",
   "id": "2d20f56a",
   "metadata": {},
   "source": [
    "# Preprocessing\n",
    "---"
   ]
  },
  {
   "cell_type": "markdown",
   "id": "28a124ca",
   "metadata": {},
   "source": [
    "## Load in final data for preprocessing and modeling"
   ]
  },
  {
   "cell_type": "code",
   "execution_count": 1,
   "id": "f9337b55",
   "metadata": {},
   "outputs": [],
   "source": [
    "import pandas as pd\n",
    "import numpy as np\n",
    "import seaborn as sns\n",
    "\n",
    "import matplotlib.pyplot as plt \n",
    "\n",
    "from sklearn.feature_extraction import text\n",
    "from sklearn.feature_extraction.text import TfidfVectorizer\n",
    "\n",
    "plt.style.use('fivethirtyeight')\n",
    "\n",
    "np.random.seed(72)"
   ]
  },
  {
   "cell_type": "code",
   "execution_count": 2,
   "id": "ebb2cdb7",
   "metadata": {},
   "outputs": [
    {
     "data": {
      "text/html": [
       "<div>\n",
       "<style scoped>\n",
       "    .dataframe tbody tr th:only-of-type {\n",
       "        vertical-align: middle;\n",
       "    }\n",
       "\n",
       "    .dataframe tbody tr th {\n",
       "        vertical-align: top;\n",
       "    }\n",
       "\n",
       "    .dataframe thead th {\n",
       "        text-align: right;\n",
       "    }\n",
       "</style>\n",
       "<table border=\"1\" class=\"dataframe\">\n",
       "  <thead>\n",
       "    <tr style=\"text-align: right;\">\n",
       "      <th></th>\n",
       "      <th>console</th>\n",
       "      <th>video_game_name</th>\n",
       "      <th>summary</th>\n",
       "      <th>developer</th>\n",
       "      <th>genre(s)</th>\n",
       "      <th>num_players</th>\n",
       "      <th>esrb_rating</th>\n",
       "      <th>critic_score</th>\n",
       "      <th>avg_user_score</th>\n",
       "      <th>user_review</th>\n",
       "      <th>user_score</th>\n",
       "      <th>target</th>\n",
       "    </tr>\n",
       "  </thead>\n",
       "  <tbody>\n",
       "    <tr>\n",
       "      <th>0</th>\n",
       "      <td>ps4</td>\n",
       "      <td>Red Dead Redemption 2</td>\n",
       "      <td>developed by the creators of grand theft auto ...</td>\n",
       "      <td>Rockstar Games</td>\n",
       "      <td>Action Adventure, Open-World</td>\n",
       "      <td>32</td>\n",
       "      <td>M</td>\n",
       "      <td>97</td>\n",
       "      <td>8.6</td>\n",
       "      <td>this site is a joke this the first time when i...</td>\n",
       "      <td>9</td>\n",
       "      <td>1</td>\n",
       "    </tr>\n",
       "    <tr>\n",
       "      <th>1</th>\n",
       "      <td>ps4</td>\n",
       "      <td>Red Dead Redemption 2</td>\n",
       "      <td>developed by the creators of grand theft auto ...</td>\n",
       "      <td>Rockstar Games</td>\n",
       "      <td>Action Adventure, Open-World</td>\n",
       "      <td>32</td>\n",
       "      <td>M</td>\n",
       "      <td>97</td>\n",
       "      <td>8.6</td>\n",
       "      <td>fair review of rdr2 im almost &lt;number&gt; finishe...</td>\n",
       "      <td>7</td>\n",
       "      <td>1</td>\n",
       "    </tr>\n",
       "    <tr>\n",
       "      <th>2</th>\n",
       "      <td>ps4</td>\n",
       "      <td>Red Dead Redemption 2</td>\n",
       "      <td>developed by the creators of grand theft auto ...</td>\n",
       "      <td>Rockstar Games</td>\n",
       "      <td>Action Adventure, Open-World</td>\n",
       "      <td>32</td>\n",
       "      <td>M</td>\n",
       "      <td>97</td>\n",
       "      <td>8.6</td>\n",
       "      <td>i really wanted to love it the overworld is be...</td>\n",
       "      <td>6</td>\n",
       "      <td>1</td>\n",
       "    </tr>\n",
       "    <tr>\n",
       "      <th>3</th>\n",
       "      <td>ps4</td>\n",
       "      <td>Red Dead Redemption 2</td>\n",
       "      <td>developed by the creators of grand theft auto ...</td>\n",
       "      <td>Rockstar Games</td>\n",
       "      <td>Action Adventure, Open-World</td>\n",
       "      <td>32</td>\n",
       "      <td>M</td>\n",
       "      <td>97</td>\n",
       "      <td>8.6</td>\n",
       "      <td>beautiful graphics excellent voice acting lots...</td>\n",
       "      <td>7</td>\n",
       "      <td>1</td>\n",
       "    </tr>\n",
       "    <tr>\n",
       "      <th>4</th>\n",
       "      <td>ps4</td>\n",
       "      <td>Red Dead Redemption 2</td>\n",
       "      <td>developed by the creators of grand theft auto ...</td>\n",
       "      <td>Rockstar Games</td>\n",
       "      <td>Action Adventure, Open-World</td>\n",
       "      <td>32</td>\n",
       "      <td>M</td>\n",
       "      <td>97</td>\n",
       "      <td>8.6</td>\n",
       "      <td>this game is really overrated the amazing envi...</td>\n",
       "      <td>7</td>\n",
       "      <td>1</td>\n",
       "    </tr>\n",
       "  </tbody>\n",
       "</table>\n",
       "</div>"
      ],
      "text/plain": [
       "  console        video_game_name  \\\n",
       "0     ps4  Red Dead Redemption 2   \n",
       "1     ps4  Red Dead Redemption 2   \n",
       "2     ps4  Red Dead Redemption 2   \n",
       "3     ps4  Red Dead Redemption 2   \n",
       "4     ps4  Red Dead Redemption 2   \n",
       "\n",
       "                                             summary       developer  \\\n",
       "0  developed by the creators of grand theft auto ...  Rockstar Games   \n",
       "1  developed by the creators of grand theft auto ...  Rockstar Games   \n",
       "2  developed by the creators of grand theft auto ...  Rockstar Games   \n",
       "3  developed by the creators of grand theft auto ...  Rockstar Games   \n",
       "4  developed by the creators of grand theft auto ...  Rockstar Games   \n",
       "\n",
       "                       genre(s)  num_players esrb_rating  critic_score  \\\n",
       "0  Action Adventure, Open-World           32           M            97   \n",
       "1  Action Adventure, Open-World           32           M            97   \n",
       "2  Action Adventure, Open-World           32           M            97   \n",
       "3  Action Adventure, Open-World           32           M            97   \n",
       "4  Action Adventure, Open-World           32           M            97   \n",
       "\n",
       "   avg_user_score                                        user_review  \\\n",
       "0             8.6  this site is a joke this the first time when i...   \n",
       "1             8.6  fair review of rdr2 im almost <number> finishe...   \n",
       "2             8.6  i really wanted to love it the overworld is be...   \n",
       "3             8.6  beautiful graphics excellent voice acting lots...   \n",
       "4             8.6  this game is really overrated the amazing envi...   \n",
       "\n",
       "   user_score  target  \n",
       "0           9       1  \n",
       "1           7       1  \n",
       "2           6       1  \n",
       "3           7       1  \n",
       "4           7       1  "
      ]
     },
     "execution_count": 2,
     "metadata": {},
     "output_type": "execute_result"
    }
   ],
   "source": [
    "final_reviews_df = pd.read_csv('../data/final_all_console_reviews.csv')\n",
    "\n",
    "final_reviews_df.head()"
   ]
  },
  {
   "cell_type": "markdown",
   "id": "5ad6b22c",
   "metadata": {},
   "source": [
    "## Let's take a look at some of the columns from our EDA and make edits as needed"
   ]
  },
  {
   "cell_type": "markdown",
   "id": "bac5110b",
   "metadata": {},
   "source": [
    "## `avg_user_score` had potential outliers below 6.5 lets take a closer look"
   ]
  },
  {
   "cell_type": "code",
   "execution_count": 3,
   "id": "dd2f5cc7",
   "metadata": {},
   "outputs": [
    {
     "data": {
      "text/plain": [
       "1    57740\n",
       "0    54605\n",
       "Name: target, dtype: int64"
      ]
     },
     "execution_count": 3,
     "metadata": {},
     "output_type": "execute_result"
    }
   ],
   "source": [
    "final_reviews_df.target.value_counts()"
   ]
  },
  {
   "cell_type": "code",
   "execution_count": 4,
   "id": "8243e63e",
   "metadata": {
    "scrolled": false
   },
   "outputs": [
    {
     "data": {
      "text/plain": [
       "1    57740\n",
       "0    48002\n",
       "Name: target, dtype: int64"
      ]
     },
     "execution_count": 4,
     "metadata": {},
     "output_type": "execute_result"
    }
   ],
   "source": [
    "final_reviews_df[final_reviews_df['avg_user_score'] > 6.05].target.value_counts()"
   ]
  },
  {
   "cell_type": "markdown",
   "id": "da6f13ee",
   "metadata": {},
   "source": [
    "### Removing these outliers removes 5681 reviews with a target of 0. Let's go ahead and drop these from our dataframe."
   ]
  },
  {
   "cell_type": "code",
   "execution_count": 5,
   "id": "ce547221",
   "metadata": {},
   "outputs": [],
   "source": [
    "final_reviews_df.drop((final_reviews_df[final_reviews_df['avg_user_score'] < 6.05].index), inplace=True)"
   ]
  },
  {
   "cell_type": "markdown",
   "id": "5e90afbe",
   "metadata": {},
   "source": [
    "## `critic_score` had some potential outliers (scores below 78), let's take a look"
   ]
  },
  {
   "cell_type": "code",
   "execution_count": 6,
   "id": "4ff0b265",
   "metadata": {},
   "outputs": [
    {
     "data": {
      "text/plain": [
       "1    57740\n",
       "0    48002\n",
       "Name: target, dtype: int64"
      ]
     },
     "execution_count": 6,
     "metadata": {},
     "output_type": "execute_result"
    }
   ],
   "source": [
    "final_reviews_df.target.value_counts()"
   ]
  },
  {
   "cell_type": "code",
   "execution_count": 7,
   "id": "3238c854",
   "metadata": {
    "scrolled": false
   },
   "outputs": [
    {
     "data": {
      "text/plain": [
       "1    57718\n",
       "0    47016\n",
       "Name: target, dtype: int64"
      ]
     },
     "execution_count": 7,
     "metadata": {},
     "output_type": "execute_result"
    }
   ],
   "source": [
    "final_reviews_df[final_reviews_df['critic_score'] > 78].target.value_counts()"
   ]
  },
  {
   "cell_type": "markdown",
   "id": "9b210df1",
   "metadata": {},
   "source": [
    "### Removing outliers in critic score removes 1826 reviews, primarily reviews with a target of 0. Let's go ahead and drop these rows from our main dataframe"
   ]
  },
  {
   "cell_type": "code",
   "execution_count": 8,
   "id": "3f2c9aa4",
   "metadata": {
    "scrolled": false
   },
   "outputs": [],
   "source": [
    "final_reviews_df.drop((final_reviews_df[final_reviews_df['critic_score'] < 78].index), inplace=True)"
   ]
  },
  {
   "cell_type": "markdown",
   "id": "e403cc2c",
   "metadata": {},
   "source": [
    "## `user_score` had some potential outliers (scores below 2.5), let's take a look"
   ]
  },
  {
   "cell_type": "code",
   "execution_count": 9,
   "id": "5b5914f1",
   "metadata": {},
   "outputs": [
    {
     "data": {
      "text/plain": [
       "1    57718\n",
       "0    47120\n",
       "Name: target, dtype: int64"
      ]
     },
     "execution_count": 9,
     "metadata": {},
     "output_type": "execute_result"
    }
   ],
   "source": [
    "final_reviews_df.target.value_counts()"
   ]
  },
  {
   "cell_type": "code",
   "execution_count": 10,
   "id": "6a5db6b0",
   "metadata": {
    "scrolled": false
   },
   "outputs": [
    {
     "data": {
      "text/plain": [
       "1    54506\n",
       "0    39923\n",
       "Name: target, dtype: int64"
      ]
     },
     "execution_count": 10,
     "metadata": {},
     "output_type": "execute_result"
    }
   ],
   "source": [
    "final_reviews_df[final_reviews_df['user_score'] > 2.5].target.value_counts()"
   ]
  },
  {
   "cell_type": "code",
   "execution_count": 11,
   "id": "2cd310de",
   "metadata": {},
   "outputs": [
    {
     "data": {
      "text/plain": [
       "Mortal Kombat X                                                              4\n",
       "Chivalry 2                                                                   4\n",
       "Warframe                                                                     4\n",
       "Injustice 2: Legendary Edition                                               4\n",
       "Forza Horizon 2                                                              4\n",
       "Astro Bot: Rescue Mission                                                    4\n",
       "Bug Fables: The Everlasting Sapling                                          4\n",
       "The Orange Box                                                               4\n",
       "Control: Ultimate Edition                                                    4\n",
       "DiRT Rally                                                                   4\n",
       "The King of Fighters XV                                                      4\n",
       "DmC: Devil May Cry Definitive Edition                                        4\n",
       "Metro Exodus: Complete Edition                                               3\n",
       "Guilty Gear -Strive-                                                         3\n",
       "Final Fantasy XIV: Stormblood                                                3\n",
       "Sonic Mania Plus                                                             3\n",
       "Minecraft: Xbox One Edition                                                  3\n",
       "Guacamelee! 2                                                                3\n",
       "Tetris Effect: Connected                                                     3\n",
       "Bayonetta + Bayonetta 2                                                      3\n",
       "Scarlet Nexus                                                                3\n",
       "Baldur's Gate                                                                3\n",
       "Katamari Damacy REROLL                                                       3\n",
       "The Messenger                                                                3\n",
       "Cadence of Hyrule: Crypt of the NecroDancer Featuring The Legend of Zelda    3\n",
       "Diablo III: Eternal Collection                                               3\n",
       "WWE 2K22                                                                     3\n",
       "Galactic Civilizations II: Twilight of the Arnor                             3\n",
       "Unreal Tournament 2004                                                       3\n",
       "Chicory: A Colorful Tale                                                     3\n",
       "World Soccer Winning Eleven 7 International                                  3\n",
       "System Shock 2                                                               2\n",
       "Jurassic World Evolution 2                                                   2\n",
       "Riders Republic                                                              2\n",
       "The Nioh Collection                                                          2\n",
       "FAR: Changing Tides                                                          2\n",
       "Alan Wake Remastered                                                         2\n",
       "F1 2020                                                                      2\n",
       "Observer                                                                     2\n",
       "DiRT 4                                                                       2\n",
       "Dark Souls Remastered                                                        2\n",
       "Bastion                                                                      2\n",
       "Overcooked! All You Can Eat                                                  2\n",
       "Into the Breach                                                              2\n",
       "Hyper Light Drifter                                                          2\n",
       "Rez Infinite                                                                 2\n",
       "Tetris Effect                                                                2\n",
       "No One Lives Forever 2: A Spy in H.A.R.M.'s Way                              2\n",
       "Astro's Playroom                                                             2\n",
       "Wreckfest                                                                    1\n",
       "Name: video_game_name, dtype: int64"
      ]
     },
     "execution_count": 11,
     "metadata": {},
     "output_type": "execute_result"
    }
   ],
   "source": [
    "final_reviews_df[final_reviews_df['user_score'] < 2.5]['video_game_name'].value_counts()[-100:-50]"
   ]
  },
  {
   "cell_type": "markdown",
   "id": "b4fefa44",
   "metadata": {},
   "source": [
    "### Removing these outliers removes 10409 reviews. The large majority coming from reviews with a target of 0. Most of these correspond to only a few reviews per game. Let's remove these outliers."
   ]
  },
  {
   "cell_type": "code",
   "execution_count": 12,
   "id": "a48d3d86",
   "metadata": {
    "scrolled": false
   },
   "outputs": [],
   "source": [
    "final_reviews_df.drop((final_reviews_df[final_reviews_df['user_score'] < 2.5].index), inplace=True)"
   ]
  },
  {
   "cell_type": "markdown",
   "id": "c3931736",
   "metadata": {},
   "source": [
    "## Now let's dummy our categorical columns starting with `console` and `esrb_rating`"
   ]
  },
  {
   "cell_type": "code",
   "execution_count": 13,
   "id": "0b0555d7",
   "metadata": {},
   "outputs": [],
   "source": [
    "final_reviews_df = \\\n",
    "pd.get_dummies(final_reviews_df, columns=['console', 'esrb_rating'], prefix=['console', 'rating'], drop_first=True)"
   ]
  },
  {
   "cell_type": "markdown",
   "id": "e915df40",
   "metadata": {},
   "source": [
    "## Next column to dummy is `video_game_name`"
   ]
  },
  {
   "cell_type": "code",
   "execution_count": 14,
   "id": "b14a43a9",
   "metadata": {},
   "outputs": [
    {
     "data": {
      "text/plain": [
       "370"
      ]
     },
     "execution_count": 14,
     "metadata": {},
     "output_type": "execute_result"
    }
   ],
   "source": [
    "final_reviews_df['video_game_name'].nunique()"
   ]
  },
  {
   "cell_type": "markdown",
   "id": "ab35319e",
   "metadata": {},
   "source": [
    "### Since there are 370 unique video game names we are going to create a custom column, \"appears in top 40 most frequent\""
   ]
  },
  {
   "cell_type": "code",
   "execution_count": 15,
   "id": "834384a1",
   "metadata": {},
   "outputs": [
    {
     "data": {
      "text/plain": [
       "Index(['Red Dead Redemption 2', 'Elden Ring', 'The Witcher 3: Wild Hunt',\n",
       "       'Grand Theft Auto V', 'DOOM Eternal',\n",
       "       'Metal Gear Solid V: The Phantom Pain', 'Assassin's Creed Valhalla',\n",
       "       'Fallout 4', 'Undertale', 'Sekiro: Shadows Die Twice',\n",
       "       'Forza Horizon 5', 'God of War', 'Batman: Arkham Knight',\n",
       "       'Resident Evil 2', 'Portal 2', 'Bloodborne',\n",
       "       'Uncharted 4: A Thief's End', 'The Legend of Zelda: Breath of the Wild',\n",
       "       'Marvel's Spider-Man', 'Super Mario Odyssey', 'Persona 5',\n",
       "       'Astral Chain', 'Overwatch', 'Team Fortress 2', 'Metroid Dread',\n",
       "       'Half-Life 2', 'BioShock Infinite', 'Minecraft',\n",
       "       'Horizon Forbidden West', 'BioShock', 'Super Smash Bros. Ultimate',\n",
       "       'Horizon Zero Dawn', 'Demon's Souls', 'Fire Emblem: Three Houses',\n",
       "       'The Elder Scrolls V: Skyrim', 'Resident Evil Village',\n",
       "       'Persona 5 Royal', 'Ratchet & Clank: Rift Apart', 'NieR: Automata',\n",
       "       'The Last of Us Remastered'],\n",
       "      dtype='object')"
      ]
     },
     "execution_count": 15,
     "metadata": {},
     "output_type": "execute_result"
    }
   ],
   "source": [
    "video_game_name_top_40_filter = final_reviews_df['video_game_name'].value_counts()[:40].index\n",
    "video_game_name_top_40_filter"
   ]
  },
  {
   "cell_type": "code",
   "execution_count": 16,
   "id": "67d34c67",
   "metadata": {},
   "outputs": [],
   "source": [
    "final_reviews_df['video_game_name_in_top_40'] = \\\n",
    "[1 if game in video_game_name_top_40_filter else 0 for game in final_reviews_df['video_game_name']]"
   ]
  },
  {
   "cell_type": "code",
   "execution_count": 17,
   "id": "efb1b9dc",
   "metadata": {},
   "outputs": [],
   "source": [
    "final_reviews_df.drop(columns=['video_game_name'], inplace=True)"
   ]
  },
  {
   "cell_type": "markdown",
   "id": "b3985f49",
   "metadata": {},
   "source": [
    "## Next column to dummy is `developer`"
   ]
  },
  {
   "cell_type": "code",
   "execution_count": 18,
   "id": "26cd7acf",
   "metadata": {},
   "outputs": [
    {
     "data": {
      "text/plain": [
       "221"
      ]
     },
     "execution_count": 18,
     "metadata": {},
     "output_type": "execute_result"
    }
   ],
   "source": [
    "final_reviews_df['developer'].nunique()"
   ]
  },
  {
   "cell_type": "markdown",
   "id": "f5823b57",
   "metadata": {},
   "source": [
    "### There are 221 unique developers, let's create a custom column, \"appears in top 25 most frequent\""
   ]
  },
  {
   "cell_type": "code",
   "execution_count": 19,
   "id": "7d6acdef",
   "metadata": {},
   "outputs": [
    {
     "data": {
      "text/plain": [
       "Index(['From Software', 'Valve Software', 'Nintendo', 'BioWare',\n",
       "       'Blizzard Entertainment', 'Bethesda Game Studios',\n",
       "       'CD Projekt Red Studio', 'Capcom', 'Insomniac Games', 'Rockstar North',\n",
       "       'Rockstar Games', 'Square Enix', 'PlatinumGames', 'Playground Games',\n",
       "       'id Software', 'Naughty Dog', 'Irrational Games', 'Guerrilla', 'Atlus',\n",
       "       'Respawn Entertainment', 'Rocksteady Studios', 'Kojima Productions',\n",
       "       'Arkane Studios', 'JapanStudio', 'Ubisoft Montreal'],\n",
       "      dtype='object')"
      ]
     },
     "execution_count": 19,
     "metadata": {},
     "output_type": "execute_result"
    }
   ],
   "source": [
    "developer_top_25_filter = final_reviews_df['developer'].value_counts()[:25].index\n",
    "developer_top_25_filter"
   ]
  },
  {
   "cell_type": "code",
   "execution_count": 20,
   "id": "5d1d34b0",
   "metadata": {},
   "outputs": [],
   "source": [
    "final_reviews_df['developer_in_top_25'] = \\\n",
    "[1 if developer in developer_top_25_filter else 0 for developer in final_reviews_df['developer']]"
   ]
  },
  {
   "cell_type": "code",
   "execution_count": 21,
   "id": "1704f3e3",
   "metadata": {},
   "outputs": [],
   "source": [
    "final_reviews_df.drop(columns=['developer'], inplace=True)"
   ]
  },
  {
   "cell_type": "markdown",
   "id": "92e6eded",
   "metadata": {},
   "source": [
    "## Finally let's look at the `genre(s)` column"
   ]
  },
  {
   "cell_type": "code",
   "execution_count": 22,
   "id": "76f39c7f",
   "metadata": {},
   "outputs": [
    {
     "data": {
      "text/plain": [
       "167"
      ]
     },
     "execution_count": 22,
     "metadata": {},
     "output_type": "execute_result"
    }
   ],
   "source": [
    "final_reviews_df['genre(s)'].nunique()"
   ]
  },
  {
   "cell_type": "markdown",
   "id": "b8129578",
   "metadata": {},
   "source": [
    "### There are 167 unique genres, let's create a custom column, \"appears in top 20 most frequent\""
   ]
  },
  {
   "cell_type": "code",
   "execution_count": 23,
   "id": "172bcc35",
   "metadata": {},
   "outputs": [
    {
     "data": {
      "text/plain": [
       "Index(['Role-Playing, Action RPG', 'Action Adventure, Open-World',\n",
       "       'Action, Shooter, Shooter, First-Person, Sci-Fi, Sci-Fi, Arcade',\n",
       "       'Action Adventure, General', 'Action, Shooter, First-Person, Arcade',\n",
       "       'Action, Platformer, 3D', 'Action RPG, Role-Playing, Action RPG',\n",
       "       'Role-Playing, Japanese-Style', 'Action, Platformer, 2D',\n",
       "       'Role-Playing, First-Person, First-Person, Western-Style',\n",
       "       'Action Adventure, Linear', 'Racing, Simulation, Automobile',\n",
       "       'Action Adventure, Survival',\n",
       "       'Role-Playing, Action Adventure, Action RPG, Open-World',\n",
       "       'Action, Fighting, 2D', 'General, Role-Playing, Western-Style',\n",
       "       'Action Adventure, Modern, Open-World',\n",
       "       'Role-Playing, PC-style RPG, PC-style RPG, Western-Style',\n",
       "       'Action, Platformer, 2D, , Metroidvania',\n",
       "       'Action Adventure, Adventure, 3D, Sandbox, First-Person, Fantasy, Fantasy'],\n",
       "      dtype='object')"
      ]
     },
     "execution_count": 23,
     "metadata": {},
     "output_type": "execute_result"
    }
   ],
   "source": [
    "genre_top_20_filter = final_reviews_df['genre(s)'].value_counts()[:20].index\n",
    "genre_top_20_filter"
   ]
  },
  {
   "cell_type": "code",
   "execution_count": 24,
   "id": "e824241e",
   "metadata": {},
   "outputs": [],
   "source": [
    "final_reviews_df['genre_in_top_20'] = \\\n",
    "[1 if genre in genre_top_20_filter else 0 for genre in final_reviews_df['genre(s)']]"
   ]
  },
  {
   "cell_type": "code",
   "execution_count": 25,
   "id": "1be9729f",
   "metadata": {},
   "outputs": [],
   "source": [
    "final_reviews_df.drop(columns=['genre(s)'], inplace=True)"
   ]
  },
  {
   "cell_type": "markdown",
   "id": "9f6d0613",
   "metadata": {},
   "source": [
    "## Now let's look at `user_review` and `summary` columns. Let's convert these 2 into matrix representation using TfidVectorizer"
   ]
  },
  {
   "cell_type": "markdown",
   "id": "998a24bd",
   "metadata": {},
   "source": [
    "## First up to vectorize is `user_review`"
   ]
  },
  {
   "cell_type": "code",
   "execution_count": 26,
   "id": "9156635d",
   "metadata": {},
   "outputs": [
    {
     "data": {
      "text/plain": [
       "summary                       0\n",
       "num_players                   0\n",
       "critic_score                  0\n",
       "avg_user_score                0\n",
       "user_review                  94\n",
       "user_score                    0\n",
       "target                        0\n",
       "console_ps4                   0\n",
       "console_ps5                   0\n",
       "console_switch                0\n",
       "console_xbox-series-x         0\n",
       "console_xboxone               0\n",
       "rating_E10+                   0\n",
       "rating_M                      0\n",
       "rating_T                      0\n",
       "video_game_name_in_top_40     0\n",
       "developer_in_top_25           0\n",
       "genre_in_top_20               0\n",
       "dtype: int64"
      ]
     },
     "execution_count": 26,
     "metadata": {},
     "output_type": "execute_result"
    }
   ],
   "source": [
    "final_reviews_df.isnull().sum()"
   ]
  },
  {
   "cell_type": "markdown",
   "id": "db95a49c",
   "metadata": {},
   "source": [
    "### At some point when saving to .csv file some empty strings in the `user_review` column were changed to Nan values. Let's drop these rows."
   ]
  },
  {
   "cell_type": "code",
   "execution_count": 27,
   "id": "63a3beb4",
   "metadata": {},
   "outputs": [],
   "source": [
    "final_reviews_df.dropna(inplace=True)\n",
    "final_reviews_df.reset_index(drop=True, inplace=True)"
   ]
  },
  {
   "cell_type": "code",
   "execution_count": 28,
   "id": "ae6e4e50",
   "metadata": {},
   "outputs": [
    {
     "data": {
      "text/plain": [
       "summary                      0\n",
       "num_players                  0\n",
       "critic_score                 0\n",
       "avg_user_score               0\n",
       "user_review                  0\n",
       "user_score                   0\n",
       "target                       0\n",
       "console_ps4                  0\n",
       "console_ps5                  0\n",
       "console_switch               0\n",
       "console_xbox-series-x        0\n",
       "console_xboxone              0\n",
       "rating_E10+                  0\n",
       "rating_M                     0\n",
       "rating_T                     0\n",
       "video_game_name_in_top_40    0\n",
       "developer_in_top_25          0\n",
       "genre_in_top_20              0\n",
       "dtype: int64"
      ]
     },
     "execution_count": 28,
     "metadata": {},
     "output_type": "execute_result"
    }
   ],
   "source": [
    "final_reviews_df.isnull().sum()"
   ]
  },
  {
   "cell_type": "code",
   "execution_count": 29,
   "id": "75f9cc45",
   "metadata": {},
   "outputs": [
    {
     "data": {
      "text/plain": [
       "TfidfVectorizer(max_df=0.9, max_features=50,\n",
       "                stop_words=frozenset({'a', 'about', 'above', 'across', 'after',\n",
       "                                      'afterwards', 'again', 'against', 'all',\n",
       "                                      'almost', 'alone', 'along', 'already',\n",
       "                                      'also', 'although', 'always', 'am',\n",
       "                                      'among', 'amongst', 'amoungst', 'amount',\n",
       "                                      'an', 'and', 'another', 'any', 'anyhow',\n",
       "                                      'anyone', 'anything', 'anyway',\n",
       "                                      'anywhere', ...}),\n",
       "                strip_accents='ascii')"
      ]
     },
     "execution_count": 29,
     "metadata": {},
     "output_type": "execute_result"
    }
   ],
   "source": [
    "# add several words that we want to ommit to stop words\n",
    "my_stop_words = text.ENGLISH_STOP_WORDS.union(['game', 'games', 'make', \n",
    "                                               'makes', 'im', 'ive', 'que', 'el', \n",
    "                                               'en', 'es', 'number', 'like', 'just', 'la', 'juego'])\n",
    "\n",
    "tvec_2 = TfidfVectorizer(stop_words=my_stop_words, \n",
    "                       strip_accents='ascii',\n",
    "                       lowercase=True,\n",
    "                       max_features=50, \n",
    "                       norm='l2', \n",
    "                       max_df=0.9,\n",
    "                       smooth_idf=True)\n",
    "\n",
    "tvec_2.fit(final_reviews_df['user_review'])"
   ]
  },
  {
   "cell_type": "markdown",
   "id": "926a42c2",
   "metadata": {},
   "source": [
    "### Convert matrix into a dataframe"
   ]
  },
  {
   "cell_type": "code",
   "execution_count": 30,
   "id": "c536d7ae",
   "metadata": {},
   "outputs": [],
   "source": [
    "df_user_review_tvec = pd.DataFrame(tvec_2.transform(final_reviews_df['user_review']).todense(), \n",
    "                                   columns=tvec_2.get_feature_names())"
   ]
  },
  {
   "cell_type": "code",
   "execution_count": 31,
   "id": "6b98c0d8",
   "metadata": {},
   "outputs": [
    {
     "data": {
      "text/plain": [
       "Index(['amazing', 'really', 'music', 'new', 'overall', 'people', 'perfect',\n",
       "       'play', 'played', 'player', 'playing', 'pretty', 'say', 'bad', 'series',\n",
       "       'souls', 'story', 'thing', 'things', 'think', 'time', 'times', 'want',\n",
       "       'way', 'love', 'lot', 'little', 'level', 'beautiful', 'best', 'better',\n",
       "       'bit', 'character', 'characters', 'combat', 'did', 'different', 'dont',\n",
       "       'experience', 'far', 'feel', 'feels', 'fun', 'gameplay', 'good',\n",
       "       'graphics', 'great', 'hours', 'know', 'world'],\n",
       "      dtype='object')"
      ]
     },
     "execution_count": 31,
     "metadata": {},
     "output_type": "execute_result"
    }
   ],
   "source": [
    "top_22_tfidf_words_rev = df_user_review_tvec.max().sort_values(ascending=False)[:50].index\n",
    "top_22_tfidf_words_rev"
   ]
  },
  {
   "cell_type": "markdown",
   "id": "32b8d448",
   "metadata": {},
   "source": [
    "### All of the words above have a TF-IDF score of 1 which basically tells us that these terms that occur more frequently in particular summaries are likely more important than the terms that occur frequently in all of the corpus (all of the summaries). Let's plot the above to see what the value counts are in our dataset. Let's find the value counts for these words in our corpus."
   ]
  },
  {
   "cell_type": "code",
   "execution_count": 32,
   "id": "28adee32",
   "metadata": {},
   "outputs": [
    {
     "data": {
      "text/plain": [
       "[13582, 17097, 5883, 12066, 6094, 8822, 6865, 20110, 15533, 5444]"
      ]
     },
     "execution_count": 32,
     "metadata": {},
     "output_type": "execute_result"
    }
   ],
   "source": [
    "top_22_tfidf_words_rev_count = \\\n",
    "[df_user_review_tvec[df_user_review_tvec[word] > 0].shape[0] for word in top_22_tfidf_words_rev]\n",
    "top_22_tfidf_words_rev_count[:10]"
   ]
  },
  {
   "cell_type": "code",
   "execution_count": 33,
   "id": "9e1c4184",
   "metadata": {},
   "outputs": [
    {
     "data": {
      "image/png": "[encoded data removed]",
      "text/plain": [
       "<Figure size 1080x864 with 1 Axes>"
      ]
     },
     "metadata": {},
     "output_type": "display_data"
    }
   ],
   "source": [
    "plt.figure(figsize=(15,12))\n",
    "sns.barplot(x=top_22_tfidf_words_rev, y=top_22_tfidf_words_rev_count, color='olive')\n",
    "plt.title('Best TF-IDF score word count in user_review', fontsize=18)\n",
    "\n",
    "plt.ylabel('count', fontsize=16)\n",
    "plt.xlabel('words', fontsize=16)\n",
    "plt.xticks(rotation=70, fontsize=14);"
   ]
  },
  {
   "cell_type": "markdown",
   "id": "aad4c084",
   "metadata": {},
   "source": [
    "### From the plot above we can see that in our user_reviews the most occuring words with a TF-IDF score of 1 are 'story', 'best', and 'great'. These 3 words show up over 20k times in our corpus of user reviews."
   ]
  },
  {
   "cell_type": "markdown",
   "id": "96c6663e",
   "metadata": {},
   "source": [
    "## Now let's vectorize `summary`"
   ]
  },
  {
   "cell_type": "code",
   "execution_count": 34,
   "id": "43eb79b7",
   "metadata": {},
   "outputs": [
    {
     "data": {
      "text/plain": [
       "TfidfVectorizer(max_df=0.8, max_features=50,\n",
       "                stop_words=frozenset({'a', 'about', 'above', 'across', 'after',\n",
       "                                      'afterwards', 'again', 'against', 'all',\n",
       "                                      'almost', 'alone', 'along', 'already',\n",
       "                                      'also', 'although', 'always', 'am',\n",
       "                                      'among', 'amongst', 'amoungst', 'amount',\n",
       "                                      'an', 'and', 'another', 'any', 'anyhow',\n",
       "                                      'anyone', 'anything', 'anyway',\n",
       "                                      'anywhere', ...}),\n",
       "                strip_accents='ascii')"
      ]
     },
     "execution_count": 34,
     "metadata": {},
     "output_type": "execute_result"
    }
   ],
   "source": [
    "# add 'game(s)' to stop words\n",
    "my_stop_words = text.ENGLISH_STOP_WORDS.union(['game', 'games'])\n",
    "\n",
    "tvec = TfidfVectorizer(stop_words=my_stop_words, \n",
    "                       strip_accents='ascii',\n",
    "                       lowercase=True,\n",
    "                       max_features=50, \n",
    "                       norm='l2', \n",
    "                       max_df=0.8,\n",
    "                       smooth_idf=True)\n",
    "\n",
    "tvec.fit(final_reviews_df['summary'])"
   ]
  },
  {
   "cell_type": "markdown",
   "id": "2b980920",
   "metadata": {},
   "source": [
    "### Convert matrix into a dataframe"
   ]
  },
  {
   "cell_type": "code",
   "execution_count": 35,
   "id": "9f3c5df9",
   "metadata": {},
   "outputs": [],
   "source": [
    "df_summary_tvec = pd.DataFrame(tvec.transform(final_reviews_df['summary']).todense(), \n",
    "                               columns=tvec.get_feature_names())"
   ]
  },
  {
   "cell_type": "code",
   "execution_count": 36,
   "id": "effed516",
   "metadata": {},
   "outputs": [
    {
     "data": {
      "text/plain": [
       "Index(['make', 'journey', 'way', 'war', 'story', 'set', 'power', 'number',\n",
       "       'new', 'like', 'world', 'dark', 'adventure', 'character', 'battle'],\n",
       "      dtype='object')"
      ]
     },
     "execution_count": 36,
     "metadata": {},
     "output_type": "execute_result"
    }
   ],
   "source": [
    "top_15_tfidf_words = df_summary_tvec.max().sort_values(ascending=False)[:15].index\n",
    "top_15_tfidf_words"
   ]
  },
  {
   "cell_type": "markdown",
   "id": "565fd95b",
   "metadata": {},
   "source": [
    "### The above words all have a TF-IDF score of 1, which basically tells us that these terms that occur more frequently in particular summaries are likely more important than the terms that occur frequently in all of the corpus (all of the summaries). Let's plot the above to see what the value counts are in our dataset."
   ]
  },
  {
   "cell_type": "code",
   "execution_count": 37,
   "id": "cb244c77",
   "metadata": {},
   "outputs": [
    {
     "data": {
      "text/plain": [
       "[13682,\n",
       " 10798,\n",
       " 22356,\n",
       " 9213,\n",
       " 14682,\n",
       " 17551,\n",
       " 12337,\n",
       " 36860,\n",
       " 44933,\n",
       " 8984,\n",
       " 48694,\n",
       " 13636,\n",
       " 17814,\n",
       " 8738,\n",
       " 13444]"
      ]
     },
     "execution_count": 37,
     "metadata": {},
     "output_type": "execute_result"
    }
   ],
   "source": [
    "top_15_tfidf_words_counts = \\\n",
    "[df_summary_tvec[df_summary_tvec[word] > 0].shape[0] for word in top_15_tfidf_words]\n",
    "top_15_tfidf_words_counts"
   ]
  },
  {
   "cell_type": "code",
   "execution_count": 38,
   "id": "ef40d356",
   "metadata": {},
   "outputs": [
    {
     "data": {
      "image/png": "[encoded data removed]",
      "text/plain": [
       "<Figure size 864x576 with 1 Axes>"
      ]
     },
     "metadata": {},
     "output_type": "display_data"
    }
   ],
   "source": [
    "plt.figure(figsize=(12,8))\n",
    "sns.barplot(x=top_15_tfidf_words, y=top_15_tfidf_words_counts, color='crimson')\n",
    "plt.title('Best TF-IDF score word count in summary', fontsize=18)\n",
    "\n",
    "plt.ylabel('count', fontsize=16)\n",
    "plt.xlabel('words', fontsize=16)\n",
    "plt.xticks(rotation=45, fontsize=14);"
   ]
  },
  {
   "cell_type": "markdown",
   "id": "9bd96c05",
   "metadata": {},
   "source": [
    "### From the above plot we can see that of all the words with a TF-IDF score of 1, 'world', 'new', and 'number' show up the most in our corpus. 'war', 'like', and 'character' show up the least with less than 10k occurances."
   ]
  },
  {
   "cell_type": "markdown",
   "id": "84a4dbfa",
   "metadata": {},
   "source": [
    "## Combine both tvec df into one"
   ]
  },
  {
   "cell_type": "code",
   "execution_count": 39,
   "id": "6e7290e1",
   "metadata": {},
   "outputs": [],
   "source": [
    "# change the name of summary tvec fd to be able to join\n",
    "df_summary_tvec.columns = ['sum_' + col for col in df_summary_tvec.columns]"
   ]
  },
  {
   "cell_type": "code",
   "execution_count": 40,
   "id": "3eaa57ba",
   "metadata": {},
   "outputs": [
    {
     "data": {
      "text/html": [
       "<div>\n",
       "<style scoped>\n",
       "    .dataframe tbody tr th:only-of-type {\n",
       "        vertical-align: middle;\n",
       "    }\n",
       "\n",
       "    .dataframe tbody tr th {\n",
       "        vertical-align: top;\n",
       "    }\n",
       "\n",
       "    .dataframe thead th {\n",
       "        text-align: right;\n",
       "    }\n",
       "</style>\n",
       "<table border=\"1\" class=\"dataframe\">\n",
       "  <thead>\n",
       "    <tr style=\"text-align: right;\">\n",
       "      <th></th>\n",
       "      <th>sum_abilities</th>\n",
       "      <th>sum_action</th>\n",
       "      <th>sum_adventure</th>\n",
       "      <th>sum_battle</th>\n",
       "      <th>sum_character</th>\n",
       "      <th>sum_characters</th>\n",
       "      <th>sum_city</th>\n",
       "      <th>sum_combat</th>\n",
       "      <th>sum_dark</th>\n",
       "      <th>sum_developed</th>\n",
       "      <th>...</th>\n",
       "      <th>souls</th>\n",
       "      <th>story</th>\n",
       "      <th>thing</th>\n",
       "      <th>things</th>\n",
       "      <th>think</th>\n",
       "      <th>time</th>\n",
       "      <th>times</th>\n",
       "      <th>want</th>\n",
       "      <th>way</th>\n",
       "      <th>world</th>\n",
       "    </tr>\n",
       "  </thead>\n",
       "  <tbody>\n",
       "    <tr>\n",
       "      <th>0</th>\n",
       "      <td>0.0</td>\n",
       "      <td>0.0</td>\n",
       "      <td>0.0</td>\n",
       "      <td>0.0</td>\n",
       "      <td>0.0</td>\n",
       "      <td>0.0</td>\n",
       "      <td>0.0</td>\n",
       "      <td>0.0</td>\n",
       "      <td>0.0</td>\n",
       "      <td>0.294516</td>\n",
       "      <td>...</td>\n",
       "      <td>0.0</td>\n",
       "      <td>0.000000</td>\n",
       "      <td>0.000000</td>\n",
       "      <td>0.000000</td>\n",
       "      <td>0.0</td>\n",
       "      <td>0.487782</td>\n",
       "      <td>0.000000</td>\n",
       "      <td>0.000000</td>\n",
       "      <td>0.000000</td>\n",
       "      <td>0.000000</td>\n",
       "    </tr>\n",
       "    <tr>\n",
       "      <th>1</th>\n",
       "      <td>0.0</td>\n",
       "      <td>0.0</td>\n",
       "      <td>0.0</td>\n",
       "      <td>0.0</td>\n",
       "      <td>0.0</td>\n",
       "      <td>0.0</td>\n",
       "      <td>0.0</td>\n",
       "      <td>0.0</td>\n",
       "      <td>0.0</td>\n",
       "      <td>0.294516</td>\n",
       "      <td>...</td>\n",
       "      <td>0.0</td>\n",
       "      <td>0.062584</td>\n",
       "      <td>0.000000</td>\n",
       "      <td>0.195353</td>\n",
       "      <td>0.0</td>\n",
       "      <td>0.217961</td>\n",
       "      <td>0.101365</td>\n",
       "      <td>0.190463</td>\n",
       "      <td>0.346986</td>\n",
       "      <td>0.162609</td>\n",
       "    </tr>\n",
       "    <tr>\n",
       "      <th>2</th>\n",
       "      <td>0.0</td>\n",
       "      <td>0.0</td>\n",
       "      <td>0.0</td>\n",
       "      <td>0.0</td>\n",
       "      <td>0.0</td>\n",
       "      <td>0.0</td>\n",
       "      <td>0.0</td>\n",
       "      <td>0.0</td>\n",
       "      <td>0.0</td>\n",
       "      <td>0.294516</td>\n",
       "      <td>...</td>\n",
       "      <td>0.0</td>\n",
       "      <td>0.000000</td>\n",
       "      <td>0.000000</td>\n",
       "      <td>0.000000</td>\n",
       "      <td>0.0</td>\n",
       "      <td>0.000000</td>\n",
       "      <td>0.000000</td>\n",
       "      <td>0.000000</td>\n",
       "      <td>0.000000</td>\n",
       "      <td>0.000000</td>\n",
       "    </tr>\n",
       "    <tr>\n",
       "      <th>3</th>\n",
       "      <td>0.0</td>\n",
       "      <td>0.0</td>\n",
       "      <td>0.0</td>\n",
       "      <td>0.0</td>\n",
       "      <td>0.0</td>\n",
       "      <td>0.0</td>\n",
       "      <td>0.0</td>\n",
       "      <td>0.0</td>\n",
       "      <td>0.0</td>\n",
       "      <td>0.294516</td>\n",
       "      <td>...</td>\n",
       "      <td>0.0</td>\n",
       "      <td>0.000000</td>\n",
       "      <td>0.000000</td>\n",
       "      <td>0.000000</td>\n",
       "      <td>0.0</td>\n",
       "      <td>0.328686</td>\n",
       "      <td>0.000000</td>\n",
       "      <td>0.000000</td>\n",
       "      <td>0.000000</td>\n",
       "      <td>0.000000</td>\n",
       "    </tr>\n",
       "    <tr>\n",
       "      <th>4</th>\n",
       "      <td>0.0</td>\n",
       "      <td>0.0</td>\n",
       "      <td>0.0</td>\n",
       "      <td>0.0</td>\n",
       "      <td>0.0</td>\n",
       "      <td>0.0</td>\n",
       "      <td>0.0</td>\n",
       "      <td>0.0</td>\n",
       "      <td>0.0</td>\n",
       "      <td>0.294516</td>\n",
       "      <td>...</td>\n",
       "      <td>0.0</td>\n",
       "      <td>0.242787</td>\n",
       "      <td>0.390407</td>\n",
       "      <td>0.000000</td>\n",
       "      <td>0.0</td>\n",
       "      <td>0.281853</td>\n",
       "      <td>0.000000</td>\n",
       "      <td>0.000000</td>\n",
       "      <td>0.000000</td>\n",
       "      <td>0.000000</td>\n",
       "    </tr>\n",
       "  </tbody>\n",
       "</table>\n",
       "<p>5 rows × 100 columns</p>\n",
       "</div>"
      ],
      "text/plain": [
       "   sum_abilities  sum_action  sum_adventure  sum_battle  sum_character  \\\n",
       "0            0.0         0.0            0.0         0.0            0.0   \n",
       "1            0.0         0.0            0.0         0.0            0.0   \n",
       "2            0.0         0.0            0.0         0.0            0.0   \n",
       "3            0.0         0.0            0.0         0.0            0.0   \n",
       "4            0.0         0.0            0.0         0.0            0.0   \n",
       "\n",
       "   sum_characters  sum_city  sum_combat  sum_dark  sum_developed  ...  souls  \\\n",
       "0             0.0       0.0         0.0       0.0       0.294516  ...    0.0   \n",
       "1             0.0       0.0         0.0       0.0       0.294516  ...    0.0   \n",
       "2             0.0       0.0         0.0       0.0       0.294516  ...    0.0   \n",
       "3             0.0       0.0         0.0       0.0       0.294516  ...    0.0   \n",
       "4             0.0       0.0         0.0       0.0       0.294516  ...    0.0   \n",
       "\n",
       "      story     thing    things  think      time     times      want  \\\n",
       "0  0.000000  0.000000  0.000000    0.0  0.487782  0.000000  0.000000   \n",
       "1  0.062584  0.000000  0.195353    0.0  0.217961  0.101365  0.190463   \n",
       "2  0.000000  0.000000  0.000000    0.0  0.000000  0.000000  0.000000   \n",
       "3  0.000000  0.000000  0.000000    0.0  0.328686  0.000000  0.000000   \n",
       "4  0.242787  0.390407  0.000000    0.0  0.281853  0.000000  0.000000   \n",
       "\n",
       "        way     world  \n",
       "0  0.000000  0.000000  \n",
       "1  0.346986  0.162609  \n",
       "2  0.000000  0.000000  \n",
       "3  0.000000  0.000000  \n",
       "4  0.000000  0.000000  \n",
       "\n",
       "[5 rows x 100 columns]"
      ]
     },
     "execution_count": 40,
     "metadata": {},
     "output_type": "execute_result"
    }
   ],
   "source": [
    "combined_df = df_summary_tvec.join(df_user_review_tvec)\n",
    "combined_df.head()"
   ]
  },
  {
   "cell_type": "markdown",
   "id": "1027b450",
   "metadata": {},
   "source": [
    "### Check to see if there are any null values"
   ]
  },
  {
   "cell_type": "code",
   "execution_count": 41,
   "id": "4e9cb9f2",
   "metadata": {},
   "outputs": [
    {
     "data": {
      "text/plain": [
       "sum_abilities    0\n",
       "sum_action       0\n",
       "sum_adventure    0\n",
       "sum_battle       0\n",
       "sum_character    0\n",
       "                ..\n",
       "time             0\n",
       "times            0\n",
       "want             0\n",
       "way              0\n",
       "world            0\n",
       "Length: 100, dtype: int64"
      ]
     },
     "execution_count": 41,
     "metadata": {},
     "output_type": "execute_result"
    }
   ],
   "source": [
    "combined_df.isnull().sum()"
   ]
  },
  {
   "cell_type": "code",
   "execution_count": 42,
   "id": "aeb437cd",
   "metadata": {},
   "outputs": [
    {
     "data": {
      "text/html": [
       "<div>\n",
       "<style scoped>\n",
       "    .dataframe tbody tr th:only-of-type {\n",
       "        vertical-align: middle;\n",
       "    }\n",
       "\n",
       "    .dataframe tbody tr th {\n",
       "        vertical-align: top;\n",
       "    }\n",
       "\n",
       "    .dataframe thead th {\n",
       "        text-align: right;\n",
       "    }\n",
       "</style>\n",
       "<table border=\"1\" class=\"dataframe\">\n",
       "  <thead>\n",
       "    <tr style=\"text-align: right;\">\n",
       "      <th></th>\n",
       "      <th>sum_abilities</th>\n",
       "      <th>sum_action</th>\n",
       "      <th>sum_adventure</th>\n",
       "      <th>sum_battle</th>\n",
       "      <th>sum_character</th>\n",
       "      <th>sum_characters</th>\n",
       "      <th>sum_city</th>\n",
       "      <th>sum_combat</th>\n",
       "      <th>sum_dark</th>\n",
       "      <th>sum_developed</th>\n",
       "      <th>...</th>\n",
       "      <th>souls</th>\n",
       "      <th>story</th>\n",
       "      <th>thing</th>\n",
       "      <th>things</th>\n",
       "      <th>think</th>\n",
       "      <th>time</th>\n",
       "      <th>times</th>\n",
       "      <th>want</th>\n",
       "      <th>way</th>\n",
       "      <th>world</th>\n",
       "    </tr>\n",
       "  </thead>\n",
       "  <tbody>\n",
       "    <tr>\n",
       "      <th>0</th>\n",
       "      <td>0.0</td>\n",
       "      <td>0.000000</td>\n",
       "      <td>0.000000</td>\n",
       "      <td>0.0</td>\n",
       "      <td>0.0</td>\n",
       "      <td>0.0</td>\n",
       "      <td>0.0</td>\n",
       "      <td>0.0</td>\n",
       "      <td>0.0</td>\n",
       "      <td>0.294516</td>\n",
       "      <td>...</td>\n",
       "      <td>0.0</td>\n",
       "      <td>0.000000</td>\n",
       "      <td>0.000000</td>\n",
       "      <td>0.000000</td>\n",
       "      <td>0.000000</td>\n",
       "      <td>0.487782</td>\n",
       "      <td>0.000000</td>\n",
       "      <td>0.000000</td>\n",
       "      <td>0.000000</td>\n",
       "      <td>0.000000</td>\n",
       "    </tr>\n",
       "    <tr>\n",
       "      <th>1</th>\n",
       "      <td>0.0</td>\n",
       "      <td>0.000000</td>\n",
       "      <td>0.000000</td>\n",
       "      <td>0.0</td>\n",
       "      <td>0.0</td>\n",
       "      <td>0.0</td>\n",
       "      <td>0.0</td>\n",
       "      <td>0.0</td>\n",
       "      <td>0.0</td>\n",
       "      <td>0.294516</td>\n",
       "      <td>...</td>\n",
       "      <td>0.0</td>\n",
       "      <td>0.062584</td>\n",
       "      <td>0.000000</td>\n",
       "      <td>0.195353</td>\n",
       "      <td>0.000000</td>\n",
       "      <td>0.217961</td>\n",
       "      <td>0.101365</td>\n",
       "      <td>0.190463</td>\n",
       "      <td>0.346986</td>\n",
       "      <td>0.162609</td>\n",
       "    </tr>\n",
       "    <tr>\n",
       "      <th>2</th>\n",
       "      <td>0.0</td>\n",
       "      <td>0.000000</td>\n",
       "      <td>0.000000</td>\n",
       "      <td>0.0</td>\n",
       "      <td>0.0</td>\n",
       "      <td>0.0</td>\n",
       "      <td>0.0</td>\n",
       "      <td>0.0</td>\n",
       "      <td>0.0</td>\n",
       "      <td>0.294516</td>\n",
       "      <td>...</td>\n",
       "      <td>0.0</td>\n",
       "      <td>0.000000</td>\n",
       "      <td>0.000000</td>\n",
       "      <td>0.000000</td>\n",
       "      <td>0.000000</td>\n",
       "      <td>0.000000</td>\n",
       "      <td>0.000000</td>\n",
       "      <td>0.000000</td>\n",
       "      <td>0.000000</td>\n",
       "      <td>0.000000</td>\n",
       "    </tr>\n",
       "    <tr>\n",
       "      <th>3</th>\n",
       "      <td>0.0</td>\n",
       "      <td>0.000000</td>\n",
       "      <td>0.000000</td>\n",
       "      <td>0.0</td>\n",
       "      <td>0.0</td>\n",
       "      <td>0.0</td>\n",
       "      <td>0.0</td>\n",
       "      <td>0.0</td>\n",
       "      <td>0.0</td>\n",
       "      <td>0.294516</td>\n",
       "      <td>...</td>\n",
       "      <td>0.0</td>\n",
       "      <td>0.000000</td>\n",
       "      <td>0.000000</td>\n",
       "      <td>0.000000</td>\n",
       "      <td>0.000000</td>\n",
       "      <td>0.328686</td>\n",
       "      <td>0.000000</td>\n",
       "      <td>0.000000</td>\n",
       "      <td>0.000000</td>\n",
       "      <td>0.000000</td>\n",
       "    </tr>\n",
       "    <tr>\n",
       "      <th>4</th>\n",
       "      <td>0.0</td>\n",
       "      <td>0.000000</td>\n",
       "      <td>0.000000</td>\n",
       "      <td>0.0</td>\n",
       "      <td>0.0</td>\n",
       "      <td>0.0</td>\n",
       "      <td>0.0</td>\n",
       "      <td>0.0</td>\n",
       "      <td>0.0</td>\n",
       "      <td>0.294516</td>\n",
       "      <td>...</td>\n",
       "      <td>0.0</td>\n",
       "      <td>0.242787</td>\n",
       "      <td>0.390407</td>\n",
       "      <td>0.000000</td>\n",
       "      <td>0.000000</td>\n",
       "      <td>0.281853</td>\n",
       "      <td>0.000000</td>\n",
       "      <td>0.000000</td>\n",
       "      <td>0.000000</td>\n",
       "      <td>0.000000</td>\n",
       "    </tr>\n",
       "    <tr>\n",
       "      <th>...</th>\n",
       "      <td>...</td>\n",
       "      <td>...</td>\n",
       "      <td>...</td>\n",
       "      <td>...</td>\n",
       "      <td>...</td>\n",
       "      <td>...</td>\n",
       "      <td>...</td>\n",
       "      <td>...</td>\n",
       "      <td>...</td>\n",
       "      <td>...</td>\n",
       "      <td>...</td>\n",
       "      <td>...</td>\n",
       "      <td>...</td>\n",
       "      <td>...</td>\n",
       "      <td>...</td>\n",
       "      <td>...</td>\n",
       "      <td>...</td>\n",
       "      <td>...</td>\n",
       "      <td>...</td>\n",
       "      <td>...</td>\n",
       "      <td>...</td>\n",
       "    </tr>\n",
       "    <tr>\n",
       "      <th>94330</th>\n",
       "      <td>0.0</td>\n",
       "      <td>0.512122</td>\n",
       "      <td>0.000000</td>\n",
       "      <td>0.0</td>\n",
       "      <td>0.0</td>\n",
       "      <td>0.0</td>\n",
       "      <td>0.0</td>\n",
       "      <td>0.0</td>\n",
       "      <td>0.0</td>\n",
       "      <td>0.000000</td>\n",
       "      <td>...</td>\n",
       "      <td>0.0</td>\n",
       "      <td>0.000000</td>\n",
       "      <td>0.000000</td>\n",
       "      <td>0.000000</td>\n",
       "      <td>0.788248</td>\n",
       "      <td>0.000000</td>\n",
       "      <td>0.000000</td>\n",
       "      <td>0.000000</td>\n",
       "      <td>0.000000</td>\n",
       "      <td>0.000000</td>\n",
       "    </tr>\n",
       "    <tr>\n",
       "      <th>94331</th>\n",
       "      <td>0.0</td>\n",
       "      <td>0.000000</td>\n",
       "      <td>0.871138</td>\n",
       "      <td>0.0</td>\n",
       "      <td>0.0</td>\n",
       "      <td>0.0</td>\n",
       "      <td>0.0</td>\n",
       "      <td>0.0</td>\n",
       "      <td>0.0</td>\n",
       "      <td>0.000000</td>\n",
       "      <td>...</td>\n",
       "      <td>0.0</td>\n",
       "      <td>0.000000</td>\n",
       "      <td>0.000000</td>\n",
       "      <td>0.000000</td>\n",
       "      <td>0.000000</td>\n",
       "      <td>0.000000</td>\n",
       "      <td>0.000000</td>\n",
       "      <td>0.000000</td>\n",
       "      <td>0.000000</td>\n",
       "      <td>0.000000</td>\n",
       "    </tr>\n",
       "    <tr>\n",
       "      <th>94332</th>\n",
       "      <td>0.0</td>\n",
       "      <td>0.000000</td>\n",
       "      <td>0.871138</td>\n",
       "      <td>0.0</td>\n",
       "      <td>0.0</td>\n",
       "      <td>0.0</td>\n",
       "      <td>0.0</td>\n",
       "      <td>0.0</td>\n",
       "      <td>0.0</td>\n",
       "      <td>0.000000</td>\n",
       "      <td>...</td>\n",
       "      <td>0.0</td>\n",
       "      <td>0.000000</td>\n",
       "      <td>0.000000</td>\n",
       "      <td>0.000000</td>\n",
       "      <td>0.000000</td>\n",
       "      <td>0.000000</td>\n",
       "      <td>0.000000</td>\n",
       "      <td>0.000000</td>\n",
       "      <td>0.000000</td>\n",
       "      <td>0.000000</td>\n",
       "    </tr>\n",
       "    <tr>\n",
       "      <th>94333</th>\n",
       "      <td>0.0</td>\n",
       "      <td>0.000000</td>\n",
       "      <td>0.871138</td>\n",
       "      <td>0.0</td>\n",
       "      <td>0.0</td>\n",
       "      <td>0.0</td>\n",
       "      <td>0.0</td>\n",
       "      <td>0.0</td>\n",
       "      <td>0.0</td>\n",
       "      <td>0.000000</td>\n",
       "      <td>...</td>\n",
       "      <td>0.0</td>\n",
       "      <td>0.000000</td>\n",
       "      <td>0.000000</td>\n",
       "      <td>0.000000</td>\n",
       "      <td>0.000000</td>\n",
       "      <td>0.000000</td>\n",
       "      <td>0.000000</td>\n",
       "      <td>0.000000</td>\n",
       "      <td>0.000000</td>\n",
       "      <td>0.000000</td>\n",
       "    </tr>\n",
       "    <tr>\n",
       "      <th>94334</th>\n",
       "      <td>0.0</td>\n",
       "      <td>0.000000</td>\n",
       "      <td>0.871138</td>\n",
       "      <td>0.0</td>\n",
       "      <td>0.0</td>\n",
       "      <td>0.0</td>\n",
       "      <td>0.0</td>\n",
       "      <td>0.0</td>\n",
       "      <td>0.0</td>\n",
       "      <td>0.000000</td>\n",
       "      <td>...</td>\n",
       "      <td>0.0</td>\n",
       "      <td>0.144874</td>\n",
       "      <td>0.232960</td>\n",
       "      <td>0.000000</td>\n",
       "      <td>0.218607</td>\n",
       "      <td>0.000000</td>\n",
       "      <td>0.000000</td>\n",
       "      <td>0.000000</td>\n",
       "      <td>0.000000</td>\n",
       "      <td>0.000000</td>\n",
       "    </tr>\n",
       "  </tbody>\n",
       "</table>\n",
       "<p>94335 rows × 100 columns</p>\n",
       "</div>"
      ],
      "text/plain": [
       "       sum_abilities  sum_action  sum_adventure  sum_battle  sum_character  \\\n",
       "0                0.0    0.000000       0.000000         0.0            0.0   \n",
       "1                0.0    0.000000       0.000000         0.0            0.0   \n",
       "2                0.0    0.000000       0.000000         0.0            0.0   \n",
       "3                0.0    0.000000       0.000000         0.0            0.0   \n",
       "4                0.0    0.000000       0.000000         0.0            0.0   \n",
       "...              ...         ...            ...         ...            ...   \n",
       "94330            0.0    0.512122       0.000000         0.0            0.0   \n",
       "94331            0.0    0.000000       0.871138         0.0            0.0   \n",
       "94332            0.0    0.000000       0.871138         0.0            0.0   \n",
       "94333            0.0    0.000000       0.871138         0.0            0.0   \n",
       "94334            0.0    0.000000       0.871138         0.0            0.0   \n",
       "\n",
       "       sum_characters  sum_city  sum_combat  sum_dark  sum_developed  ...  \\\n",
       "0                 0.0       0.0         0.0       0.0       0.294516  ...   \n",
       "1                 0.0       0.0         0.0       0.0       0.294516  ...   \n",
       "2                 0.0       0.0         0.0       0.0       0.294516  ...   \n",
       "3                 0.0       0.0         0.0       0.0       0.294516  ...   \n",
       "4                 0.0       0.0         0.0       0.0       0.294516  ...   \n",
       "...               ...       ...         ...       ...            ...  ...   \n",
       "94330             0.0       0.0         0.0       0.0       0.000000  ...   \n",
       "94331             0.0       0.0         0.0       0.0       0.000000  ...   \n",
       "94332             0.0       0.0         0.0       0.0       0.000000  ...   \n",
       "94333             0.0       0.0         0.0       0.0       0.000000  ...   \n",
       "94334             0.0       0.0         0.0       0.0       0.000000  ...   \n",
       "\n",
       "       souls     story     thing    things     think      time     times  \\\n",
       "0        0.0  0.000000  0.000000  0.000000  0.000000  0.487782  0.000000   \n",
       "1        0.0  0.062584  0.000000  0.195353  0.000000  0.217961  0.101365   \n",
       "2        0.0  0.000000  0.000000  0.000000  0.000000  0.000000  0.000000   \n",
       "3        0.0  0.000000  0.000000  0.000000  0.000000  0.328686  0.000000   \n",
       "4        0.0  0.242787  0.390407  0.000000  0.000000  0.281853  0.000000   \n",
       "...      ...       ...       ...       ...       ...       ...       ...   \n",
       "94330    0.0  0.000000  0.000000  0.000000  0.788248  0.000000  0.000000   \n",
       "94331    0.0  0.000000  0.000000  0.000000  0.000000  0.000000  0.000000   \n",
       "94332    0.0  0.000000  0.000000  0.000000  0.000000  0.000000  0.000000   \n",
       "94333    0.0  0.000000  0.000000  0.000000  0.000000  0.000000  0.000000   \n",
       "94334    0.0  0.144874  0.232960  0.000000  0.218607  0.000000  0.000000   \n",
       "\n",
       "           want       way     world  \n",
       "0      0.000000  0.000000  0.000000  \n",
       "1      0.190463  0.346986  0.162609  \n",
       "2      0.000000  0.000000  0.000000  \n",
       "3      0.000000  0.000000  0.000000  \n",
       "4      0.000000  0.000000  0.000000  \n",
       "...         ...       ...       ...  \n",
       "94330  0.000000  0.000000  0.000000  \n",
       "94331  0.000000  0.000000  0.000000  \n",
       "94332  0.000000  0.000000  0.000000  \n",
       "94333  0.000000  0.000000  0.000000  \n",
       "94334  0.000000  0.000000  0.000000  \n",
       "\n",
       "[94335 rows x 100 columns]"
      ]
     },
     "execution_count": 42,
     "metadata": {},
     "output_type": "execute_result"
    }
   ],
   "source": [
    "combined_df"
   ]
  },
  {
   "cell_type": "markdown",
   "id": "e854cb10",
   "metadata": {},
   "source": [
    "### Our combined df is all good, let's merge it to the final one and drop the `summary` and `user_review` columns"
   ]
  },
  {
   "cell_type": "code",
   "execution_count": 43,
   "id": "a90c0398",
   "metadata": {},
   "outputs": [
    {
     "data": {
      "text/html": [
       "<div>\n",
       "<style scoped>\n",
       "    .dataframe tbody tr th:only-of-type {\n",
       "        vertical-align: middle;\n",
       "    }\n",
       "\n",
       "    .dataframe tbody tr th {\n",
       "        vertical-align: top;\n",
       "    }\n",
       "\n",
       "    .dataframe thead th {\n",
       "        text-align: right;\n",
       "    }\n",
       "</style>\n",
       "<table border=\"1\" class=\"dataframe\">\n",
       "  <thead>\n",
       "    <tr style=\"text-align: right;\">\n",
       "      <th></th>\n",
       "      <th>summary</th>\n",
       "      <th>num_players</th>\n",
       "      <th>critic_score</th>\n",
       "      <th>avg_user_score</th>\n",
       "      <th>user_review</th>\n",
       "      <th>user_score</th>\n",
       "      <th>target</th>\n",
       "      <th>console_ps4</th>\n",
       "      <th>console_ps5</th>\n",
       "      <th>console_switch</th>\n",
       "      <th>console_xbox-series-x</th>\n",
       "      <th>console_xboxone</th>\n",
       "      <th>rating_E10+</th>\n",
       "      <th>rating_M</th>\n",
       "      <th>rating_T</th>\n",
       "      <th>video_game_name_in_top_40</th>\n",
       "      <th>developer_in_top_25</th>\n",
       "      <th>genre_in_top_20</th>\n",
       "    </tr>\n",
       "  </thead>\n",
       "  <tbody>\n",
       "    <tr>\n",
       "      <th>0</th>\n",
       "      <td>developed by the creators of grand theft auto ...</td>\n",
       "      <td>32</td>\n",
       "      <td>97</td>\n",
       "      <td>8.6</td>\n",
       "      <td>this site is a joke this the first time when i...</td>\n",
       "      <td>9</td>\n",
       "      <td>1</td>\n",
       "      <td>1</td>\n",
       "      <td>0</td>\n",
       "      <td>0</td>\n",
       "      <td>0</td>\n",
       "      <td>0</td>\n",
       "      <td>0</td>\n",
       "      <td>1</td>\n",
       "      <td>0</td>\n",
       "      <td>1</td>\n",
       "      <td>1</td>\n",
       "      <td>1</td>\n",
       "    </tr>\n",
       "    <tr>\n",
       "      <th>1</th>\n",
       "      <td>developed by the creators of grand theft auto ...</td>\n",
       "      <td>32</td>\n",
       "      <td>97</td>\n",
       "      <td>8.6</td>\n",
       "      <td>fair review of rdr2 im almost &lt;number&gt; finishe...</td>\n",
       "      <td>7</td>\n",
       "      <td>1</td>\n",
       "      <td>1</td>\n",
       "      <td>0</td>\n",
       "      <td>0</td>\n",
       "      <td>0</td>\n",
       "      <td>0</td>\n",
       "      <td>0</td>\n",
       "      <td>1</td>\n",
       "      <td>0</td>\n",
       "      <td>1</td>\n",
       "      <td>1</td>\n",
       "      <td>1</td>\n",
       "    </tr>\n",
       "    <tr>\n",
       "      <th>2</th>\n",
       "      <td>developed by the creators of grand theft auto ...</td>\n",
       "      <td>32</td>\n",
       "      <td>97</td>\n",
       "      <td>8.6</td>\n",
       "      <td>i really wanted to love it the overworld is be...</td>\n",
       "      <td>6</td>\n",
       "      <td>1</td>\n",
       "      <td>1</td>\n",
       "      <td>0</td>\n",
       "      <td>0</td>\n",
       "      <td>0</td>\n",
       "      <td>0</td>\n",
       "      <td>0</td>\n",
       "      <td>1</td>\n",
       "      <td>0</td>\n",
       "      <td>1</td>\n",
       "      <td>1</td>\n",
       "      <td>1</td>\n",
       "    </tr>\n",
       "  </tbody>\n",
       "</table>\n",
       "</div>"
      ],
      "text/plain": [
       "                                             summary  num_players  \\\n",
       "0  developed by the creators of grand theft auto ...           32   \n",
       "1  developed by the creators of grand theft auto ...           32   \n",
       "2  developed by the creators of grand theft auto ...           32   \n",
       "\n",
       "   critic_score  avg_user_score  \\\n",
       "0            97             8.6   \n",
       "1            97             8.6   \n",
       "2            97             8.6   \n",
       "\n",
       "                                         user_review  user_score  target  \\\n",
       "0  this site is a joke this the first time when i...           9       1   \n",
       "1  fair review of rdr2 im almost <number> finishe...           7       1   \n",
       "2  i really wanted to love it the overworld is be...           6       1   \n",
       "\n",
       "   console_ps4  console_ps5  console_switch  console_xbox-series-x  \\\n",
       "0            1            0               0                      0   \n",
       "1            1            0               0                      0   \n",
       "2            1            0               0                      0   \n",
       "\n",
       "   console_xboxone  rating_E10+  rating_M  rating_T  \\\n",
       "0                0            0         1         0   \n",
       "1                0            0         1         0   \n",
       "2                0            0         1         0   \n",
       "\n",
       "   video_game_name_in_top_40  developer_in_top_25  genre_in_top_20  \n",
       "0                          1                    1                1  \n",
       "1                          1                    1                1  \n",
       "2                          1                    1                1  "
      ]
     },
     "execution_count": 43,
     "metadata": {},
     "output_type": "execute_result"
    }
   ],
   "source": [
    "# save df for further NLP like stem/lemmatizing\n",
    "final_reviews_df.to_csv('../data/df_for_further_nlp.csv', index=False)\n",
    "final_reviews_df.head(3)"
   ]
  },
  {
   "cell_type": "code",
   "execution_count": 44,
   "id": "22369d31",
   "metadata": {
    "scrolled": false
   },
   "outputs": [],
   "source": [
    " final_reviews_df = final_reviews_df.drop(columns=['summary', 'user_review']).join(combined_df)"
   ]
  },
  {
   "cell_type": "code",
   "execution_count": 45,
   "id": "d8b839c6",
   "metadata": {},
   "outputs": [
    {
     "data": {
      "text/html": [
       "<div>\n",
       "<style scoped>\n",
       "    .dataframe tbody tr th:only-of-type {\n",
       "        vertical-align: middle;\n",
       "    }\n",
       "\n",
       "    .dataframe tbody tr th {\n",
       "        vertical-align: top;\n",
       "    }\n",
       "\n",
       "    .dataframe thead th {\n",
       "        text-align: right;\n",
       "    }\n",
       "</style>\n",
       "<table border=\"1\" class=\"dataframe\">\n",
       "  <thead>\n",
       "    <tr style=\"text-align: right;\">\n",
       "      <th></th>\n",
       "      <th>num_players</th>\n",
       "      <th>critic_score</th>\n",
       "      <th>avg_user_score</th>\n",
       "      <th>user_score</th>\n",
       "      <th>target</th>\n",
       "      <th>console_ps4</th>\n",
       "      <th>console_ps5</th>\n",
       "      <th>console_switch</th>\n",
       "      <th>console_xbox-series-x</th>\n",
       "      <th>console_xboxone</th>\n",
       "      <th>...</th>\n",
       "      <th>souls</th>\n",
       "      <th>story</th>\n",
       "      <th>thing</th>\n",
       "      <th>things</th>\n",
       "      <th>think</th>\n",
       "      <th>time</th>\n",
       "      <th>times</th>\n",
       "      <th>want</th>\n",
       "      <th>way</th>\n",
       "      <th>world</th>\n",
       "    </tr>\n",
       "  </thead>\n",
       "  <tbody>\n",
       "    <tr>\n",
       "      <th>0</th>\n",
       "      <td>32</td>\n",
       "      <td>97</td>\n",
       "      <td>8.6</td>\n",
       "      <td>9</td>\n",
       "      <td>1</td>\n",
       "      <td>1</td>\n",
       "      <td>0</td>\n",
       "      <td>0</td>\n",
       "      <td>0</td>\n",
       "      <td>0</td>\n",
       "      <td>...</td>\n",
       "      <td>0.0</td>\n",
       "      <td>0.000000</td>\n",
       "      <td>0.000000</td>\n",
       "      <td>0.000000</td>\n",
       "      <td>0.000000</td>\n",
       "      <td>0.487782</td>\n",
       "      <td>0.000000</td>\n",
       "      <td>0.000000</td>\n",
       "      <td>0.000000</td>\n",
       "      <td>0.000000</td>\n",
       "    </tr>\n",
       "    <tr>\n",
       "      <th>1</th>\n",
       "      <td>32</td>\n",
       "      <td>97</td>\n",
       "      <td>8.6</td>\n",
       "      <td>7</td>\n",
       "      <td>1</td>\n",
       "      <td>1</td>\n",
       "      <td>0</td>\n",
       "      <td>0</td>\n",
       "      <td>0</td>\n",
       "      <td>0</td>\n",
       "      <td>...</td>\n",
       "      <td>0.0</td>\n",
       "      <td>0.062584</td>\n",
       "      <td>0.000000</td>\n",
       "      <td>0.195353</td>\n",
       "      <td>0.000000</td>\n",
       "      <td>0.217961</td>\n",
       "      <td>0.101365</td>\n",
       "      <td>0.190463</td>\n",
       "      <td>0.346986</td>\n",
       "      <td>0.162609</td>\n",
       "    </tr>\n",
       "    <tr>\n",
       "      <th>2</th>\n",
       "      <td>32</td>\n",
       "      <td>97</td>\n",
       "      <td>8.6</td>\n",
       "      <td>6</td>\n",
       "      <td>1</td>\n",
       "      <td>1</td>\n",
       "      <td>0</td>\n",
       "      <td>0</td>\n",
       "      <td>0</td>\n",
       "      <td>0</td>\n",
       "      <td>...</td>\n",
       "      <td>0.0</td>\n",
       "      <td>0.000000</td>\n",
       "      <td>0.000000</td>\n",
       "      <td>0.000000</td>\n",
       "      <td>0.000000</td>\n",
       "      <td>0.000000</td>\n",
       "      <td>0.000000</td>\n",
       "      <td>0.000000</td>\n",
       "      <td>0.000000</td>\n",
       "      <td>0.000000</td>\n",
       "    </tr>\n",
       "    <tr>\n",
       "      <th>3</th>\n",
       "      <td>32</td>\n",
       "      <td>97</td>\n",
       "      <td>8.6</td>\n",
       "      <td>7</td>\n",
       "      <td>1</td>\n",
       "      <td>1</td>\n",
       "      <td>0</td>\n",
       "      <td>0</td>\n",
       "      <td>0</td>\n",
       "      <td>0</td>\n",
       "      <td>...</td>\n",
       "      <td>0.0</td>\n",
       "      <td>0.000000</td>\n",
       "      <td>0.000000</td>\n",
       "      <td>0.000000</td>\n",
       "      <td>0.000000</td>\n",
       "      <td>0.328686</td>\n",
       "      <td>0.000000</td>\n",
       "      <td>0.000000</td>\n",
       "      <td>0.000000</td>\n",
       "      <td>0.000000</td>\n",
       "    </tr>\n",
       "    <tr>\n",
       "      <th>4</th>\n",
       "      <td>32</td>\n",
       "      <td>97</td>\n",
       "      <td>8.6</td>\n",
       "      <td>7</td>\n",
       "      <td>1</td>\n",
       "      <td>1</td>\n",
       "      <td>0</td>\n",
       "      <td>0</td>\n",
       "      <td>0</td>\n",
       "      <td>0</td>\n",
       "      <td>...</td>\n",
       "      <td>0.0</td>\n",
       "      <td>0.242787</td>\n",
       "      <td>0.390407</td>\n",
       "      <td>0.000000</td>\n",
       "      <td>0.000000</td>\n",
       "      <td>0.281853</td>\n",
       "      <td>0.000000</td>\n",
       "      <td>0.000000</td>\n",
       "      <td>0.000000</td>\n",
       "      <td>0.000000</td>\n",
       "    </tr>\n",
       "    <tr>\n",
       "      <th>...</th>\n",
       "      <td>...</td>\n",
       "      <td>...</td>\n",
       "      <td>...</td>\n",
       "      <td>...</td>\n",
       "      <td>...</td>\n",
       "      <td>...</td>\n",
       "      <td>...</td>\n",
       "      <td>...</td>\n",
       "      <td>...</td>\n",
       "      <td>...</td>\n",
       "      <td>...</td>\n",
       "      <td>...</td>\n",
       "      <td>...</td>\n",
       "      <td>...</td>\n",
       "      <td>...</td>\n",
       "      <td>...</td>\n",
       "      <td>...</td>\n",
       "      <td>...</td>\n",
       "      <td>...</td>\n",
       "      <td>...</td>\n",
       "      <td>...</td>\n",
       "    </tr>\n",
       "    <tr>\n",
       "      <th>94330</th>\n",
       "      <td>1</td>\n",
       "      <td>78</td>\n",
       "      <td>6.8</td>\n",
       "      <td>7</td>\n",
       "      <td>0</td>\n",
       "      <td>0</td>\n",
       "      <td>1</td>\n",
       "      <td>0</td>\n",
       "      <td>0</td>\n",
       "      <td>0</td>\n",
       "      <td>...</td>\n",
       "      <td>0.0</td>\n",
       "      <td>0.000000</td>\n",
       "      <td>0.000000</td>\n",
       "      <td>0.000000</td>\n",
       "      <td>0.788248</td>\n",
       "      <td>0.000000</td>\n",
       "      <td>0.000000</td>\n",
       "      <td>0.000000</td>\n",
       "      <td>0.000000</td>\n",
       "      <td>0.000000</td>\n",
       "    </tr>\n",
       "    <tr>\n",
       "      <th>94331</th>\n",
       "      <td>1</td>\n",
       "      <td>78</td>\n",
       "      <td>7.9</td>\n",
       "      <td>10</td>\n",
       "      <td>0</td>\n",
       "      <td>0</td>\n",
       "      <td>1</td>\n",
       "      <td>0</td>\n",
       "      <td>0</td>\n",
       "      <td>0</td>\n",
       "      <td>...</td>\n",
       "      <td>0.0</td>\n",
       "      <td>0.000000</td>\n",
       "      <td>0.000000</td>\n",
       "      <td>0.000000</td>\n",
       "      <td>0.000000</td>\n",
       "      <td>0.000000</td>\n",
       "      <td>0.000000</td>\n",
       "      <td>0.000000</td>\n",
       "      <td>0.000000</td>\n",
       "      <td>0.000000</td>\n",
       "    </tr>\n",
       "    <tr>\n",
       "      <th>94332</th>\n",
       "      <td>1</td>\n",
       "      <td>78</td>\n",
       "      <td>7.9</td>\n",
       "      <td>10</td>\n",
       "      <td>0</td>\n",
       "      <td>0</td>\n",
       "      <td>1</td>\n",
       "      <td>0</td>\n",
       "      <td>0</td>\n",
       "      <td>0</td>\n",
       "      <td>...</td>\n",
       "      <td>0.0</td>\n",
       "      <td>0.000000</td>\n",
       "      <td>0.000000</td>\n",
       "      <td>0.000000</td>\n",
       "      <td>0.000000</td>\n",
       "      <td>0.000000</td>\n",
       "      <td>0.000000</td>\n",
       "      <td>0.000000</td>\n",
       "      <td>0.000000</td>\n",
       "      <td>0.000000</td>\n",
       "    </tr>\n",
       "    <tr>\n",
       "      <th>94333</th>\n",
       "      <td>1</td>\n",
       "      <td>78</td>\n",
       "      <td>7.9</td>\n",
       "      <td>10</td>\n",
       "      <td>0</td>\n",
       "      <td>0</td>\n",
       "      <td>1</td>\n",
       "      <td>0</td>\n",
       "      <td>0</td>\n",
       "      <td>0</td>\n",
       "      <td>...</td>\n",
       "      <td>0.0</td>\n",
       "      <td>0.000000</td>\n",
       "      <td>0.000000</td>\n",
       "      <td>0.000000</td>\n",
       "      <td>0.000000</td>\n",
       "      <td>0.000000</td>\n",
       "      <td>0.000000</td>\n",
       "      <td>0.000000</td>\n",
       "      <td>0.000000</td>\n",
       "      <td>0.000000</td>\n",
       "    </tr>\n",
       "    <tr>\n",
       "      <th>94334</th>\n",
       "      <td>1</td>\n",
       "      <td>78</td>\n",
       "      <td>7.9</td>\n",
       "      <td>9</td>\n",
       "      <td>0</td>\n",
       "      <td>0</td>\n",
       "      <td>1</td>\n",
       "      <td>0</td>\n",
       "      <td>0</td>\n",
       "      <td>0</td>\n",
       "      <td>...</td>\n",
       "      <td>0.0</td>\n",
       "      <td>0.144874</td>\n",
       "      <td>0.232960</td>\n",
       "      <td>0.000000</td>\n",
       "      <td>0.218607</td>\n",
       "      <td>0.000000</td>\n",
       "      <td>0.000000</td>\n",
       "      <td>0.000000</td>\n",
       "      <td>0.000000</td>\n",
       "      <td>0.000000</td>\n",
       "    </tr>\n",
       "  </tbody>\n",
       "</table>\n",
       "<p>94335 rows × 116 columns</p>\n",
       "</div>"
      ],
      "text/plain": [
       "       num_players  critic_score  avg_user_score  user_score  target  \\\n",
       "0               32            97             8.6           9       1   \n",
       "1               32            97             8.6           7       1   \n",
       "2               32            97             8.6           6       1   \n",
       "3               32            97             8.6           7       1   \n",
       "4               32            97             8.6           7       1   \n",
       "...            ...           ...             ...         ...     ...   \n",
       "94330            1            78             6.8           7       0   \n",
       "94331            1            78             7.9          10       0   \n",
       "94332            1            78             7.9          10       0   \n",
       "94333            1            78             7.9          10       0   \n",
       "94334            1            78             7.9           9       0   \n",
       "\n",
       "       console_ps4  console_ps5  console_switch  console_xbox-series-x  \\\n",
       "0                1            0               0                      0   \n",
       "1                1            0               0                      0   \n",
       "2                1            0               0                      0   \n",
       "3                1            0               0                      0   \n",
       "4                1            0               0                      0   \n",
       "...            ...          ...             ...                    ...   \n",
       "94330            0            1               0                      0   \n",
       "94331            0            1               0                      0   \n",
       "94332            0            1               0                      0   \n",
       "94333            0            1               0                      0   \n",
       "94334            0            1               0                      0   \n",
       "\n",
       "       console_xboxone  ...  souls     story     thing    things     think  \\\n",
       "0                    0  ...    0.0  0.000000  0.000000  0.000000  0.000000   \n",
       "1                    0  ...    0.0  0.062584  0.000000  0.195353  0.000000   \n",
       "2                    0  ...    0.0  0.000000  0.000000  0.000000  0.000000   \n",
       "3                    0  ...    0.0  0.000000  0.000000  0.000000  0.000000   \n",
       "4                    0  ...    0.0  0.242787  0.390407  0.000000  0.000000   \n",
       "...                ...  ...    ...       ...       ...       ...       ...   \n",
       "94330                0  ...    0.0  0.000000  0.000000  0.000000  0.788248   \n",
       "94331                0  ...    0.0  0.000000  0.000000  0.000000  0.000000   \n",
       "94332                0  ...    0.0  0.000000  0.000000  0.000000  0.000000   \n",
       "94333                0  ...    0.0  0.000000  0.000000  0.000000  0.000000   \n",
       "94334                0  ...    0.0  0.144874  0.232960  0.000000  0.218607   \n",
       "\n",
       "           time     times      want       way     world  \n",
       "0      0.487782  0.000000  0.000000  0.000000  0.000000  \n",
       "1      0.217961  0.101365  0.190463  0.346986  0.162609  \n",
       "2      0.000000  0.000000  0.000000  0.000000  0.000000  \n",
       "3      0.328686  0.000000  0.000000  0.000000  0.000000  \n",
       "4      0.281853  0.000000  0.000000  0.000000  0.000000  \n",
       "...         ...       ...       ...       ...       ...  \n",
       "94330  0.000000  0.000000  0.000000  0.000000  0.000000  \n",
       "94331  0.000000  0.000000  0.000000  0.000000  0.000000  \n",
       "94332  0.000000  0.000000  0.000000  0.000000  0.000000  \n",
       "94333  0.000000  0.000000  0.000000  0.000000  0.000000  \n",
       "94334  0.000000  0.000000  0.000000  0.000000  0.000000  \n",
       "\n",
       "[94335 rows x 116 columns]"
      ]
     },
     "execution_count": 45,
     "metadata": {},
     "output_type": "execute_result"
    }
   ],
   "source": [
    "final_reviews_df"
   ]
  },
  {
   "cell_type": "markdown",
   "id": "5ea56d23",
   "metadata": {},
   "source": [
    "## Let's take a look at our target columns and address any imbalance present"
   ]
  },
  {
   "cell_type": "code",
   "execution_count": 46,
   "id": "c1a2a74b",
   "metadata": {},
   "outputs": [
    {
     "data": {
      "text/plain": [
       "1    54451\n",
       "0    39884\n",
       "Name: target, dtype: int64"
      ]
     },
     "execution_count": 46,
     "metadata": {},
     "output_type": "execute_result"
    }
   ],
   "source": [
    "final_reviews_df.target.value_counts()"
   ]
  },
  {
   "cell_type": "markdown",
   "id": "34e6bf6d",
   "metadata": {},
   "source": [
    "### Our targets are a bit imbalanced, with over 10k more 1s than 0s (above/below median avg_user_score). To combat this we are going to down sample rows with target of 1 to get a balanced target."
   ]
  },
  {
   "cell_type": "code",
   "execution_count": 47,
   "id": "1521f33f",
   "metadata": {},
   "outputs": [],
   "source": [
    "# randomly sample the same number of rows above target to get equal number of rows with below target \n",
    "random_target_1s = final_reviews_df[final_reviews_df.target == 1].sample(n=39884, replace=True)"
   ]
  },
  {
   "cell_type": "code",
   "execution_count": 48,
   "id": "4d7f1213",
   "metadata": {},
   "outputs": [],
   "source": [
    "# drop rows where target = 1\n",
    "final_reviews_df.drop(final_reviews_df[final_reviews_df.target == 1].index, inplace=True)"
   ]
  },
  {
   "cell_type": "code",
   "execution_count": 49,
   "id": "d53a9067",
   "metadata": {},
   "outputs": [],
   "source": [
    "final_df_modeling = pd.concat([final_reviews_df, random_target_1s], ignore_index=True)"
   ]
  },
  {
   "cell_type": "code",
   "execution_count": 50,
   "id": "22fc81ef",
   "metadata": {},
   "outputs": [
    {
     "data": {
      "text/html": [
       "<div>\n",
       "<style scoped>\n",
       "    .dataframe tbody tr th:only-of-type {\n",
       "        vertical-align: middle;\n",
       "    }\n",
       "\n",
       "    .dataframe tbody tr th {\n",
       "        vertical-align: top;\n",
       "    }\n",
       "\n",
       "    .dataframe thead th {\n",
       "        text-align: right;\n",
       "    }\n",
       "</style>\n",
       "<table border=\"1\" class=\"dataframe\">\n",
       "  <thead>\n",
       "    <tr style=\"text-align: right;\">\n",
       "      <th></th>\n",
       "      <th>num_players</th>\n",
       "      <th>critic_score</th>\n",
       "      <th>avg_user_score</th>\n",
       "      <th>user_score</th>\n",
       "      <th>target</th>\n",
       "      <th>console_ps4</th>\n",
       "      <th>console_ps5</th>\n",
       "      <th>console_switch</th>\n",
       "      <th>console_xbox-series-x</th>\n",
       "      <th>console_xboxone</th>\n",
       "      <th>...</th>\n",
       "      <th>souls</th>\n",
       "      <th>story</th>\n",
       "      <th>thing</th>\n",
       "      <th>things</th>\n",
       "      <th>think</th>\n",
       "      <th>time</th>\n",
       "      <th>times</th>\n",
       "      <th>want</th>\n",
       "      <th>way</th>\n",
       "      <th>world</th>\n",
       "    </tr>\n",
       "  </thead>\n",
       "  <tbody>\n",
       "    <tr>\n",
       "      <th>0</th>\n",
       "      <td>30</td>\n",
       "      <td>97</td>\n",
       "      <td>8.3</td>\n",
       "      <td>6</td>\n",
       "      <td>0</td>\n",
       "      <td>1</td>\n",
       "      <td>0</td>\n",
       "      <td>0</td>\n",
       "      <td>0</td>\n",
       "      <td>0</td>\n",
       "      <td>...</td>\n",
       "      <td>0.0</td>\n",
       "      <td>0.000000</td>\n",
       "      <td>0.0</td>\n",
       "      <td>0.000000</td>\n",
       "      <td>0.0</td>\n",
       "      <td>0.000000</td>\n",
       "      <td>0.000000</td>\n",
       "      <td>0.0</td>\n",
       "      <td>0.000000</td>\n",
       "      <td>0.0</td>\n",
       "    </tr>\n",
       "    <tr>\n",
       "      <th>1</th>\n",
       "      <td>30</td>\n",
       "      <td>97</td>\n",
       "      <td>8.3</td>\n",
       "      <td>10</td>\n",
       "      <td>0</td>\n",
       "      <td>1</td>\n",
       "      <td>0</td>\n",
       "      <td>0</td>\n",
       "      <td>0</td>\n",
       "      <td>0</td>\n",
       "      <td>...</td>\n",
       "      <td>0.0</td>\n",
       "      <td>0.000000</td>\n",
       "      <td>0.0</td>\n",
       "      <td>0.417952</td>\n",
       "      <td>0.0</td>\n",
       "      <td>0.000000</td>\n",
       "      <td>0.000000</td>\n",
       "      <td>0.0</td>\n",
       "      <td>0.000000</td>\n",
       "      <td>0.0</td>\n",
       "    </tr>\n",
       "    <tr>\n",
       "      <th>2</th>\n",
       "      <td>30</td>\n",
       "      <td>97</td>\n",
       "      <td>8.3</td>\n",
       "      <td>7</td>\n",
       "      <td>0</td>\n",
       "      <td>1</td>\n",
       "      <td>0</td>\n",
       "      <td>0</td>\n",
       "      <td>0</td>\n",
       "      <td>0</td>\n",
       "      <td>...</td>\n",
       "      <td>0.0</td>\n",
       "      <td>0.147287</td>\n",
       "      <td>0.0</td>\n",
       "      <td>0.229875</td>\n",
       "      <td>0.0</td>\n",
       "      <td>0.170985</td>\n",
       "      <td>0.000000</td>\n",
       "      <td>0.0</td>\n",
       "      <td>0.000000</td>\n",
       "      <td>0.0</td>\n",
       "    </tr>\n",
       "    <tr>\n",
       "      <th>3</th>\n",
       "      <td>30</td>\n",
       "      <td>97</td>\n",
       "      <td>8.3</td>\n",
       "      <td>10</td>\n",
       "      <td>0</td>\n",
       "      <td>1</td>\n",
       "      <td>0</td>\n",
       "      <td>0</td>\n",
       "      <td>0</td>\n",
       "      <td>0</td>\n",
       "      <td>...</td>\n",
       "      <td>0.0</td>\n",
       "      <td>0.000000</td>\n",
       "      <td>0.0</td>\n",
       "      <td>0.637094</td>\n",
       "      <td>0.0</td>\n",
       "      <td>0.000000</td>\n",
       "      <td>0.000000</td>\n",
       "      <td>0.0</td>\n",
       "      <td>0.000000</td>\n",
       "      <td>0.0</td>\n",
       "    </tr>\n",
       "    <tr>\n",
       "      <th>4</th>\n",
       "      <td>30</td>\n",
       "      <td>97</td>\n",
       "      <td>8.3</td>\n",
       "      <td>4</td>\n",
       "      <td>0</td>\n",
       "      <td>1</td>\n",
       "      <td>0</td>\n",
       "      <td>0</td>\n",
       "      <td>0</td>\n",
       "      <td>0</td>\n",
       "      <td>...</td>\n",
       "      <td>0.0</td>\n",
       "      <td>0.000000</td>\n",
       "      <td>0.0</td>\n",
       "      <td>0.000000</td>\n",
       "      <td>0.0</td>\n",
       "      <td>0.000000</td>\n",
       "      <td>0.204101</td>\n",
       "      <td>0.0</td>\n",
       "      <td>0.174666</td>\n",
       "      <td>0.0</td>\n",
       "    </tr>\n",
       "  </tbody>\n",
       "</table>\n",
       "<p>5 rows × 116 columns</p>\n",
       "</div>"
      ],
      "text/plain": [
       "   num_players  critic_score  avg_user_score  user_score  target  console_ps4  \\\n",
       "0           30            97             8.3           6       0            1   \n",
       "1           30            97             8.3          10       0            1   \n",
       "2           30            97             8.3           7       0            1   \n",
       "3           30            97             8.3          10       0            1   \n",
       "4           30            97             8.3           4       0            1   \n",
       "\n",
       "   console_ps5  console_switch  console_xbox-series-x  console_xboxone  ...  \\\n",
       "0            0               0                      0                0  ...   \n",
       "1            0               0                      0                0  ...   \n",
       "2            0               0                      0                0  ...   \n",
       "3            0               0                      0                0  ...   \n",
       "4            0               0                      0                0  ...   \n",
       "\n",
       "   souls     story  thing    things  think      time     times  want  \\\n",
       "0    0.0  0.000000    0.0  0.000000    0.0  0.000000  0.000000   0.0   \n",
       "1    0.0  0.000000    0.0  0.417952    0.0  0.000000  0.000000   0.0   \n",
       "2    0.0  0.147287    0.0  0.229875    0.0  0.170985  0.000000   0.0   \n",
       "3    0.0  0.000000    0.0  0.637094    0.0  0.000000  0.000000   0.0   \n",
       "4    0.0  0.000000    0.0  0.000000    0.0  0.000000  0.204101   0.0   \n",
       "\n",
       "        way  world  \n",
       "0  0.000000    0.0  \n",
       "1  0.000000    0.0  \n",
       "2  0.000000    0.0  \n",
       "3  0.000000    0.0  \n",
       "4  0.174666    0.0  \n",
       "\n",
       "[5 rows x 116 columns]"
      ]
     },
     "execution_count": 50,
     "metadata": {},
     "output_type": "execute_result"
    }
   ],
   "source": [
    "final_df_modeling.head()"
   ]
  },
  {
   "cell_type": "markdown",
   "id": "25ee1050",
   "metadata": {},
   "source": [
    "## Save the final dataframe for modeling to a .csv file"
   ]
  },
  {
   "cell_type": "code",
   "execution_count": 51,
   "id": "c1bf6893",
   "metadata": {},
   "outputs": [],
   "source": [
    "final_df_modeling.to_csv('../data/final_reviews_modeling.csv', index=False)"
   ]
  }
 ],
 "metadata": {
  "kernelspec": {
   "display_name": "Python 3 (ipykernel)",
   "language": "python",
   "name": "python3"
  },
  "language_info": {
   "codemirror_mode": {
    "name": "ipython",
    "version": 3
   },
   "file_extension": ".py",
   "mimetype": "text/x-python",
   "name": "python",
   "nbconvert_exporter": "python",
   "pygments_lexer": "ipython3",
   "version": "3.9.7"
  }
 },
 "nbformat": 4,
 "nbformat_minor": 5
}
